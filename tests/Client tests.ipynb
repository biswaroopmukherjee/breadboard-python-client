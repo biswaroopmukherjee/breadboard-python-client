{
 "cells": [
  {
   "cell_type": "code",
   "execution_count": 1,
   "metadata": {},
   "outputs": [],
   "source": [
    "# Include main project path in the system path for python\n",
    "import sys\n",
    "import os\n",
    "import re\n",
    "import pandas as pd\n",
    "import urllib\n",
    "from tabulate import tabulate\n",
    "import timeit\n",
    "from tqdm import tqdm_notebook as tqdm\n",
    "import re\n",
    "sys.path.insert( 0,os.path.abspath(os.path.join(os.getcwd(), '..')))\n",
    "\n",
    "# Import the breadboard module\n",
    "from breadboard import BreadboardClient"
   ]
  },
  {
   "cell_type": "markdown",
   "metadata": {},
   "source": [
    "## Get parameters for images"
   ]
  },
  {
   "cell_type": "code",
   "execution_count": 4,
   "metadata": {},
   "outputs": [],
   "source": [
    "# initialize the client\n",
    "bc = BreadboardClient(config_path='API_CONFIG.json', lab_name='bec1')"
   ]
  },
  {
   "cell_type": "code",
   "execution_count": 6,
   "metadata": {},
   "outputs": [],
   "source": [
    "imagenames = ['10-09-2018_00_27_44_TopA','10-09-2018_00_27_44_TopB']\n",
    "params = ['FB_field_13_V','ImagFreq0']\n",
    "# params = \"list_bound_only\"\n",
    "\n",
    "# df = bc.get_images_df(imagenames)\n",
    "df = bc.get_images_df(imagenames, params)\n",
    "# df = bc.get_images_df(imagenames, 'FB_field_13_V')"
   ]
  },
  {
   "cell_type": "code",
   "execution_count": 7,
   "metadata": {},
   "outputs": [
    {
     "data": {
      "text/html": [
       "<div>\n",
       "<style scoped>\n",
       "    .dataframe tbody tr th:only-of-type {\n",
       "        vertical-align: middle;\n",
       "    }\n",
       "\n",
       "    .dataframe tbody tr th {\n",
       "        vertical-align: top;\n",
       "    }\n",
       "\n",
       "    .dataframe thead th {\n",
       "        text-align: right;\n",
       "    }\n",
       "</style>\n",
       "<table border=\"1\" class=\"dataframe\">\n",
       "  <thead>\n",
       "    <tr style=\"text-align: right;\">\n",
       "      <th></th>\n",
       "      <th>imagename</th>\n",
       "      <th>x</th>\n",
       "      <th>FB_field_13_V</th>\n",
       "      <th>ImagFreq0</th>\n",
       "      <th>unixtime</th>\n",
       "    </tr>\n",
       "  </thead>\n",
       "  <tbody>\n",
       "    <tr>\n",
       "      <th>0</th>\n",
       "      <td>10-09-2018_00_27_44_TopA</td>\n",
       "      <td>1.539045e+09</td>\n",
       "      <td>3.774</td>\n",
       "      <td>193.95</td>\n",
       "      <td>1.539045e+09</td>\n",
       "    </tr>\n",
       "    <tr>\n",
       "      <th>1</th>\n",
       "      <td>10-09-2018_00_27_44_TopB</td>\n",
       "      <td>1.539045e+09</td>\n",
       "      <td>3.774</td>\n",
       "      <td>193.95</td>\n",
       "      <td>1.539045e+09</td>\n",
       "    </tr>\n",
       "  </tbody>\n",
       "</table>\n",
       "</div>"
      ],
      "text/plain": [
       "                  imagename             x  FB_field_13_V  ImagFreq0  \\\n",
       "0  10-09-2018_00_27_44_TopA  1.539045e+09          3.774     193.95   \n",
       "1  10-09-2018_00_27_44_TopB  1.539045e+09          3.774     193.95   \n",
       "\n",
       "       unixtime  \n",
       "0  1.539045e+09  \n",
       "1  1.539045e+09  "
      ]
     },
     "execution_count": 7,
     "metadata": {},
     "output_type": "execute_result"
    }
   ],
   "source": [
    "df.head()"
   ]
  },
  {
   "cell_type": "code",
   "execution_count": 8,
   "metadata": {},
   "outputs": [
    {
     "data": {
      "text/plain": [
       "'|    | imagename                |           x |   FB_field_13_V |   ImagFreq0 |    unixtime |\\n|---:|:-------------------------|------------:|----------------:|------------:|------------:|\\n|  0 | 10-09-2018_00_27_44_TopA | 1.53904e+09 |           3.774 |      193.95 | 1.53904e+09 |\\n|  1 | 10-09-2018_00_27_44_TopB | 1.53904e+09 |           3.774 |      193.95 | 1.53904e+09 |'"
      ]
     },
     "execution_count": 8,
     "metadata": {},
     "output_type": "execute_result"
    }
   ],
   "source": [
    "tabulate(df, tablefmt=\"pipe\", headers=\"keys\")"
   ]
  },
  {
   "cell_type": "markdown",
   "metadata": {
    "code_folding": []
   },
   "source": [
    "note: the API does some caching so the data might be a little outdated"
   ]
  },
  {
   "cell_type": "markdown",
   "metadata": {},
   "source": [
    "## Update notes for a single image"
   ]
  },
  {
   "cell_type": "code",
   "execution_count": 6,
   "metadata": {},
   "outputs": [],
   "source": [
    "params_update  = {\n",
    "            'notes': \"test\",\n",
    "            'pixel_size': 2\n",
    "        }"
   ]
  },
  {
   "cell_type": "code",
   "execution_count": 7,
   "metadata": {},
   "outputs": [],
   "source": [
    "resp = bc.update_image( df.at[0,'id'],df.at[0,'imagename'], params_update)"
   ]
  },
  {
   "cell_type": "code",
   "execution_count": 8,
   "metadata": {},
   "outputs": [
    {
     "data": {
      "text/plain": [
       "200"
      ]
     },
     "execution_count": 8,
     "metadata": {},
     "output_type": "execute_result"
    }
   ],
   "source": [
    "resp.status_code"
   ]
  },
  {
   "cell_type": "markdown",
   "metadata": {},
   "source": [
    "## Fermi 3 tests"
   ]
  },
  {
   "cell_type": "code",
   "execution_count": 2,
   "metadata": {},
   "outputs": [],
   "source": [
    "# initialize the client\n",
    "bc = BreadboardClient(config_path='API_CONFIG_2.json')"
   ]
  },
  {
   "cell_type": "code",
   "execution_count": 3,
   "metadata": {
    "scrolled": false
   },
   "outputs": [
    {
     "data": {
      "text/html": [
       "<div>\n",
       "<style scoped>\n",
       "    .dataframe tbody tr th:only-of-type {\n",
       "        vertical-align: middle;\n",
       "    }\n",
       "\n",
       "    .dataframe tbody tr th {\n",
       "        vertical-align: top;\n",
       "    }\n",
       "\n",
       "    .dataframe thead th {\n",
       "        text-align: right;\n",
       "    }\n",
       "</style>\n",
       "<table border=\"1\" class=\"dataframe\">\n",
       "  <thead>\n",
       "    <tr style=\"text-align: right;\">\n",
       "      <th></th>\n",
       "      <th>imagename</th>\n",
       "      <th>x</th>\n",
       "      <th>unixtime</th>\n",
       "      <th>reWhirrFreq</th>\n",
       "      <th>holdTime</th>\n",
       "      <th>TOF</th>\n",
       "      <th>accordionHoldSpacing</th>\n",
       "      <th>evapEndTOPMHz</th>\n",
       "    </tr>\n",
       "  </thead>\n",
       "  <tbody>\n",
       "    <tr>\n",
       "      <th>0</th>\n",
       "      <td>2029-02-27_20-28-25_SensicamQE</td>\n",
       "      <td>NaN</td>\n",
       "      <td>6.152400e+06</td>\n",
       "      <td>NaN</td>\n",
       "      <td>NaN</td>\n",
       "      <td>NaN</td>\n",
       "      <td>NaN</td>\n",
       "      <td>NaN</td>\n",
       "    </tr>\n",
       "    <tr>\n",
       "      <th>1</th>\n",
       "      <td>2019-02-27_20-32-42_SensicamQE</td>\n",
       "      <td>4.725</td>\n",
       "      <td>1.551300e+09</td>\n",
       "      <td>4.725</td>\n",
       "      <td>10.0</td>\n",
       "      <td>0.0</td>\n",
       "      <td>4.4</td>\n",
       "      <td>1777.0</td>\n",
       "    </tr>\n",
       "  </tbody>\n",
       "</table>\n",
       "</div>"
      ],
      "text/plain": [
       "                        imagename      x      unixtime  reWhirrFreq  holdTime  \\\n",
       "0  2029-02-27_20-28-25_SensicamQE    NaN  6.152400e+06          NaN       NaN   \n",
       "1  2019-02-27_20-32-42_SensicamQE  4.725  1.551300e+09        4.725      10.0   \n",
       "\n",
       "   TOF  accordionHoldSpacing  evapEndTOPMHz  \n",
       "0  NaN                   NaN            NaN  \n",
       "1  0.0                   4.4         1777.0  "
      ]
     },
     "execution_count": 3,
     "metadata": {},
     "output_type": "execute_result"
    }
   ],
   "source": [
    "df = bc.get_images_df(['2029-02-27_20-28-25_SensicamQE','2019-02-27_20-32-42_SensicamQE'], paramsin = \"list_bound_only\", xvar='reWhirrFreq')\n",
    "df.head()"
   ]
  },
  {
   "cell_type": "code",
   "execution_count": 30,
   "metadata": {},
   "outputs": [
    {
     "data": {
      "text/plain": [
       "'|    | imagename                      |     x |   reWhirrFreq |   holdTime |   TOF |   evapEndTOPMHz |   accordionHoldSpacing |   unixtime |\\n|---:|:-------------------------------|------:|--------------:|-----------:|------:|----------------:|-----------------------:|-----------:|\\n|  0 | 2019-02-27_20-28-25_SensicamQE | 4.725 |         4.725 |         10 |     0 |            1777 |                    4.4 | 1.5513e+09 |\\n|  1 | 2019-02-27_20-32-42_SensicamQE | 4.675 |         4.675 |         10 |     0 |            1777 |                    4.4 | 1.5513e+09 |'"
      ]
     },
     "execution_count": 30,
     "metadata": {},
     "output_type": "execute_result"
    }
   ],
   "source": [
    "tabulate(df, tablefmt=\"pipe\", headers=\"keys\")"
   ]
  },
  {
   "cell_type": "code",
   "execution_count": 12,
   "metadata": {},
   "outputs": [],
   "source": [
    "df = bc.get_images_df_clipboard(xvar='evapEndTOPMHz')"
   ]
  },
  {
   "cell_type": "code",
   "execution_count": 13,
   "metadata": {},
   "outputs": [
    {
     "data": {
      "text/html": [
       "<div>\n",
       "<style scoped>\n",
       "    .dataframe tbody tr th:only-of-type {\n",
       "        vertical-align: middle;\n",
       "    }\n",
       "\n",
       "    .dataframe tbody tr th {\n",
       "        vertical-align: top;\n",
       "    }\n",
       "\n",
       "    .dataframe thead th {\n",
       "        text-align: right;\n",
       "    }\n",
       "</style>\n",
       "<table border=\"1\" class=\"dataframe\">\n",
       "  <thead>\n",
       "    <tr style=\"text-align: right;\">\n",
       "      <th></th>\n",
       "      <th>imagename</th>\n",
       "      <th>x</th>\n",
       "      <th>unixtime</th>\n",
       "      <th>whirrFreq</th>\n",
       "      <th>reWhirrFreq</th>\n",
       "      <th>holdTime</th>\n",
       "      <th>accordionHoldSpacing</th>\n",
       "      <th>TOF</th>\n",
       "      <th>evapEndTOPMHz</th>\n",
       "      <th>reWhirrTime</th>\n",
       "    </tr>\n",
       "  </thead>\n",
       "  <tbody>\n",
       "    <tr>\n",
       "      <th>0</th>\n",
       "      <td>2019-03-13_14-28-44_SensicamQE</td>\n",
       "      <td>1777.9</td>\n",
       "      <td>1.552487e+09</td>\n",
       "      <td>4.54</td>\n",
       "      <td>4.75</td>\n",
       "      <td>245.0</td>\n",
       "      <td>4.4</td>\n",
       "      <td>0.0</td>\n",
       "      <td>1777.9</td>\n",
       "      <td>7.0</td>\n",
       "    </tr>\n",
       "    <tr>\n",
       "      <th>1</th>\n",
       "      <td>2019-03-13_14-28-13_SensicamQE</td>\n",
       "      <td>1777.8</td>\n",
       "      <td>1.552487e+09</td>\n",
       "      <td>4.54</td>\n",
       "      <td>4.75</td>\n",
       "      <td>245.0</td>\n",
       "      <td>4.4</td>\n",
       "      <td>0.0</td>\n",
       "      <td>1777.8</td>\n",
       "      <td>7.0</td>\n",
       "    </tr>\n",
       "    <tr>\n",
       "      <th>2</th>\n",
       "      <td>2019-03-13_14-27-33_SensicamQE</td>\n",
       "      <td>1777.7</td>\n",
       "      <td>1.552487e+09</td>\n",
       "      <td>4.54</td>\n",
       "      <td>4.75</td>\n",
       "      <td>245.0</td>\n",
       "      <td>4.4</td>\n",
       "      <td>0.0</td>\n",
       "      <td>1777.7</td>\n",
       "      <td>7.0</td>\n",
       "    </tr>\n",
       "    <tr>\n",
       "      <th>3</th>\n",
       "      <td>2019-03-13_14-27-03_SensicamQE</td>\n",
       "      <td>1777.6</td>\n",
       "      <td>1.552487e+09</td>\n",
       "      <td>4.54</td>\n",
       "      <td>4.75</td>\n",
       "      <td>245.0</td>\n",
       "      <td>4.4</td>\n",
       "      <td>0.0</td>\n",
       "      <td>1777.6</td>\n",
       "      <td>7.0</td>\n",
       "    </tr>\n",
       "    <tr>\n",
       "      <th>4</th>\n",
       "      <td>2019-03-13_14-26-23_SensicamQE</td>\n",
       "      <td>1777.5</td>\n",
       "      <td>1.552487e+09</td>\n",
       "      <td>4.54</td>\n",
       "      <td>4.75</td>\n",
       "      <td>245.0</td>\n",
       "      <td>4.4</td>\n",
       "      <td>0.0</td>\n",
       "      <td>1777.5</td>\n",
       "      <td>7.0</td>\n",
       "    </tr>\n",
       "    <tr>\n",
       "      <th>5</th>\n",
       "      <td>2019-03-13_14-25-53_SensicamQE</td>\n",
       "      <td>1777.4</td>\n",
       "      <td>1.552487e+09</td>\n",
       "      <td>4.54</td>\n",
       "      <td>4.75</td>\n",
       "      <td>245.0</td>\n",
       "      <td>4.4</td>\n",
       "      <td>0.0</td>\n",
       "      <td>1777.4</td>\n",
       "      <td>7.0</td>\n",
       "    </tr>\n",
       "    <tr>\n",
       "      <th>6</th>\n",
       "      <td>2019-03-13_14-25-13_SensicamQE</td>\n",
       "      <td>1777.3</td>\n",
       "      <td>1.552487e+09</td>\n",
       "      <td>4.54</td>\n",
       "      <td>4.75</td>\n",
       "      <td>245.0</td>\n",
       "      <td>4.4</td>\n",
       "      <td>0.0</td>\n",
       "      <td>1777.3</td>\n",
       "      <td>7.0</td>\n",
       "    </tr>\n",
       "    <tr>\n",
       "      <th>7</th>\n",
       "      <td>2019-03-13_14-24-43_SensicamQE</td>\n",
       "      <td>1777.2</td>\n",
       "      <td>1.552487e+09</td>\n",
       "      <td>4.54</td>\n",
       "      <td>4.75</td>\n",
       "      <td>245.0</td>\n",
       "      <td>4.4</td>\n",
       "      <td>0.0</td>\n",
       "      <td>1777.2</td>\n",
       "      <td>7.0</td>\n",
       "    </tr>\n",
       "    <tr>\n",
       "      <th>8</th>\n",
       "      <td>2019-03-13_14-24-03_SensicamQE</td>\n",
       "      <td>1777.1</td>\n",
       "      <td>1.552487e+09</td>\n",
       "      <td>4.54</td>\n",
       "      <td>4.75</td>\n",
       "      <td>245.0</td>\n",
       "      <td>4.4</td>\n",
       "      <td>0.0</td>\n",
       "      <td>1777.1</td>\n",
       "      <td>7.0</td>\n",
       "    </tr>\n",
       "    <tr>\n",
       "      <th>9</th>\n",
       "      <td>2019-03-13_14-23-33_SensicamQE</td>\n",
       "      <td>1777.0</td>\n",
       "      <td>1.552487e+09</td>\n",
       "      <td>4.54</td>\n",
       "      <td>4.75</td>\n",
       "      <td>245.0</td>\n",
       "      <td>4.4</td>\n",
       "      <td>0.0</td>\n",
       "      <td>1777.0</td>\n",
       "      <td>7.0</td>\n",
       "    </tr>\n",
       "    <tr>\n",
       "      <th>10</th>\n",
       "      <td>2019-03-13_14-22-53_SensicamQE</td>\n",
       "      <td>1776.9</td>\n",
       "      <td>1.552487e+09</td>\n",
       "      <td>4.54</td>\n",
       "      <td>4.75</td>\n",
       "      <td>245.0</td>\n",
       "      <td>4.4</td>\n",
       "      <td>0.0</td>\n",
       "      <td>1776.9</td>\n",
       "      <td>7.0</td>\n",
       "    </tr>\n",
       "  </tbody>\n",
       "</table>\n",
       "</div>"
      ],
      "text/plain": [
       "                         imagename       x      unixtime  whirrFreq  \\\n",
       "0   2019-03-13_14-28-44_SensicamQE  1777.9  1.552487e+09       4.54   \n",
       "1   2019-03-13_14-28-13_SensicamQE  1777.8  1.552487e+09       4.54   \n",
       "2   2019-03-13_14-27-33_SensicamQE  1777.7  1.552487e+09       4.54   \n",
       "3   2019-03-13_14-27-03_SensicamQE  1777.6  1.552487e+09       4.54   \n",
       "4   2019-03-13_14-26-23_SensicamQE  1777.5  1.552487e+09       4.54   \n",
       "5   2019-03-13_14-25-53_SensicamQE  1777.4  1.552487e+09       4.54   \n",
       "6   2019-03-13_14-25-13_SensicamQE  1777.3  1.552487e+09       4.54   \n",
       "7   2019-03-13_14-24-43_SensicamQE  1777.2  1.552487e+09       4.54   \n",
       "8   2019-03-13_14-24-03_SensicamQE  1777.1  1.552487e+09       4.54   \n",
       "9   2019-03-13_14-23-33_SensicamQE  1777.0  1.552487e+09       4.54   \n",
       "10  2019-03-13_14-22-53_SensicamQE  1776.9  1.552487e+09       4.54   \n",
       "\n",
       "    reWhirrFreq  holdTime  accordionHoldSpacing  TOF  evapEndTOPMHz  \\\n",
       "0          4.75     245.0                   4.4  0.0         1777.9   \n",
       "1          4.75     245.0                   4.4  0.0         1777.8   \n",
       "2          4.75     245.0                   4.4  0.0         1777.7   \n",
       "3          4.75     245.0                   4.4  0.0         1777.6   \n",
       "4          4.75     245.0                   4.4  0.0         1777.5   \n",
       "5          4.75     245.0                   4.4  0.0         1777.4   \n",
       "6          4.75     245.0                   4.4  0.0         1777.3   \n",
       "7          4.75     245.0                   4.4  0.0         1777.2   \n",
       "8          4.75     245.0                   4.4  0.0         1777.1   \n",
       "9          4.75     245.0                   4.4  0.0         1777.0   \n",
       "10         4.75     245.0                   4.4  0.0         1776.9   \n",
       "\n",
       "    reWhirrTime  \n",
       "0           7.0  \n",
       "1           7.0  \n",
       "2           7.0  \n",
       "3           7.0  \n",
       "4           7.0  \n",
       "5           7.0  \n",
       "6           7.0  \n",
       "7           7.0  \n",
       "8           7.0  \n",
       "9           7.0  \n",
       "10          7.0  "
      ]
     },
     "execution_count": 13,
     "metadata": {},
     "output_type": "execute_result"
    }
   ],
   "source": [
    "df"
   ]
  },
  {
   "cell_type": "code",
   "execution_count": 4,
   "metadata": {},
   "outputs": [
    {
     "data": {
      "text/plain": [
       "'|    | imagename                      |           x |   cropi |   atom |    unixtime |   total_atoms |   tags |   pixel_size |   id | notes   |   holdTime |   TOF |   reWhirrFreq |   filepath |   evapEndTOPMHz | created              |   accordionHoldSpacing | url                                              |   reWhirrTime |\\n|---:|:-------------------------------|------------:|--------:|-------:|------------:|--------------:|-------:|-------------:|-----:|:--------|-----------:|------:|--------------:|-----------:|----------------:|:---------------------|-----------------------:|:-------------------------------------------------|--------------:|\\n|  0 | 2019-03-04_15-36-22_SensicamQE | 1.55171e+09 |     nan |    nan | 1.55171e+09 |           nan |    nan |            3 |  635 | test    |        300 |     0 |          4.75 |        nan |            1777 | 2019-03-04T15:36:22Z |                    4.4 | http://breadboard-215702.appspot.com/images/635/ |             7 |\\n|  1 | 2019-03-04_15-35-52_SensicamQE | 1.55171e+09 |     nan |    nan | 1.55171e+09 |           nan |    nan |            3 |  636 | test    |        275 |     0 |          4.75 |        nan |            1777 | 2019-03-04T15:35:52Z |                    4.4 | http://breadboard-215702.appspot.com/images/636/ |             7 |'"
      ]
     },
     "execution_count": 4,
     "metadata": {},
     "output_type": "execute_result"
    }
   ],
   "source": [
    "tabulate(df, tablefmt=\"pipe\", headers=\"keys\")"
   ]
  },
  {
   "cell_type": "markdown",
   "metadata": {},
   "source": [
    "## tests on the raw json request"
   ]
  },
  {
   "cell_type": "code",
   "execution_count": 6,
   "metadata": {},
   "outputs": [],
   "source": [
    "resp = bc.post_images(pd.read_clipboard(header=None)[0].tolist(), force_match=True)"
   ]
  },
  {
   "cell_type": "code",
   "execution_count": 15,
   "metadata": {},
   "outputs": [
    {
     "ename": "NameError",
     "evalue": "name 'tqdm' is not defined",
     "output_type": "error",
     "traceback": [
      "\u001b[0;31m---------------------------------------------------------------------------\u001b[0m",
      "\u001b[0;31mNameError\u001b[0m                                 Traceback (most recent call last)",
      "\u001b[0;32m<ipython-input-15-f288ff9f5818>\u001b[0m in \u001b[0;36m<module>\u001b[0;34m\u001b[0m\n\u001b[0;32m----> 1\u001b[0;31m \u001b[0mtqdm\u001b[0m\u001b[0;34m\u001b[0m\u001b[0m\n\u001b[0m",
      "\u001b[0;31mNameError\u001b[0m: name 'tqdm' is not defined"
     ]
    }
   ],
   "source": []
  },
  {
   "cell_type": "markdown",
   "metadata": {},
   "source": [
    "## Test pagination "
   ]
  },
  {
   "cell_type": "code",
   "execution_count": 9,
   "metadata": {},
   "outputs": [],
   "source": [
    "# initialize the client\n",
    "bc = BreadboardClient(config_path='API_CONFIG.json', lab_name='fermi3')"
   ]
  },
  {
   "cell_type": "code",
   "execution_count": 20,
   "metadata": {},
   "outputs": [],
   "source": [
    "with open('test_pagination_imagepost.txt', 'r') as f:\n",
    "    out = f.readlines()\n",
    "    \n",
    "imagenames = [img[:-1] for img in out]\n",
    "\n",
    "# imagenames = imagenames[0]  # test a single image\n",
    "imagenames = imagenames[0:120]  # test a single page"
   ]
  },
  {
   "cell_type": "code",
   "execution_count": 14,
   "metadata": {},
   "outputs": [
    {
     "name": "stdout",
     "output_type": "stream",
     "text": [
      "status_code = 200\n",
      "number of objects returned = 1\n"
     ]
    }
   ],
   "source": [
    "# Test a direct single post query using imagenames\n",
    "resp = bc.post_images(imagenames, force_match=False)\n",
    "print('status_code = {}'.format(resp.status_code))\n",
    "print('number of objects returned = {}'.format(len(resp.json().get('results'))))"
   ]
  },
  {
   "cell_type": "code",
   "execution_count": 19,
   "metadata": {},
   "outputs": [
    {
     "name": "stdout",
     "output_type": "stream",
     "text": [
      "Re-matching runs to images. Note: this takes some time, so run force_match=False to speed up.\n"
     ]
    },
    {
     "data": {
      "application/vnd.jupyter.widget-view+json": {
       "model_id": "",
       "version_major": 2,
       "version_minor": 0
      },
      "text/plain": [
       "HBox(children=(IntProgress(value=1, bar_style='info', description='Matching...', max=1), HTML(value='')))"
      ]
     },
     "metadata": {},
     "output_type": "display_data"
    },
    {
     "data": {
      "application/vnd.jupyter.widget-view+json": {
       "model_id": "045556a4f74743008a7835a696701c82",
       "version_major": 2,
       "version_minor": 0
      },
      "text/plain": [
       "HBox(children=(IntProgress(value=0, max=1), HTML(value='')))"
      ]
     },
     "metadata": {},
     "output_type": "display_data"
    },
    {
     "name": "stdout",
     "output_type": "stream",
     "text": [
      "number of objects returned = 1\n"
     ]
    }
   ],
   "source": [
    "# Test the df method with force_match\n",
    "df = bc.get_images_df(imagenames, force_match=True)\n",
    "print('number of objects returned = {}'.format(len(df)))"
   ]
  },
  {
   "cell_type": "code",
   "execution_count": 23,
   "metadata": {},
   "outputs": [
    {
     "data": {
      "application/vnd.jupyter.widget-view+json": {
       "model_id": "f0f30730eee143f790911eef41142ac8",
       "version_major": 2,
       "version_minor": 0
      },
      "text/plain": [
       "HBox(children=(IntProgress(value=0, max=120), HTML(value='')))"
      ]
     },
     "metadata": {},
     "output_type": "display_data"
    },
    {
     "name": "stdout",
     "output_type": "stream",
     "text": [
      "number of objects returned = 120\n"
     ]
    }
   ],
   "source": [
    "# Test the df method without force_match\n",
    "df = bc.get_images_df(imagenames, force_match=False)\n",
    "print('number of objects returned = {}'.format(len(df)))"
   ]
  },
  {
   "cell_type": "code",
   "execution_count": null,
   "metadata": {},
   "outputs": [],
   "source": []
  },
  {
   "cell_type": "code",
   "execution_count": null,
   "metadata": {},
   "outputs": [],
   "source": []
  },
  {
   "cell_type": "code",
   "execution_count": 10,
   "metadata": {},
   "outputs": [],
   "source": [
    "import datetime\n",
    "import re\n",
    "\n",
    "def timestr_to_datetime(time_string):\n",
    "    time_string = re.sub(' ','0',time_string[0:19])\n",
    "    return datetime.datetime.strptime(time_string,'%m-%d-%Y_%H_%M_%S')\n",
    "\n",
    "def isoformat_datetime(dt_object):\n",
    "    return dt_object.isoformat()+'Z'"
   ]
  },
  {
   "cell_type": "code",
   "execution_count": 11,
   "metadata": {},
   "outputs": [],
   "source": [
    "timestr = '10-09-2018_00_21_57_TopA'\n",
    "dt_object = timestr_to_datetime(timestr)"
   ]
  },
  {
   "cell_type": "code",
   "execution_count": 12,
   "metadata": {},
   "outputs": [
    {
     "data": {
      "text/plain": [
       "True"
      ]
     },
     "execution_count": 12,
     "metadata": {},
     "output_type": "execute_result"
    }
   ],
   "source": [
    "'2018-10-09T00:21:57Z' == isoformat_datetime(dt_object)"
   ]
  },
  {
   "cell_type": "code",
   "execution_count": 13,
   "metadata": {},
   "outputs": [
    {
     "data": {
      "text/plain": [
       "True"
      ]
     },
     "execution_count": 13,
     "metadata": {},
     "output_type": "execute_result"
    }
   ],
   "source": [
    "type(dt_object)==datetime.datetime"
   ]
  },
  {
   "cell_type": "code",
   "execution_count": 14,
   "metadata": {},
   "outputs": [
    {
     "data": {
      "text/plain": [
       "True"
      ]
     },
     "execution_count": 14,
     "metadata": {},
     "output_type": "execute_result"
    }
   ],
   "source": [
    "type('44')==str"
   ]
  },
  {
   "cell_type": "code",
   "execution_count": 15,
   "metadata": {},
   "outputs": [],
   "source": [
    "TIMEFORMATS = {\n",
    "    'BEC1': 'blah',\n",
    "    'FERMI3':'poo'\n",
    "}"
   ]
  },
  {
   "cell_type": "code",
   "execution_count": 16,
   "metadata": {},
   "outputs": [
    {
     "data": {
      "text/plain": [
       "'blah'"
      ]
     },
     "execution_count": 16,
     "metadata": {},
     "output_type": "execute_result"
    }
   ],
   "source": [
    "TIMEFORMATS['BEC1']"
   ]
  },
  {
   "cell_type": "code",
   "execution_count": 7,
   "metadata": {},
   "outputs": [],
   "source": [
    "from dateutil import parser"
   ]
  },
  {
   "cell_type": "code",
   "execution_count": 8,
   "metadata": {},
   "outputs": [
    {
     "ename": "ValueError",
     "evalue": "('Unknown string format:', '2019-02-27_20-39-28')",
     "output_type": "error",
     "traceback": [
      "\u001b[0;31m---------------------------------------------------------------------------\u001b[0m",
      "\u001b[0;31mValueError\u001b[0m                                Traceback (most recent call last)",
      "\u001b[0;32m<ipython-input-8-28d99baabefc>\u001b[0m in \u001b[0;36m<module>\u001b[0;34m()\u001b[0m\n\u001b[0;32m----> 1\u001b[0;31m \u001b[0mparser\u001b[0m\u001b[0;34m.\u001b[0m\u001b[0mparse\u001b[0m\u001b[0;34m(\u001b[0m\u001b[0;34m'2019-02-27_20-39-28'\u001b[0m\u001b[0;34m)\u001b[0m\u001b[0;34m\u001b[0m\u001b[0m\n\u001b[0m",
      "\u001b[0;32m~/miniconda3/lib/python3.5/site-packages/dateutil/parser/_parser.py\u001b[0m in \u001b[0;36mparse\u001b[0;34m(timestr, parserinfo, **kwargs)\u001b[0m\n\u001b[1;32m   1299\u001b[0m         \u001b[0;32mreturn\u001b[0m \u001b[0mparser\u001b[0m\u001b[0;34m(\u001b[0m\u001b[0mparserinfo\u001b[0m\u001b[0;34m)\u001b[0m\u001b[0;34m.\u001b[0m\u001b[0mparse\u001b[0m\u001b[0;34m(\u001b[0m\u001b[0mtimestr\u001b[0m\u001b[0;34m,\u001b[0m \u001b[0;34m**\u001b[0m\u001b[0mkwargs\u001b[0m\u001b[0;34m)\u001b[0m\u001b[0;34m\u001b[0m\u001b[0m\n\u001b[1;32m   1300\u001b[0m     \u001b[0;32melse\u001b[0m\u001b[0;34m:\u001b[0m\u001b[0;34m\u001b[0m\u001b[0m\n\u001b[0;32m-> 1301\u001b[0;31m         \u001b[0;32mreturn\u001b[0m \u001b[0mDEFAULTPARSER\u001b[0m\u001b[0;34m.\u001b[0m\u001b[0mparse\u001b[0m\u001b[0;34m(\u001b[0m\u001b[0mtimestr\u001b[0m\u001b[0;34m,\u001b[0m \u001b[0;34m**\u001b[0m\u001b[0mkwargs\u001b[0m\u001b[0;34m)\u001b[0m\u001b[0;34m\u001b[0m\u001b[0m\n\u001b[0m\u001b[1;32m   1302\u001b[0m \u001b[0;34m\u001b[0m\u001b[0m\n\u001b[1;32m   1303\u001b[0m \u001b[0;34m\u001b[0m\u001b[0m\n",
      "\u001b[0;32m~/miniconda3/lib/python3.5/site-packages/dateutil/parser/_parser.py\u001b[0m in \u001b[0;36mparse\u001b[0;34m(self, timestr, default, ignoretz, tzinfos, **kwargs)\u001b[0m\n\u001b[1;32m    605\u001b[0m \u001b[0;34m\u001b[0m\u001b[0m\n\u001b[1;32m    606\u001b[0m         \u001b[0;32mif\u001b[0m \u001b[0mres\u001b[0m \u001b[0;32mis\u001b[0m \u001b[0;32mNone\u001b[0m\u001b[0;34m:\u001b[0m\u001b[0;34m\u001b[0m\u001b[0m\n\u001b[0;32m--> 607\u001b[0;31m             \u001b[0;32mraise\u001b[0m \u001b[0mValueError\u001b[0m\u001b[0;34m(\u001b[0m\u001b[0;34m\"Unknown string format:\"\u001b[0m\u001b[0;34m,\u001b[0m \u001b[0mtimestr\u001b[0m\u001b[0;34m)\u001b[0m\u001b[0;34m\u001b[0m\u001b[0m\n\u001b[0m\u001b[1;32m    608\u001b[0m \u001b[0;34m\u001b[0m\u001b[0m\n\u001b[1;32m    609\u001b[0m         \u001b[0;32mif\u001b[0m \u001b[0mlen\u001b[0m\u001b[0;34m(\u001b[0m\u001b[0mres\u001b[0m\u001b[0;34m)\u001b[0m \u001b[0;34m==\u001b[0m \u001b[0;36m0\u001b[0m\u001b[0;34m:\u001b[0m\u001b[0;34m\u001b[0m\u001b[0m\n",
      "\u001b[0;31mValueError\u001b[0m: ('Unknown string format:', '2019-02-27_20-39-28')"
     ]
    }
   ],
   "source": [
    "parser.parse('2019-02-27_20-39-28')"
   ]
  },
  {
   "cell_type": "code",
   "execution_count": 13,
   "metadata": {},
   "outputs": [],
   "source": [
    "resp = client.get_images_json(imagenames)"
   ]
  },
  {
   "cell_type": "code",
   "execution_count": 16,
   "metadata": {
    "scrolled": false
   },
   "outputs": [],
   "source": [
    "jsonresp = resp.json()"
   ]
  },
  {
   "cell_type": "code",
   "execution_count": 24,
   "metadata": {},
   "outputs": [
    {
     "data": {
      "text/plain": [
       "'2018-10-09T00:22:00Z'"
      ]
     },
     "execution_count": 24,
     "metadata": {},
     "output_type": "execute_result"
    }
   ],
   "source": [
    "jsonresp[0]['run']['runtime']"
   ]
  },
  {
   "cell_type": "code",
   "execution_count": 27,
   "metadata": {},
   "outputs": [],
   "source": [
    "import dateutil"
   ]
  },
  {
   "cell_type": "code",
   "execution_count": 35,
   "metadata": {},
   "outputs": [
    {
     "data": {
      "text/plain": [
       "1539044520"
      ]
     },
     "execution_count": 35,
     "metadata": {},
     "output_type": "execute_result"
    }
   ],
   "source": [
    "int(dateutil.parser.parse('2018-10-09T00:22:00Z').timestamp())"
   ]
  },
  {
   "cell_type": "code",
   "execution_count": 39,
   "metadata": {
    "scrolled": false
   },
   "outputs": [
    {
     "data": {
      "text/plain": [
       "'0.22.0'"
      ]
     },
     "execution_count": 39,
     "metadata": {},
     "output_type": "execute_result"
    }
   ],
   "source": [
    "pd.__version__"
   ]
  },
  {
   "cell_type": "code",
   "execution_count": 25,
   "metadata": {},
   "outputs": [],
   "source": []
  },
  {
   "cell_type": "code",
   "execution_count": 28,
   "metadata": {},
   "outputs": [
    {
     "data": {
      "application/vnd.jupyter.widget-view+json": {
       "model_id": "fe29c33802764e21ba2faecf852bfb29",
       "version_major": 2,
       "version_minor": 0
      },
      "text/plain": [
       "HBox(children=(IntProgress(value=0, max=10), HTML(value='')))"
      ]
     },
     "metadata": {},
     "output_type": "display_data"
    },
    {
     "name": "stdout",
     "output_type": "stream",
     "text": [
      "0\n",
      "1\n",
      "2\n",
      "3\n",
      "4\n",
      "5\n",
      "6\n",
      "7\n",
      "8\n",
      "9\n",
      "\n"
     ]
    }
   ],
   "source": [
    "for x in tqdm(range(10)):\n",
    "    print(x)"
   ]
  },
  {
   "cell_type": "code",
   "execution_count": null,
   "metadata": {},
   "outputs": [],
   "source": []
  }
 ],
 "metadata": {
  "kernelspec": {
   "display_name": "Python 3",
   "language": "python",
   "name": "python3"
  },
  "language_info": {
   "codemirror_mode": {
    "name": "ipython",
    "version": 3
   },
   "file_extension": ".py",
   "mimetype": "text/x-python",
   "name": "python",
   "nbconvert_exporter": "python",
   "pygments_lexer": "ipython3",
   "version": "3.5.4"
  },
  "toc": {
   "colors": {
    "hover_highlight": "#DAA520",
    "running_highlight": "#FF0000",
    "selected_highlight": "#FFD700"
   },
   "moveMenuLeft": true,
   "nav_menu": {
    "height": "12px",
    "width": "252px"
   },
   "navigate_menu": true,
   "number_sections": true,
   "sideBar": true,
   "threshold": 4,
   "toc_cell": false,
   "toc_section_display": "block",
   "toc_window_display": false
  }
 },
 "nbformat": 4,
 "nbformat_minor": 2
}
