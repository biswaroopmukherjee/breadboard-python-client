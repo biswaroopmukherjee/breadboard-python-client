{
 "cells": [
  {
   "cell_type": "code",
   "execution_count": 1,
   "metadata": {},
   "outputs": [],
   "source": [
    "# Include main project path in the system path for python\n",
    "import sys\n",
    "import os\n",
    "import re\n",
    "import pandas as pd\n",
    "import urllib\n",
    "from tabulate import tabulate\n",
    "sys.path.insert( 0,os.path.abspath(os.path.join(os.getcwd(), '..')))\n",
    "\n",
    "# Import the breadboard module\n",
    "from breadboard import BreadboardClient"
   ]
  },
  {
   "cell_type": "markdown",
   "metadata": {},
   "source": [
    "## Get parameters for images"
   ]
  },
  {
   "cell_type": "code",
   "execution_count": 2,
   "metadata": {},
   "outputs": [],
   "source": [
    "# initialize the client\n",
    "bc = BreadboardClient(config_path='API_CONFIG.json')"
   ]
  },
  {
   "cell_type": "code",
   "execution_count": 3,
   "metadata": {},
   "outputs": [],
   "source": [
    "imagenames = ['10-09-2018_00_27_44_TopA','10-09-2018_00_27_44_TopB']\n",
    "params = ['FB_field_13_V','ImagFreq0']\n",
    "# params = \"list_bound_only\"\n",
    "\n",
    "# df = bc.get_images_df(imagenames)\n",
    "df = bc.get_images_df(imagenames, params)\n",
    "# df = bc.get_images_df(imagenames, 'FB_field_13_V')"
   ]
  },
  {
   "cell_type": "code",
   "execution_count": 4,
   "metadata": {},
   "outputs": [
    {
     "data": {
      "text/html": [
       "<div>\n",
       "<style scoped>\n",
       "    .dataframe tbody tr th:only-of-type {\n",
       "        vertical-align: middle;\n",
       "    }\n",
       "\n",
       "    .dataframe tbody tr th {\n",
       "        vertical-align: top;\n",
       "    }\n",
       "\n",
       "    .dataframe thead th {\n",
       "        text-align: right;\n",
       "    }\n",
       "</style>\n",
       "<table border=\"1\" class=\"dataframe\">\n",
       "  <thead>\n",
       "    <tr style=\"text-align: right;\">\n",
       "      <th></th>\n",
       "      <th>imagename</th>\n",
       "      <th>x</th>\n",
       "      <th>FB_field_13_V</th>\n",
       "      <th>unixtime</th>\n",
       "      <th>ImagFreq0</th>\n",
       "    </tr>\n",
       "  </thead>\n",
       "  <tbody>\n",
       "    <tr>\n",
       "      <th>0</th>\n",
       "      <td>10-09-2018_00_27_44_TopA</td>\n",
       "      <td>1.539045e+09</td>\n",
       "      <td>3.774</td>\n",
       "      <td>1.539045e+09</td>\n",
       "      <td>193.95</td>\n",
       "    </tr>\n",
       "    <tr>\n",
       "      <th>1</th>\n",
       "      <td>10-09-2018_00_27_44_TopB</td>\n",
       "      <td>1.539045e+09</td>\n",
       "      <td>3.774</td>\n",
       "      <td>1.539045e+09</td>\n",
       "      <td>193.95</td>\n",
       "    </tr>\n",
       "  </tbody>\n",
       "</table>\n",
       "</div>"
      ],
      "text/plain": [
       "                  imagename             x  FB_field_13_V      unixtime  \\\n",
       "0  10-09-2018_00_27_44_TopA  1.539045e+09          3.774  1.539045e+09   \n",
       "1  10-09-2018_00_27_44_TopB  1.539045e+09          3.774  1.539045e+09   \n",
       "\n",
       "   ImagFreq0  \n",
       "0     193.95  \n",
       "1     193.95  "
      ]
     },
     "execution_count": 4,
     "metadata": {},
     "output_type": "execute_result"
    }
   ],
   "source": [
    "df.head()"
   ]
  },
  {
   "cell_type": "code",
   "execution_count": 23,
   "metadata": {},
   "outputs": [
    {
     "data": {
      "text/plain": [
       "'|    | imagename                |           x |   ImagFreq0 |   FB_field_13_V |    unixtime |\\n|---:|:-------------------------|------------:|------------:|----------------:|------------:|\\n|  0 | 10-09-2018_00_27_44_TopA | 1.53904e+09 |      193.95 |           3.774 | 1.53904e+09 |\\n|  1 | 10-09-2018_00_27_44_TopB | 1.53904e+09 |      193.95 |           3.774 | 1.53904e+09 |'"
      ]
     },
     "execution_count": 23,
     "metadata": {},
     "output_type": "execute_result"
    }
   ],
   "source": [
    "tabulate(df, tablefmt=\"pipe\", headers=\"keys\")"
   ]
  },
  {
   "cell_type": "markdown",
   "metadata": {
    "code_folding": []
   },
   "source": [
    "note: the API does some caching so the data might be a little outdated"
   ]
  },
  {
   "cell_type": "markdown",
   "metadata": {},
   "source": [
    "## Update notes for a single image"
   ]
  },
  {
   "cell_type": "code",
   "execution_count": 6,
   "metadata": {},
   "outputs": [],
   "source": [
    "params_update  = {\n",
    "            'notes': \"test\",\n",
    "            'pixel_size': 2\n",
    "        }"
   ]
  },
  {
   "cell_type": "code",
   "execution_count": 7,
   "metadata": {},
   "outputs": [],
   "source": [
    "resp = bc.update_image( df.at[0,'id'],df.at[0,'imagename'], params_update)"
   ]
  },
  {
   "cell_type": "code",
   "execution_count": 8,
   "metadata": {},
   "outputs": [
    {
     "data": {
      "text/plain": [
       "200"
      ]
     },
     "execution_count": 8,
     "metadata": {},
     "output_type": "execute_result"
    }
   ],
   "source": [
    "resp.status_code"
   ]
  },
  {
   "cell_type": "markdown",
   "metadata": {},
   "source": [
    "## Fermi 3 tests"
   ]
  },
  {
   "cell_type": "code",
   "execution_count": 2,
   "metadata": {},
   "outputs": [],
   "source": [
    "# initialize the client\n",
    "bc = BreadboardClient(config_path='API_CONFIG_2.json')"
   ]
  },
  {
   "cell_type": "code",
   "execution_count": 3,
   "metadata": {
    "scrolled": false
   },
   "outputs": [
    {
     "data": {
      "text/html": [
       "<div>\n",
       "<style scoped>\n",
       "    .dataframe tbody tr th:only-of-type {\n",
       "        vertical-align: middle;\n",
       "    }\n",
       "\n",
       "    .dataframe tbody tr th {\n",
       "        vertical-align: top;\n",
       "    }\n",
       "\n",
       "    .dataframe thead th {\n",
       "        text-align: right;\n",
       "    }\n",
       "</style>\n",
       "<table border=\"1\" class=\"dataframe\">\n",
       "  <thead>\n",
       "    <tr style=\"text-align: right;\">\n",
       "      <th></th>\n",
       "      <th>imagename</th>\n",
       "      <th>x</th>\n",
       "      <th>unixtime</th>\n",
       "      <th>reWhirrFreq</th>\n",
       "      <th>holdTime</th>\n",
       "      <th>TOF</th>\n",
       "      <th>accordionHoldSpacing</th>\n",
       "      <th>evapEndTOPMHz</th>\n",
       "    </tr>\n",
       "  </thead>\n",
       "  <tbody>\n",
       "    <tr>\n",
       "      <th>0</th>\n",
       "      <td>2029-02-27_20-28-25_SensicamQE</td>\n",
       "      <td>NaN</td>\n",
       "      <td>6.152400e+06</td>\n",
       "      <td>NaN</td>\n",
       "      <td>NaN</td>\n",
       "      <td>NaN</td>\n",
       "      <td>NaN</td>\n",
       "      <td>NaN</td>\n",
       "    </tr>\n",
       "    <tr>\n",
       "      <th>1</th>\n",
       "      <td>2019-02-27_20-32-42_SensicamQE</td>\n",
       "      <td>4.725</td>\n",
       "      <td>1.551300e+09</td>\n",
       "      <td>4.725</td>\n",
       "      <td>10.0</td>\n",
       "      <td>0.0</td>\n",
       "      <td>4.4</td>\n",
       "      <td>1777.0</td>\n",
       "    </tr>\n",
       "  </tbody>\n",
       "</table>\n",
       "</div>"
      ],
      "text/plain": [
       "                        imagename      x      unixtime  reWhirrFreq  holdTime  \\\n",
       "0  2029-02-27_20-28-25_SensicamQE    NaN  6.152400e+06          NaN       NaN   \n",
       "1  2019-02-27_20-32-42_SensicamQE  4.725  1.551300e+09        4.725      10.0   \n",
       "\n",
       "   TOF  accordionHoldSpacing  evapEndTOPMHz  \n",
       "0  NaN                   NaN            NaN  \n",
       "1  0.0                   4.4         1777.0  "
      ]
     },
     "execution_count": 3,
     "metadata": {},
     "output_type": "execute_result"
    }
   ],
   "source": [
    "df = bc.get_images_df(['2029-02-27_20-28-25_SensicamQE','2019-02-27_20-32-42_SensicamQE'], paramsin = \"list_bound_only\", xvar='reWhirrFreq')\n",
    "df.head()"
   ]
  },
  {
   "cell_type": "code",
   "execution_count": 30,
   "metadata": {},
   "outputs": [
    {
     "data": {
      "text/plain": [
       "'|    | imagename                      |     x |   reWhirrFreq |   holdTime |   TOF |   evapEndTOPMHz |   accordionHoldSpacing |   unixtime |\\n|---:|:-------------------------------|------:|--------------:|-----------:|------:|----------------:|-----------------------:|-----------:|\\n|  0 | 2019-02-27_20-28-25_SensicamQE | 4.725 |         4.725 |         10 |     0 |            1777 |                    4.4 | 1.5513e+09 |\\n|  1 | 2019-02-27_20-32-42_SensicamQE | 4.675 |         4.675 |         10 |     0 |            1777 |                    4.4 | 1.5513e+09 |'"
      ]
     },
     "execution_count": 30,
     "metadata": {},
     "output_type": "execute_result"
    }
   ],
   "source": [
    "tabulate(df, tablefmt=\"pipe\", headers=\"keys\")"
   ]
  },
  {
   "cell_type": "code",
   "execution_count": 12,
   "metadata": {},
   "outputs": [],
   "source": [
    "df = bc.get_images_df_clipboard(xvar='evapEndTOPMHz')"
   ]
  },
  {
   "cell_type": "code",
   "execution_count": 13,
   "metadata": {},
   "outputs": [
    {
     "data": {
      "text/html": [
       "<div>\n",
       "<style scoped>\n",
       "    .dataframe tbody tr th:only-of-type {\n",
       "        vertical-align: middle;\n",
       "    }\n",
       "\n",
       "    .dataframe tbody tr th {\n",
       "        vertical-align: top;\n",
       "    }\n",
       "\n",
       "    .dataframe thead th {\n",
       "        text-align: right;\n",
       "    }\n",
       "</style>\n",
       "<table border=\"1\" class=\"dataframe\">\n",
       "  <thead>\n",
       "    <tr style=\"text-align: right;\">\n",
       "      <th></th>\n",
       "      <th>imagename</th>\n",
       "      <th>x</th>\n",
       "      <th>unixtime</th>\n",
       "      <th>whirrFreq</th>\n",
       "      <th>reWhirrFreq</th>\n",
       "      <th>holdTime</th>\n",
       "      <th>accordionHoldSpacing</th>\n",
       "      <th>TOF</th>\n",
       "      <th>evapEndTOPMHz</th>\n",
       "      <th>reWhirrTime</th>\n",
       "    </tr>\n",
       "  </thead>\n",
       "  <tbody>\n",
       "    <tr>\n",
       "      <th>0</th>\n",
       "      <td>2019-03-13_14-28-44_SensicamQE</td>\n",
       "      <td>1777.9</td>\n",
       "      <td>1.552487e+09</td>\n",
       "      <td>4.54</td>\n",
       "      <td>4.75</td>\n",
       "      <td>245.0</td>\n",
       "      <td>4.4</td>\n",
       "      <td>0.0</td>\n",
       "      <td>1777.9</td>\n",
       "      <td>7.0</td>\n",
       "    </tr>\n",
       "    <tr>\n",
       "      <th>1</th>\n",
       "      <td>2019-03-13_14-28-13_SensicamQE</td>\n",
       "      <td>1777.8</td>\n",
       "      <td>1.552487e+09</td>\n",
       "      <td>4.54</td>\n",
       "      <td>4.75</td>\n",
       "      <td>245.0</td>\n",
       "      <td>4.4</td>\n",
       "      <td>0.0</td>\n",
       "      <td>1777.8</td>\n",
       "      <td>7.0</td>\n",
       "    </tr>\n",
       "    <tr>\n",
       "      <th>2</th>\n",
       "      <td>2019-03-13_14-27-33_SensicamQE</td>\n",
       "      <td>1777.7</td>\n",
       "      <td>1.552487e+09</td>\n",
       "      <td>4.54</td>\n",
       "      <td>4.75</td>\n",
       "      <td>245.0</td>\n",
       "      <td>4.4</td>\n",
       "      <td>0.0</td>\n",
       "      <td>1777.7</td>\n",
       "      <td>7.0</td>\n",
       "    </tr>\n",
       "    <tr>\n",
       "      <th>3</th>\n",
       "      <td>2019-03-13_14-27-03_SensicamQE</td>\n",
       "      <td>1777.6</td>\n",
       "      <td>1.552487e+09</td>\n",
       "      <td>4.54</td>\n",
       "      <td>4.75</td>\n",
       "      <td>245.0</td>\n",
       "      <td>4.4</td>\n",
       "      <td>0.0</td>\n",
       "      <td>1777.6</td>\n",
       "      <td>7.0</td>\n",
       "    </tr>\n",
       "    <tr>\n",
       "      <th>4</th>\n",
       "      <td>2019-03-13_14-26-23_SensicamQE</td>\n",
       "      <td>1777.5</td>\n",
       "      <td>1.552487e+09</td>\n",
       "      <td>4.54</td>\n",
       "      <td>4.75</td>\n",
       "      <td>245.0</td>\n",
       "      <td>4.4</td>\n",
       "      <td>0.0</td>\n",
       "      <td>1777.5</td>\n",
       "      <td>7.0</td>\n",
       "    </tr>\n",
       "    <tr>\n",
       "      <th>5</th>\n",
       "      <td>2019-03-13_14-25-53_SensicamQE</td>\n",
       "      <td>1777.4</td>\n",
       "      <td>1.552487e+09</td>\n",
       "      <td>4.54</td>\n",
       "      <td>4.75</td>\n",
       "      <td>245.0</td>\n",
       "      <td>4.4</td>\n",
       "      <td>0.0</td>\n",
       "      <td>1777.4</td>\n",
       "      <td>7.0</td>\n",
       "    </tr>\n",
       "    <tr>\n",
       "      <th>6</th>\n",
       "      <td>2019-03-13_14-25-13_SensicamQE</td>\n",
       "      <td>1777.3</td>\n",
       "      <td>1.552487e+09</td>\n",
       "      <td>4.54</td>\n",
       "      <td>4.75</td>\n",
       "      <td>245.0</td>\n",
       "      <td>4.4</td>\n",
       "      <td>0.0</td>\n",
       "      <td>1777.3</td>\n",
       "      <td>7.0</td>\n",
       "    </tr>\n",
       "    <tr>\n",
       "      <th>7</th>\n",
       "      <td>2019-03-13_14-24-43_SensicamQE</td>\n",
       "      <td>1777.2</td>\n",
       "      <td>1.552487e+09</td>\n",
       "      <td>4.54</td>\n",
       "      <td>4.75</td>\n",
       "      <td>245.0</td>\n",
       "      <td>4.4</td>\n",
       "      <td>0.0</td>\n",
       "      <td>1777.2</td>\n",
       "      <td>7.0</td>\n",
       "    </tr>\n",
       "    <tr>\n",
       "      <th>8</th>\n",
       "      <td>2019-03-13_14-24-03_SensicamQE</td>\n",
       "      <td>1777.1</td>\n",
       "      <td>1.552487e+09</td>\n",
       "      <td>4.54</td>\n",
       "      <td>4.75</td>\n",
       "      <td>245.0</td>\n",
       "      <td>4.4</td>\n",
       "      <td>0.0</td>\n",
       "      <td>1777.1</td>\n",
       "      <td>7.0</td>\n",
       "    </tr>\n",
       "    <tr>\n",
       "      <th>9</th>\n",
       "      <td>2019-03-13_14-23-33_SensicamQE</td>\n",
       "      <td>1777.0</td>\n",
       "      <td>1.552487e+09</td>\n",
       "      <td>4.54</td>\n",
       "      <td>4.75</td>\n",
       "      <td>245.0</td>\n",
       "      <td>4.4</td>\n",
       "      <td>0.0</td>\n",
       "      <td>1777.0</td>\n",
       "      <td>7.0</td>\n",
       "    </tr>\n",
       "    <tr>\n",
       "      <th>10</th>\n",
       "      <td>2019-03-13_14-22-53_SensicamQE</td>\n",
       "      <td>1776.9</td>\n",
       "      <td>1.552487e+09</td>\n",
       "      <td>4.54</td>\n",
       "      <td>4.75</td>\n",
       "      <td>245.0</td>\n",
       "      <td>4.4</td>\n",
       "      <td>0.0</td>\n",
       "      <td>1776.9</td>\n",
       "      <td>7.0</td>\n",
       "    </tr>\n",
       "  </tbody>\n",
       "</table>\n",
       "</div>"
      ],
      "text/plain": [
       "                         imagename       x      unixtime  whirrFreq  \\\n",
       "0   2019-03-13_14-28-44_SensicamQE  1777.9  1.552487e+09       4.54   \n",
       "1   2019-03-13_14-28-13_SensicamQE  1777.8  1.552487e+09       4.54   \n",
       "2   2019-03-13_14-27-33_SensicamQE  1777.7  1.552487e+09       4.54   \n",
       "3   2019-03-13_14-27-03_SensicamQE  1777.6  1.552487e+09       4.54   \n",
       "4   2019-03-13_14-26-23_SensicamQE  1777.5  1.552487e+09       4.54   \n",
       "5   2019-03-13_14-25-53_SensicamQE  1777.4  1.552487e+09       4.54   \n",
       "6   2019-03-13_14-25-13_SensicamQE  1777.3  1.552487e+09       4.54   \n",
       "7   2019-03-13_14-24-43_SensicamQE  1777.2  1.552487e+09       4.54   \n",
       "8   2019-03-13_14-24-03_SensicamQE  1777.1  1.552487e+09       4.54   \n",
       "9   2019-03-13_14-23-33_SensicamQE  1777.0  1.552487e+09       4.54   \n",
       "10  2019-03-13_14-22-53_SensicamQE  1776.9  1.552487e+09       4.54   \n",
       "\n",
       "    reWhirrFreq  holdTime  accordionHoldSpacing  TOF  evapEndTOPMHz  \\\n",
       "0          4.75     245.0                   4.4  0.0         1777.9   \n",
       "1          4.75     245.0                   4.4  0.0         1777.8   \n",
       "2          4.75     245.0                   4.4  0.0         1777.7   \n",
       "3          4.75     245.0                   4.4  0.0         1777.6   \n",
       "4          4.75     245.0                   4.4  0.0         1777.5   \n",
       "5          4.75     245.0                   4.4  0.0         1777.4   \n",
       "6          4.75     245.0                   4.4  0.0         1777.3   \n",
       "7          4.75     245.0                   4.4  0.0         1777.2   \n",
       "8          4.75     245.0                   4.4  0.0         1777.1   \n",
       "9          4.75     245.0                   4.4  0.0         1777.0   \n",
       "10         4.75     245.0                   4.4  0.0         1776.9   \n",
       "\n",
       "    reWhirrTime  \n",
       "0           7.0  \n",
       "1           7.0  \n",
       "2           7.0  \n",
       "3           7.0  \n",
       "4           7.0  \n",
       "5           7.0  \n",
       "6           7.0  \n",
       "7           7.0  \n",
       "8           7.0  \n",
       "9           7.0  \n",
       "10          7.0  "
      ]
     },
     "execution_count": 13,
     "metadata": {},
     "output_type": "execute_result"
    }
   ],
   "source": [
    "df"
   ]
  },
  {
   "cell_type": "code",
   "execution_count": 4,
   "metadata": {},
   "outputs": [
    {
     "data": {
      "text/plain": [
       "'|    | imagename                      |           x |   cropi |   atom |    unixtime |   total_atoms |   tags |   pixel_size |   id | notes   |   holdTime |   TOF |   reWhirrFreq |   filepath |   evapEndTOPMHz | created              |   accordionHoldSpacing | url                                              |   reWhirrTime |\\n|---:|:-------------------------------|------------:|--------:|-------:|------------:|--------------:|-------:|-------------:|-----:|:--------|-----------:|------:|--------------:|-----------:|----------------:|:---------------------|-----------------------:|:-------------------------------------------------|--------------:|\\n|  0 | 2019-03-04_15-36-22_SensicamQE | 1.55171e+09 |     nan |    nan | 1.55171e+09 |           nan |    nan |            3 |  635 | test    |        300 |     0 |          4.75 |        nan |            1777 | 2019-03-04T15:36:22Z |                    4.4 | http://breadboard-215702.appspot.com/images/635/ |             7 |\\n|  1 | 2019-03-04_15-35-52_SensicamQE | 1.55171e+09 |     nan |    nan | 1.55171e+09 |           nan |    nan |            3 |  636 | test    |        275 |     0 |          4.75 |        nan |            1777 | 2019-03-04T15:35:52Z |                    4.4 | http://breadboard-215702.appspot.com/images/636/ |             7 |'"
      ]
     },
     "execution_count": 4,
     "metadata": {},
     "output_type": "execute_result"
    }
   ],
   "source": [
    "tabulate(df, tablefmt=\"pipe\", headers=\"keys\")"
   ]
  },
  {
   "cell_type": "markdown",
   "metadata": {},
   "source": [
    "## tests on the raw json request"
   ]
  },
  {
   "cell_type": "code",
   "execution_count": 6,
   "metadata": {},
   "outputs": [],
   "source": [
    "resp = bc.post_images(pd.read_clipboard(header=None)[0].tolist(), force_match=True)"
   ]
  },
  {
   "cell_type": "code",
   "execution_count": null,
   "metadata": {},
   "outputs": [],
   "source": []
  },
  {
   "cell_type": "code",
   "execution_count": null,
   "metadata": {},
   "outputs": [],
   "source": []
  },
  {
   "cell_type": "code",
   "execution_count": null,
   "metadata": {},
   "outputs": [],
   "source": []
  },
  {
   "cell_type": "code",
   "execution_count": null,
   "metadata": {},
   "outputs": [],
   "source": []
  },
  {
   "cell_type": "code",
   "execution_count": null,
   "metadata": {},
   "outputs": [],
   "source": []
  },
  {
   "cell_type": "code",
   "execution_count": 32,
   "metadata": {},
   "outputs": [],
   "source": [
    "import json"
   ]
  },
  {
   "cell_type": "code",
   "execution_count": 35,
   "metadata": {},
   "outputs": [],
   "source": [
    "out = json.loads(resp.text)"
   ]
  },
  {
   "cell_type": "code",
   "execution_count": 39,
   "metadata": {},
   "outputs": [],
   "source": [
    "postparams = ['notes', 'filepath', 'tags',\n",
    "                'cropi', 'atom', 'odpath', 'total_atoms', 'settings',\n",
    "                'atomsperpixel', 'thumbnail', 'pixel_size']"
   ]
  },
  {
   "cell_type": "code",
   "execution_count": 53,
   "metadata": {},
   "outputs": [],
   "source": [
    "l = [out.get(param) for param in postparams]\n",
    "# l = [None, None]"
   ]
  },
  {
   "cell_type": "code",
   "execution_count": 55,
   "metadata": {},
   "outputs": [
    {
     "data": {
      "text/plain": [
       "True"
      ]
     },
     "execution_count": 55,
     "metadata": {},
     "output_type": "execute_result"
    }
   ],
   "source": [
    "not l.count(None) == len(l)"
   ]
  },
  {
   "cell_type": "code",
   "execution_count": 37,
   "metadata": {},
   "outputs": [
    {
     "data": {
      "text/plain": [
       "{'atom': 'Li',\n",
       " 'atomsperpixel': None,\n",
       " 'created': '2018-10-09T00:27:44Z',\n",
       " 'cropi': {},\n",
       " 'filepath': None,\n",
       " 'id': 13,\n",
       " 'name': '10-09-2018_00_27_44_TopA',\n",
       " 'notes': 'test',\n",
       " 'odpath': None,\n",
       " 'pixel_size': 1.0,\n",
       " 'run': {'bad_shot': False,\n",
       "  'created': '2018-10-09T19:55:05.467791Z',\n",
       "  'dataset': None,\n",
       "  'id': 47649,\n",
       "  'notes': '',\n",
       "  'parameters': {'1 to 6 sweep cent': 58.76,\n",
       "   'AC_image': 0.0,\n",
       "   'AC_imprint': 0.0,\n",
       "   'AxShakeAmp': 1.0,\n",
       "   'Axial Grad Ramp': 1000.0,\n",
       "   'Axial Grad Volt': 0.0,\n",
       "   'AxiconShakeOffset': 4.3,\n",
       "   'B0 TOF': 8.0,\n",
       "   'BeatFreq': 973.5,\n",
       "   'BeatFreq2': 0.0,\n",
       "   'BeatVolt': 4.57165466438364,\n",
       "   'Bias Compansation': 1.4,\n",
       "   'BiasCharge': -0.1,\n",
       "   'Box Heat Amplitude OLD': 0.5,\n",
       "   'Box evap time': 4.0,\n",
       "   'BoxShakeAmp': 0.3,\n",
       "   'BoxShakeFreq': 800.0,\n",
       "   'BoxShakeTime': 0.0,\n",
       "   'Bragg Pulse Time': 10.0,\n",
       "   'Bx_100': 1.6,\n",
       "   'Bx_1000': 0.0,\n",
       "   'Bx_200': 1.3,\n",
       "   'Bx_300': 1.05,\n",
       "   'Bx_400': 0.65,\n",
       "   'Bx_450': 0.6,\n",
       "   'Bx_500': 0.25,\n",
       "   'Bx_Decomp': 1.82,\n",
       "   'By_25': 3.0,\n",
       "   'Bz neg': 4.0,\n",
       "   'Bz_100': 5.0,\n",
       "   'Bz_1000': 0.0,\n",
       "   'Bz_200': 4.2,\n",
       "   'Bz_300': 3.5,\n",
       "   'Bz_400': 1.7,\n",
       "   'Bz_450': 1.35,\n",
       "   'Bz_500': 0.25,\n",
       "   'Bz_550': 0.125,\n",
       "   'Bz_Decomp': 5.75,\n",
       "   'Crodt damping': 0.2,\n",
       "   'DepumpingFreq': 1920.0,\n",
       "   'EndFrameTime': 52.0,\n",
       "   'Endcap1Power': 2.5,\n",
       "   'Endcap1Reramp': 2.5,\n",
       "   'Endcap2Power': 3.2,\n",
       "   'Endcap2Reramp': 3.2,\n",
       "   'EndcapShakeOffset': 2.5,\n",
       "   'Evap NaLi': 890.72,\n",
       "   'Evap2 End': 890.7,\n",
       "   'ExpansionTime': 2000.0,\n",
       "   'Extra TOF': 0.0,\n",
       "   'FB_568_13': 2.964,\n",
       "   'FB_568_13_V': 3.1,\n",
       "   'FB_Cool': 4.2704,\n",
       "   'FB_Cool_V': 4.3704,\n",
       "   'FB_PS': 3.215,\n",
       "   'FB_Soliton': 4.245,\n",
       "   'FB_box': 3.21,\n",
       "   'FB_field_13': 3.574,\n",
       "   'FB_field_13_V': 3.774,\n",
       "   'FB_field_3_change': 3.574,\n",
       "   'FB_field_3_change_V': 3.774,\n",
       "   'FB_image': 3.31311,\n",
       "   'FB_image_Volt': 3.31811,\n",
       "   'FB_time_2': 1.0,\n",
       "   'FB_time_3': 100.0,\n",
       "   'FBtime': 100.0,\n",
       "   'FK Shift SDL': 18.0,\n",
       "   'FastKineticTime': 20.0,\n",
       "   'Grad_cool': 0.77,\n",
       "   'Gradient Offset': 1.3,\n",
       "   'Gradient PS Max Volt': 6.23,\n",
       "   'GreenHold': 1.0,\n",
       "   'HF Img By': 3.6,\n",
       "   'Heat Wait 2': 0.0,\n",
       "   'HeatCycles': 750.0,\n",
       "   'HeatShakeFreq': 1000.0,\n",
       "   'HeatTime': 750.0,\n",
       "   'HeatWait': 500.0,\n",
       "   'Hold Time Box': 1.0,\n",
       "   'IR Reshape': 1.2,\n",
       "   'IREvap': 0.6,\n",
       "   'IRHeatAmp': 0.3,\n",
       "   'IRHeatOffset': 0.55,\n",
       "   'IRWatt': 4.0,\n",
       "   'IRWatt2Volt': 4.0,\n",
       "   'IRcomp': 0.25,\n",
       "   'IRvolt1': 0.4,\n",
       "   'ImagFreq0': 193.95,\n",
       "   'ImagFreq1': 155.32,\n",
       "   'ImagFreq2': 235.99,\n",
       "   'ImagVolt HF': 6.185,\n",
       "   'Image Time2': 10.0,\n",
       "   'ImageTime': 10.0,\n",
       "   'Imbalance Slice': 4.0,\n",
       "   'ImgPower1': 10.0,\n",
       "   'ImgPower2': 10.0,\n",
       "   'ImgShuttersSwitch': 3.0,\n",
       "   'IterationCount': 36.0,\n",
       "   'IterationNum': 6.0,\n",
       "   'LFImgFreq': 184.0,\n",
       "   'LFImgVolt': 2.016089937792,\n",
       "   'Lattice1': 0.0,\n",
       "   'Na 8 to 1 freq': 890.71,\n",
       "   'Na 8 to 1 pwr': 2.0,\n",
       "   'Na F2 imag freq': 9.72,\n",
       "   'ODT rampdown time': 6.0,\n",
       "   'OLD Side green evap': 0.0,\n",
       "   'PIV_pretrig': 10.0,\n",
       "   'PIV_wait': 1000.0,\n",
       "   'PulseTime': 3.0,\n",
       "   'PumpFreq': 183.5,\n",
       "   'PumpVolt': 1.99721039524987,\n",
       "   'RF12_Center': 75.74,\n",
       "   'RF12_Power': 2.0,\n",
       "   'RF12_Span': 800.0,\n",
       "   'RF12_Time': 52.0,\n",
       "   'RF23_Center': 84.02,\n",
       "   'RF23_Power': 3.5,\n",
       "   'RF23_Span': 0.4,\n",
       "   'RF23_Time': 400.0,\n",
       "   'RF25_start': 799.0,\n",
       "   'RF25_time': 50.0,\n",
       "   'RF_AM_max': 1.0,\n",
       "   'RFspect': 76.0727,\n",
       "   'RFwait': 0.0,\n",
       "   'RR Bottom': 2.96,\n",
       "   'Raman Frequency': 38.04,\n",
       "   'RamanTHF': 10.0,\n",
       "   'RamanTime': 20.0,\n",
       "   'RefocusingTime': 10.17,\n",
       "   'SeqMode1': 11.0,\n",
       "   'ShakeWait': 0.0,\n",
       "   'Shaking Resolution': 4.0,\n",
       "   'ShakingCycles': 0.0,\n",
       "   'SideGreenEvap': 0.35,\n",
       "   'SideGreenEvapExpTau': -0.5,\n",
       "   'SideGreenEvapTime': 2.0,\n",
       "   'SideGreenPower': 5.5,\n",
       "   'SideGreenReramp': 5.3,\n",
       "   'SliceTime': 10.0,\n",
       "   'Slicer Power': 2.0,\n",
       "   'Slicing Freq': 0.0,\n",
       "   'Spect Volt': 2.0,\n",
       "   'State 2 cleaning freq': 191.0,\n",
       "   'State 2 cleaning pow': 10.0,\n",
       "   'TOF': 1.0,\n",
       "   'TOFRR': 16.0,\n",
       "   'TOFRRm75': 8.5,\n",
       "   'TOFRRm8': 8.0,\n",
       "   'TimeRampBack': 0.0,\n",
       "   'TimeRampBackFunc1': 10.0,\n",
       "   'TopGreenPower': 2.5,\n",
       "   'Transfer25time': 100.0,\n",
       "   'WaitAC': 10.285,\n",
       "   'WaitAfterRF': 0.0,\n",
       "   'WaitBox': 0.5,\n",
       "   'WaitForSlosh': 500.0,\n",
       "   'WiatEvap': 1000.0,\n",
       "   'YellowRamp': 0.2,\n",
       "   'YellowShakeAmplitude': 0.2,\n",
       "   'YellowShakeCarrier': 1000.0,\n",
       "   'blastfreq': 143.0,\n",
       "   'blastvolt': 0.646797930111,\n",
       "   'catchpower': 1.0,\n",
       "   'crodt load': 0.7,\n",
       "   'crodtmax': 0.1,\n",
       "   'cylinder hold time': 0.2,\n",
       "   'cylinder ramp time': 801.0,\n",
       "   'evap1_t1': 0.125,\n",
       "   'evap1_t2': 5.0,\n",
       "   'evap1_time': 15.0,\n",
       "   'freq': 0.0,\n",
       "   'loadingtime': 0.25,\n",
       "   'lowfield': 5.0,\n",
       "   'snippet_time': '10-09-2018_00_27_48',\n",
       "   'tandempower1': 1.6,\n",
       "   'unixtime': 1539044868.0,\n",
       "   'waittime': 0.0},\n",
       "  'runtime': '2018-10-09T00:27:48Z',\n",
       "  'url': 'http://breadboard-215702.appspot.com/runs/47649/',\n",
       "  'workday': '2018-10-09'},\n",
       " 'settings': {},\n",
       " 'tags': {},\n",
       " 'thumbnail': None,\n",
       " 'total_atoms': None,\n",
       " 'url': 'http://breadboard-215702.appspot.com/images/13/'}"
      ]
     },
     "execution_count": 37,
     "metadata": {},
     "output_type": "execute_result"
    }
   ],
   "source": [
    "out"
   ]
  },
  {
   "cell_type": "code",
   "execution_count": 10,
   "metadata": {},
   "outputs": [],
   "source": [
    "import datetime\n",
    "import re\n",
    "\n",
    "def timestr_to_datetime(time_string):\n",
    "    time_string = re.sub(' ','0',time_string[0:19])\n",
    "    return datetime.datetime.strptime(time_string,'%m-%d-%Y_%H_%M_%S')\n",
    "\n",
    "def isoformat_datetime(dt_object):\n",
    "    return dt_object.isoformat()+'Z'"
   ]
  },
  {
   "cell_type": "code",
   "execution_count": 11,
   "metadata": {},
   "outputs": [],
   "source": [
    "timestr = '10-09-2018_00_21_57_TopA'\n",
    "dt_object = timestr_to_datetime(timestr)"
   ]
  },
  {
   "cell_type": "code",
   "execution_count": 12,
   "metadata": {},
   "outputs": [
    {
     "data": {
      "text/plain": [
       "True"
      ]
     },
     "execution_count": 12,
     "metadata": {},
     "output_type": "execute_result"
    }
   ],
   "source": [
    "'2018-10-09T00:21:57Z' == isoformat_datetime(dt_object)"
   ]
  },
  {
   "cell_type": "code",
   "execution_count": 13,
   "metadata": {},
   "outputs": [
    {
     "data": {
      "text/plain": [
       "True"
      ]
     },
     "execution_count": 13,
     "metadata": {},
     "output_type": "execute_result"
    }
   ],
   "source": [
    "type(dt_object)==datetime.datetime"
   ]
  },
  {
   "cell_type": "code",
   "execution_count": 14,
   "metadata": {},
   "outputs": [
    {
     "data": {
      "text/plain": [
       "True"
      ]
     },
     "execution_count": 14,
     "metadata": {},
     "output_type": "execute_result"
    }
   ],
   "source": [
    "type('44')==str"
   ]
  },
  {
   "cell_type": "code",
   "execution_count": 15,
   "metadata": {},
   "outputs": [],
   "source": [
    "TIMEFORMATS = {\n",
    "    'BEC1': 'blah',\n",
    "    'FERMI3':'poo'\n",
    "}"
   ]
  },
  {
   "cell_type": "code",
   "execution_count": 16,
   "metadata": {},
   "outputs": [
    {
     "data": {
      "text/plain": [
       "'blah'"
      ]
     },
     "execution_count": 16,
     "metadata": {},
     "output_type": "execute_result"
    }
   ],
   "source": [
    "TIMEFORMATS['BEC1']"
   ]
  },
  {
   "cell_type": "code",
   "execution_count": 7,
   "metadata": {},
   "outputs": [],
   "source": [
    "from dateutil import parser"
   ]
  },
  {
   "cell_type": "code",
   "execution_count": 8,
   "metadata": {},
   "outputs": [
    {
     "ename": "ValueError",
     "evalue": "('Unknown string format:', '2019-02-27_20-39-28')",
     "output_type": "error",
     "traceback": [
      "\u001b[0;31m---------------------------------------------------------------------------\u001b[0m",
      "\u001b[0;31mValueError\u001b[0m                                Traceback (most recent call last)",
      "\u001b[0;32m<ipython-input-8-28d99baabefc>\u001b[0m in \u001b[0;36m<module>\u001b[0;34m()\u001b[0m\n\u001b[0;32m----> 1\u001b[0;31m \u001b[0mparser\u001b[0m\u001b[0;34m.\u001b[0m\u001b[0mparse\u001b[0m\u001b[0;34m(\u001b[0m\u001b[0;34m'2019-02-27_20-39-28'\u001b[0m\u001b[0;34m)\u001b[0m\u001b[0;34m\u001b[0m\u001b[0m\n\u001b[0m",
      "\u001b[0;32m~/miniconda3/lib/python3.5/site-packages/dateutil/parser/_parser.py\u001b[0m in \u001b[0;36mparse\u001b[0;34m(timestr, parserinfo, **kwargs)\u001b[0m\n\u001b[1;32m   1299\u001b[0m         \u001b[0;32mreturn\u001b[0m \u001b[0mparser\u001b[0m\u001b[0;34m(\u001b[0m\u001b[0mparserinfo\u001b[0m\u001b[0;34m)\u001b[0m\u001b[0;34m.\u001b[0m\u001b[0mparse\u001b[0m\u001b[0;34m(\u001b[0m\u001b[0mtimestr\u001b[0m\u001b[0;34m,\u001b[0m \u001b[0;34m**\u001b[0m\u001b[0mkwargs\u001b[0m\u001b[0;34m)\u001b[0m\u001b[0;34m\u001b[0m\u001b[0m\n\u001b[1;32m   1300\u001b[0m     \u001b[0;32melse\u001b[0m\u001b[0;34m:\u001b[0m\u001b[0;34m\u001b[0m\u001b[0m\n\u001b[0;32m-> 1301\u001b[0;31m         \u001b[0;32mreturn\u001b[0m \u001b[0mDEFAULTPARSER\u001b[0m\u001b[0;34m.\u001b[0m\u001b[0mparse\u001b[0m\u001b[0;34m(\u001b[0m\u001b[0mtimestr\u001b[0m\u001b[0;34m,\u001b[0m \u001b[0;34m**\u001b[0m\u001b[0mkwargs\u001b[0m\u001b[0;34m)\u001b[0m\u001b[0;34m\u001b[0m\u001b[0m\n\u001b[0m\u001b[1;32m   1302\u001b[0m \u001b[0;34m\u001b[0m\u001b[0m\n\u001b[1;32m   1303\u001b[0m \u001b[0;34m\u001b[0m\u001b[0m\n",
      "\u001b[0;32m~/miniconda3/lib/python3.5/site-packages/dateutil/parser/_parser.py\u001b[0m in \u001b[0;36mparse\u001b[0;34m(self, timestr, default, ignoretz, tzinfos, **kwargs)\u001b[0m\n\u001b[1;32m    605\u001b[0m \u001b[0;34m\u001b[0m\u001b[0m\n\u001b[1;32m    606\u001b[0m         \u001b[0;32mif\u001b[0m \u001b[0mres\u001b[0m \u001b[0;32mis\u001b[0m \u001b[0;32mNone\u001b[0m\u001b[0;34m:\u001b[0m\u001b[0;34m\u001b[0m\u001b[0m\n\u001b[0;32m--> 607\u001b[0;31m             \u001b[0;32mraise\u001b[0m \u001b[0mValueError\u001b[0m\u001b[0;34m(\u001b[0m\u001b[0;34m\"Unknown string format:\"\u001b[0m\u001b[0;34m,\u001b[0m \u001b[0mtimestr\u001b[0m\u001b[0;34m)\u001b[0m\u001b[0;34m\u001b[0m\u001b[0m\n\u001b[0m\u001b[1;32m    608\u001b[0m \u001b[0;34m\u001b[0m\u001b[0m\n\u001b[1;32m    609\u001b[0m         \u001b[0;32mif\u001b[0m \u001b[0mlen\u001b[0m\u001b[0;34m(\u001b[0m\u001b[0mres\u001b[0m\u001b[0;34m)\u001b[0m \u001b[0;34m==\u001b[0m \u001b[0;36m0\u001b[0m\u001b[0;34m:\u001b[0m\u001b[0;34m\u001b[0m\u001b[0m\n",
      "\u001b[0;31mValueError\u001b[0m: ('Unknown string format:', '2019-02-27_20-39-28')"
     ]
    }
   ],
   "source": [
    "parser.parse('2019-02-27_20-39-28')"
   ]
  },
  {
   "cell_type": "code",
   "execution_count": 13,
   "metadata": {},
   "outputs": [],
   "source": [
    "resp = client.get_images_json(imagenames)"
   ]
  },
  {
   "cell_type": "code",
   "execution_count": 16,
   "metadata": {
    "scrolled": false
   },
   "outputs": [],
   "source": [
    "jsonresp = resp.json()"
   ]
  },
  {
   "cell_type": "code",
   "execution_count": 24,
   "metadata": {},
   "outputs": [
    {
     "data": {
      "text/plain": [
       "'2018-10-09T00:22:00Z'"
      ]
     },
     "execution_count": 24,
     "metadata": {},
     "output_type": "execute_result"
    }
   ],
   "source": [
    "jsonresp[0]['run']['runtime']"
   ]
  },
  {
   "cell_type": "code",
   "execution_count": 27,
   "metadata": {},
   "outputs": [],
   "source": [
    "import dateutil"
   ]
  },
  {
   "cell_type": "code",
   "execution_count": 35,
   "metadata": {},
   "outputs": [
    {
     "data": {
      "text/plain": [
       "1539044520"
      ]
     },
     "execution_count": 35,
     "metadata": {},
     "output_type": "execute_result"
    }
   ],
   "source": [
    "int(dateutil.parser.parse('2018-10-09T00:22:00Z').timestamp())"
   ]
  },
  {
   "cell_type": "code",
   "execution_count": 39,
   "metadata": {
    "scrolled": false
   },
   "outputs": [
    {
     "data": {
      "text/plain": [
       "'0.22.0'"
      ]
     },
     "execution_count": 39,
     "metadata": {},
     "output_type": "execute_result"
    }
   ],
   "source": [
    "pd.__version__"
   ]
  },
  {
   "cell_type": "code",
   "execution_count": 38,
   "metadata": {},
   "outputs": [],
   "source": [
    "import pandas as pd"
   ]
  },
  {
   "cell_type": "code",
   "execution_count": null,
   "metadata": {},
   "outputs": [],
   "source": []
  }
 ],
 "metadata": {
  "kernelspec": {
   "display_name": "Python 3",
   "language": "python",
   "name": "python3"
  },
  "language_info": {
   "codemirror_mode": {
    "name": "ipython",
    "version": 3
   },
   "file_extension": ".py",
   "mimetype": "text/x-python",
   "name": "python",
   "nbconvert_exporter": "python",
   "pygments_lexer": "ipython3",
   "version": "3.5.4"
  },
  "toc": {
   "colors": {
    "hover_highlight": "#DAA520",
    "running_highlight": "#FF0000",
    "selected_highlight": "#FFD700"
   },
   "moveMenuLeft": true,
   "nav_menu": {
    "height": "12px",
    "width": "252px"
   },
   "navigate_menu": true,
   "number_sections": true,
   "sideBar": true,
   "threshold": 4,
   "toc_cell": false,
   "toc_section_display": "block",
   "toc_window_display": false
  }
 },
 "nbformat": 4,
 "nbformat_minor": 2
}
