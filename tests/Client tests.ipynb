{
 "cells": [
  {
   "cell_type": "code",
   "execution_count": 1,
   "metadata": {},
   "outputs": [],
   "source": [
    "# Include main project path in the system path for python\n",
    "import sys\n",
    "import os\n",
    "import re\n",
    "import pandas as pd\n",
    "import urllib\n",
    "sys.path.insert( 0,os.path.abspath(os.path.join(os.getcwd(), '..')))\n",
    "\n",
    "# Import the breadboard module\n",
    "from breadboard import BreadboardClient"
   ]
  },
  {
   "cell_type": "markdown",
   "metadata": {},
   "source": [
    "## Get parameters for images"
   ]
  },
  {
   "cell_type": "code",
   "execution_count": 10,
   "metadata": {},
   "outputs": [],
   "source": [
    "# initialize the client\n",
    "client = BreadboardClient(config_path='API_CONFIG.json')"
   ]
  },
  {
   "cell_type": "code",
   "execution_count": 11,
   "metadata": {},
   "outputs": [],
   "source": [
    "imagenames = ['10-09-2018_00_27_44_TopA','10-09-2018_00_27_44_TopB']\n",
    "params = ['FB_field_13_V','ImagFreq0', 'cylinder hold time', 'unixtime']\n",
    "params = \"list_bound_only\"\n",
    "df = client.get_images_df(imagenames, params)"
   ]
  },
  {
   "cell_type": "code",
   "execution_count": 12,
   "metadata": {},
   "outputs": [
    {
     "data": {
      "text/html": [
       "<div>\n",
       "<style scoped>\n",
       "    .dataframe tbody tr th:only-of-type {\n",
       "        vertical-align: middle;\n",
       "    }\n",
       "\n",
       "    .dataframe tbody tr th {\n",
       "        vertical-align: top;\n",
       "    }\n",
       "\n",
       "    .dataframe thead th {\n",
       "        text-align: right;\n",
       "    }\n",
       "</style>\n",
       "<table border=\"1\" class=\"dataframe\">\n",
       "  <thead>\n",
       "    <tr style=\"text-align: right;\">\n",
       "      <th></th>\n",
       "      <th>imagename</th>\n",
       "      <th>x</th>\n",
       "      <th>unixtime</th>\n",
       "    </tr>\n",
       "  </thead>\n",
       "  <tbody>\n",
       "    <tr>\n",
       "      <th>0</th>\n",
       "      <td>10-09-2018_00_27_44_TopA</td>\n",
       "      <td>1.539045e+09</td>\n",
       "      <td>1.539045e+09</td>\n",
       "    </tr>\n",
       "    <tr>\n",
       "      <th>1</th>\n",
       "      <td>10-09-2018_00_27_44_TopB</td>\n",
       "      <td>1.539045e+09</td>\n",
       "      <td>1.539045e+09</td>\n",
       "    </tr>\n",
       "  </tbody>\n",
       "</table>\n",
       "</div>"
      ],
      "text/plain": [
       "                  imagename             x      unixtime\n",
       "0  10-09-2018_00_27_44_TopA  1.539045e+09  1.539045e+09\n",
       "1  10-09-2018_00_27_44_TopB  1.539045e+09  1.539045e+09"
      ]
     },
     "execution_count": 12,
     "metadata": {},
     "output_type": "execute_result"
    }
   ],
   "source": [
    "df.head()"
   ]
  },
  {
   "cell_type": "code",
   "execution_count": 5,
   "metadata": {},
   "outputs": [],
   "source": [
    "# note the API does a lot of caching so the data might be a little outdated"
   ]
  },
  {
   "cell_type": "markdown",
   "metadata": {
    "heading_collapsed": true
   },
   "source": [
    "## Update notes for a single image"
   ]
  },
  {
   "cell_type": "code",
   "execution_count": 6,
   "metadata": {
    "hidden": true
   },
   "outputs": [],
   "source": [
    "params_update  = {\n",
    "            'notes': \"test\"\n",
    "        }"
   ]
  },
  {
   "cell_type": "code",
   "execution_count": 7,
   "metadata": {
    "hidden": true
   },
   "outputs": [],
   "source": [
    "resp = client.update_image( df.at[0,'id'],df.at[0,'imagename'], params_update)"
   ]
  },
  {
   "cell_type": "code",
   "execution_count": 8,
   "metadata": {
    "hidden": true
   },
   "outputs": [
    {
     "data": {
      "text/plain": [
       "200"
      ]
     },
     "execution_count": 8,
     "metadata": {},
     "output_type": "execute_result"
    }
   ],
   "source": [
    "resp.status_code"
   ]
  },
  {
   "cell_type": "markdown",
   "metadata": {},
   "source": [
    "## Random stuff"
   ]
  },
  {
   "cell_type": "code",
   "execution_count": 4,
   "metadata": {},
   "outputs": [],
   "source": [
    "# initialize the client\n",
    "client = BreadboardClient(config_path='API_CONFIG_2.json')"
   ]
  },
  {
   "cell_type": "code",
   "execution_count": 5,
   "metadata": {
    "scrolled": false
   },
   "outputs": [
    {
     "data": {
      "text/html": [
       "<div>\n",
       "<style scoped>\n",
       "    .dataframe tbody tr th:only-of-type {\n",
       "        vertical-align: middle;\n",
       "    }\n",
       "\n",
       "    .dataframe tbody tr th {\n",
       "        vertical-align: top;\n",
       "    }\n",
       "\n",
       "    .dataframe thead th {\n",
       "        text-align: right;\n",
       "    }\n",
       "</style>\n",
       "<table border=\"1\" class=\"dataframe\">\n",
       "  <thead>\n",
       "    <tr style=\"text-align: right;\">\n",
       "      <th></th>\n",
       "      <th>imagename</th>\n",
       "      <th>x</th>\n",
       "      <th>holdTime</th>\n",
       "      <th>TOF</th>\n",
       "      <th>evapEndTOPMHz</th>\n",
       "      <th>unixtime</th>\n",
       "      <th>reWhirrFreq</th>\n",
       "      <th>accordionHoldSpacing</th>\n",
       "    </tr>\n",
       "  </thead>\n",
       "  <tbody>\n",
       "    <tr>\n",
       "      <th>0</th>\n",
       "      <td>2019-02-27_20-28-25_SensicamQE</td>\n",
       "      <td>4.725</td>\n",
       "      <td>10.0</td>\n",
       "      <td>0.0</td>\n",
       "      <td>1777.0</td>\n",
       "      <td>1.551300e+09</td>\n",
       "      <td>4.725</td>\n",
       "      <td>4.4</td>\n",
       "    </tr>\n",
       "    <tr>\n",
       "      <th>1</th>\n",
       "      <td>2019-02-27_20-32-42_SensicamQE</td>\n",
       "      <td>4.675</td>\n",
       "      <td>10.0</td>\n",
       "      <td>0.0</td>\n",
       "      <td>1777.0</td>\n",
       "      <td>1.551299e+09</td>\n",
       "      <td>4.675</td>\n",
       "      <td>4.4</td>\n",
       "    </tr>\n",
       "  </tbody>\n",
       "</table>\n",
       "</div>"
      ],
      "text/plain": [
       "                        imagename      x  holdTime  TOF  evapEndTOPMHz  \\\n",
       "0  2019-02-27_20-28-25_SensicamQE  4.725      10.0  0.0         1777.0   \n",
       "1  2019-02-27_20-32-42_SensicamQE  4.675      10.0  0.0         1777.0   \n",
       "\n",
       "       unixtime  reWhirrFreq  accordionHoldSpacing  \n",
       "0  1.551300e+09        4.725                   4.4  \n",
       "1  1.551299e+09        4.675                   4.4  "
      ]
     },
     "execution_count": 5,
     "metadata": {},
     "output_type": "execute_result"
    }
   ],
   "source": [
    "df = client.get_images_df(['2019-02-27_20-28-25_SensicamQE','2019-02-27_20-32-42_SensicamQE'], paramsin = \"list_bound_only\", xvar='reWhirrFreq')\n",
    "df.head()"
   ]
  },
  {
   "cell_type": "code",
   "execution_count": 6,
   "metadata": {},
   "outputs": [
    {
     "ename": "EmptyDataError",
     "evalue": "No columns to parse from file",
     "output_type": "error",
     "traceback": [
      "\u001b[0;31m---------------------------------------------------------------------------\u001b[0m",
      "\u001b[0;31mEmptyDataError\u001b[0m                            Traceback (most recent call last)",
      "\u001b[0;32m<ipython-input-6-6c721569a4bd>\u001b[0m in \u001b[0;36m<module>\u001b[0;34m()\u001b[0m\n\u001b[0;32m----> 1\u001b[0;31m \u001b[0mresp\u001b[0m \u001b[0;34m=\u001b[0m \u001b[0mclient\u001b[0m\u001b[0;34m.\u001b[0m\u001b[0mget_images_json\u001b[0m\u001b[0;34m(\u001b[0m\u001b[0mpd\u001b[0m\u001b[0;34m.\u001b[0m\u001b[0mread_clipboard\u001b[0m\u001b[0;34m(\u001b[0m\u001b[0mheader\u001b[0m\u001b[0;34m=\u001b[0m\u001b[0;32mNone\u001b[0m\u001b[0;34m)\u001b[0m\u001b[0;34m[\u001b[0m\u001b[0;36m0\u001b[0m\u001b[0;34m]\u001b[0m\u001b[0;34m.\u001b[0m\u001b[0mtolist\u001b[0m\u001b[0;34m(\u001b[0m\u001b[0;34m)\u001b[0m\u001b[0;34m)\u001b[0m\u001b[0;34m\u001b[0m\u001b[0m\n\u001b[0m",
      "\u001b[0;32m~/miniconda3/lib/python3.5/site-packages/pandas/io/clipboards.py\u001b[0m in \u001b[0;36mread_clipboard\u001b[0;34m(sep, **kwargs)\u001b[0m\n\u001b[1;32m     61\u001b[0m         \u001b[0msep\u001b[0m \u001b[0;34m=\u001b[0m \u001b[0;34m'\\s+'\u001b[0m\u001b[0;34m\u001b[0m\u001b[0m\n\u001b[1;32m     62\u001b[0m \u001b[0;34m\u001b[0m\u001b[0m\n\u001b[0;32m---> 63\u001b[0;31m     \u001b[0;32mreturn\u001b[0m \u001b[0mread_table\u001b[0m\u001b[0;34m(\u001b[0m\u001b[0mStringIO\u001b[0m\u001b[0;34m(\u001b[0m\u001b[0mtext\u001b[0m\u001b[0;34m)\u001b[0m\u001b[0;34m,\u001b[0m \u001b[0msep\u001b[0m\u001b[0;34m=\u001b[0m\u001b[0msep\u001b[0m\u001b[0;34m,\u001b[0m \u001b[0;34m**\u001b[0m\u001b[0mkwargs\u001b[0m\u001b[0;34m)\u001b[0m\u001b[0;34m\u001b[0m\u001b[0m\n\u001b[0m\u001b[1;32m     64\u001b[0m \u001b[0;34m\u001b[0m\u001b[0m\n\u001b[1;32m     65\u001b[0m \u001b[0;34m\u001b[0m\u001b[0m\n",
      "\u001b[0;32m~/miniconda3/lib/python3.5/site-packages/pandas/io/parsers.py\u001b[0m in \u001b[0;36mparser_f\u001b[0;34m(filepath_or_buffer, sep, delimiter, header, names, index_col, usecols, squeeze, prefix, mangle_dupe_cols, dtype, engine, converters, true_values, false_values, skipinitialspace, skiprows, nrows, na_values, keep_default_na, na_filter, verbose, skip_blank_lines, parse_dates, infer_datetime_format, keep_date_col, date_parser, dayfirst, iterator, chunksize, compression, thousands, decimal, lineterminator, quotechar, quoting, escapechar, comment, encoding, dialect, tupleize_cols, error_bad_lines, warn_bad_lines, skipfooter, skip_footer, doublequote, delim_whitespace, as_recarray, compact_ints, use_unsigned, low_memory, buffer_lines, memory_map, float_precision)\u001b[0m\n\u001b[1;32m    707\u001b[0m                     skip_blank_lines=skip_blank_lines)\n\u001b[1;32m    708\u001b[0m \u001b[0;34m\u001b[0m\u001b[0m\n\u001b[0;32m--> 709\u001b[0;31m         \u001b[0;32mreturn\u001b[0m \u001b[0m_read\u001b[0m\u001b[0;34m(\u001b[0m\u001b[0mfilepath_or_buffer\u001b[0m\u001b[0;34m,\u001b[0m \u001b[0mkwds\u001b[0m\u001b[0;34m)\u001b[0m\u001b[0;34m\u001b[0m\u001b[0m\n\u001b[0m\u001b[1;32m    710\u001b[0m \u001b[0;34m\u001b[0m\u001b[0m\n\u001b[1;32m    711\u001b[0m     \u001b[0mparser_f\u001b[0m\u001b[0;34m.\u001b[0m\u001b[0m__name__\u001b[0m \u001b[0;34m=\u001b[0m \u001b[0mname\u001b[0m\u001b[0;34m\u001b[0m\u001b[0m\n",
      "\u001b[0;32m~/miniconda3/lib/python3.5/site-packages/pandas/io/parsers.py\u001b[0m in \u001b[0;36m_read\u001b[0;34m(filepath_or_buffer, kwds)\u001b[0m\n\u001b[1;32m    447\u001b[0m \u001b[0;34m\u001b[0m\u001b[0m\n\u001b[1;32m    448\u001b[0m     \u001b[0;31m# Create the parser.\u001b[0m\u001b[0;34m\u001b[0m\u001b[0;34m\u001b[0m\u001b[0m\n\u001b[0;32m--> 449\u001b[0;31m     \u001b[0mparser\u001b[0m \u001b[0;34m=\u001b[0m \u001b[0mTextFileReader\u001b[0m\u001b[0;34m(\u001b[0m\u001b[0mfilepath_or_buffer\u001b[0m\u001b[0;34m,\u001b[0m \u001b[0;34m**\u001b[0m\u001b[0mkwds\u001b[0m\u001b[0;34m)\u001b[0m\u001b[0;34m\u001b[0m\u001b[0m\n\u001b[0m\u001b[1;32m    450\u001b[0m \u001b[0;34m\u001b[0m\u001b[0m\n\u001b[1;32m    451\u001b[0m     \u001b[0;32mif\u001b[0m \u001b[0mchunksize\u001b[0m \u001b[0;32mor\u001b[0m \u001b[0miterator\u001b[0m\u001b[0;34m:\u001b[0m\u001b[0;34m\u001b[0m\u001b[0m\n",
      "\u001b[0;32m~/miniconda3/lib/python3.5/site-packages/pandas/io/parsers.py\u001b[0m in \u001b[0;36m__init__\u001b[0;34m(self, f, engine, **kwds)\u001b[0m\n\u001b[1;32m    816\u001b[0m             \u001b[0mself\u001b[0m\u001b[0;34m.\u001b[0m\u001b[0moptions\u001b[0m\u001b[0;34m[\u001b[0m\u001b[0;34m'has_index_names'\u001b[0m\u001b[0;34m]\u001b[0m \u001b[0;34m=\u001b[0m \u001b[0mkwds\u001b[0m\u001b[0;34m[\u001b[0m\u001b[0;34m'has_index_names'\u001b[0m\u001b[0;34m]\u001b[0m\u001b[0;34m\u001b[0m\u001b[0m\n\u001b[1;32m    817\u001b[0m \u001b[0;34m\u001b[0m\u001b[0m\n\u001b[0;32m--> 818\u001b[0;31m         \u001b[0mself\u001b[0m\u001b[0;34m.\u001b[0m\u001b[0m_make_engine\u001b[0m\u001b[0;34m(\u001b[0m\u001b[0mself\u001b[0m\u001b[0;34m.\u001b[0m\u001b[0mengine\u001b[0m\u001b[0;34m)\u001b[0m\u001b[0;34m\u001b[0m\u001b[0m\n\u001b[0m\u001b[1;32m    819\u001b[0m \u001b[0;34m\u001b[0m\u001b[0m\n\u001b[1;32m    820\u001b[0m     \u001b[0;32mdef\u001b[0m \u001b[0mclose\u001b[0m\u001b[0;34m(\u001b[0m\u001b[0mself\u001b[0m\u001b[0;34m)\u001b[0m\u001b[0;34m:\u001b[0m\u001b[0;34m\u001b[0m\u001b[0m\n",
      "\u001b[0;32m~/miniconda3/lib/python3.5/site-packages/pandas/io/parsers.py\u001b[0m in \u001b[0;36m_make_engine\u001b[0;34m(self, engine)\u001b[0m\n\u001b[1;32m   1047\u001b[0m     \u001b[0;32mdef\u001b[0m \u001b[0m_make_engine\u001b[0m\u001b[0;34m(\u001b[0m\u001b[0mself\u001b[0m\u001b[0;34m,\u001b[0m \u001b[0mengine\u001b[0m\u001b[0;34m=\u001b[0m\u001b[0;34m'c'\u001b[0m\u001b[0;34m)\u001b[0m\u001b[0;34m:\u001b[0m\u001b[0;34m\u001b[0m\u001b[0m\n\u001b[1;32m   1048\u001b[0m         \u001b[0;32mif\u001b[0m \u001b[0mengine\u001b[0m \u001b[0;34m==\u001b[0m \u001b[0;34m'c'\u001b[0m\u001b[0;34m:\u001b[0m\u001b[0;34m\u001b[0m\u001b[0m\n\u001b[0;32m-> 1049\u001b[0;31m             \u001b[0mself\u001b[0m\u001b[0;34m.\u001b[0m\u001b[0m_engine\u001b[0m \u001b[0;34m=\u001b[0m \u001b[0mCParserWrapper\u001b[0m\u001b[0;34m(\u001b[0m\u001b[0mself\u001b[0m\u001b[0;34m.\u001b[0m\u001b[0mf\u001b[0m\u001b[0;34m,\u001b[0m \u001b[0;34m**\u001b[0m\u001b[0mself\u001b[0m\u001b[0;34m.\u001b[0m\u001b[0moptions\u001b[0m\u001b[0;34m)\u001b[0m\u001b[0;34m\u001b[0m\u001b[0m\n\u001b[0m\u001b[1;32m   1050\u001b[0m         \u001b[0;32melse\u001b[0m\u001b[0;34m:\u001b[0m\u001b[0;34m\u001b[0m\u001b[0m\n\u001b[1;32m   1051\u001b[0m             \u001b[0;32mif\u001b[0m \u001b[0mengine\u001b[0m \u001b[0;34m==\u001b[0m \u001b[0;34m'python'\u001b[0m\u001b[0;34m:\u001b[0m\u001b[0;34m\u001b[0m\u001b[0m\n",
      "\u001b[0;32m~/miniconda3/lib/python3.5/site-packages/pandas/io/parsers.py\u001b[0m in \u001b[0;36m__init__\u001b[0;34m(self, src, **kwds)\u001b[0m\n\u001b[1;32m   1693\u001b[0m         \u001b[0mkwds\u001b[0m\u001b[0;34m[\u001b[0m\u001b[0;34m'allow_leading_cols'\u001b[0m\u001b[0;34m]\u001b[0m \u001b[0;34m=\u001b[0m \u001b[0mself\u001b[0m\u001b[0;34m.\u001b[0m\u001b[0mindex_col\u001b[0m \u001b[0;32mis\u001b[0m \u001b[0;32mnot\u001b[0m \u001b[0;32mFalse\u001b[0m\u001b[0;34m\u001b[0m\u001b[0m\n\u001b[1;32m   1694\u001b[0m \u001b[0;34m\u001b[0m\u001b[0m\n\u001b[0;32m-> 1695\u001b[0;31m         \u001b[0mself\u001b[0m\u001b[0;34m.\u001b[0m\u001b[0m_reader\u001b[0m \u001b[0;34m=\u001b[0m \u001b[0mparsers\u001b[0m\u001b[0;34m.\u001b[0m\u001b[0mTextReader\u001b[0m\u001b[0;34m(\u001b[0m\u001b[0msrc\u001b[0m\u001b[0;34m,\u001b[0m \u001b[0;34m**\u001b[0m\u001b[0mkwds\u001b[0m\u001b[0;34m)\u001b[0m\u001b[0;34m\u001b[0m\u001b[0m\n\u001b[0m\u001b[1;32m   1696\u001b[0m \u001b[0;34m\u001b[0m\u001b[0m\n\u001b[1;32m   1697\u001b[0m         \u001b[0;31m# XXX\u001b[0m\u001b[0;34m\u001b[0m\u001b[0;34m\u001b[0m\u001b[0m\n",
      "\u001b[0;32mpandas/_libs/parsers.pyx\u001b[0m in \u001b[0;36mpandas._libs.parsers.TextReader.__cinit__\u001b[0;34m()\u001b[0m\n",
      "\u001b[0;31mEmptyDataError\u001b[0m: No columns to parse from file"
     ]
    }
   ],
   "source": [
    "resp = client.get_images_json(pd.read_clipboard(header=None)[0].tolist())"
   ]
  },
  {
   "cell_type": "code",
   "execution_count": 18,
   "metadata": {},
   "outputs": [
    {
     "data": {
      "text/plain": [
       "<Response [414]>"
      ]
     },
     "execution_count": 18,
     "metadata": {},
     "output_type": "execute_result"
    }
   ],
   "source": [
    "resp"
   ]
  },
  {
   "cell_type": "markdown",
   "metadata": {},
   "source": [
    "Note: the 414 error means the query string is too long. Instead of getting a long list, we need to make a post request.\n",
    "\n",
    "Can translate long queries into date ranges, but that doesn't avoid bad shots or specific subsets"
   ]
  },
  {
   "cell_type": "code",
   "execution_count": 7,
   "metadata": {},
   "outputs": [],
   "source": [
    "df = client.get_images_df_clipboard(xvar='numberOfSpins')"
   ]
  },
  {
   "cell_type": "code",
   "execution_count": 8,
   "metadata": {},
   "outputs": [
    {
     "data": {
      "text/html": [
       "<div>\n",
       "<style scoped>\n",
       "    .dataframe tbody tr th:only-of-type {\n",
       "        vertical-align: middle;\n",
       "    }\n",
       "\n",
       "    .dataframe tbody tr th {\n",
       "        vertical-align: top;\n",
       "    }\n",
       "\n",
       "    .dataframe thead th {\n",
       "        text-align: right;\n",
       "    }\n",
       "</style>\n",
       "<table border=\"1\" class=\"dataframe\">\n",
       "  <thead>\n",
       "    <tr style=\"text-align: right;\">\n",
       "      <th></th>\n",
       "      <th>imagename</th>\n",
       "      <th>x</th>\n",
       "      <th>whirrFreq</th>\n",
       "      <th>TOPside2p5Quad</th>\n",
       "      <th>numberOfSpins</th>\n",
       "      <th>unixtime</th>\n",
       "      <th>totalRampTime</th>\n",
       "      <th>rampFraction</th>\n",
       "      <th>evapEndTOPMHz</th>\n",
       "    </tr>\n",
       "  </thead>\n",
       "  <tbody>\n",
       "    <tr>\n",
       "      <th>0</th>\n",
       "      <td>2019-02-03_20-57-32_SensicamQE</td>\n",
       "      <td>50.0</td>\n",
       "      <td>4.75</td>\n",
       "      <td>-3.525</td>\n",
       "      <td>50.0</td>\n",
       "      <td>1.549227e+09</td>\n",
       "      <td>0.25</td>\n",
       "      <td>0.95</td>\n",
       "      <td>1777.1</td>\n",
       "    </tr>\n",
       "    <tr>\n",
       "      <th>1</th>\n",
       "      <td>2019-02-03_20-55-48_SensicamQE</td>\n",
       "      <td>50.0</td>\n",
       "      <td>4.75</td>\n",
       "      <td>-3.525</td>\n",
       "      <td>50.0</td>\n",
       "      <td>1.549227e+09</td>\n",
       "      <td>0.25</td>\n",
       "      <td>0.95</td>\n",
       "      <td>1777.1</td>\n",
       "    </tr>\n",
       "    <tr>\n",
       "      <th>2</th>\n",
       "      <td>2019-02-03_20-54-50_SensicamQE</td>\n",
       "      <td>50.0</td>\n",
       "      <td>4.75</td>\n",
       "      <td>-3.525</td>\n",
       "      <td>50.0</td>\n",
       "      <td>1.549227e+09</td>\n",
       "      <td>0.25</td>\n",
       "      <td>0.95</td>\n",
       "      <td>1777.1</td>\n",
       "    </tr>\n",
       "    <tr>\n",
       "      <th>3</th>\n",
       "      <td>2019-02-03_20-50-53_SensicamQE</td>\n",
       "      <td>60.0</td>\n",
       "      <td>4.75</td>\n",
       "      <td>-3.525</td>\n",
       "      <td>60.0</td>\n",
       "      <td>1.549227e+09</td>\n",
       "      <td>0.25</td>\n",
       "      <td>0.95</td>\n",
       "      <td>1777.1</td>\n",
       "    </tr>\n",
       "    <tr>\n",
       "      <th>4</th>\n",
       "      <td>2019-02-03_20-50-20_SensicamQE</td>\n",
       "      <td>55.0</td>\n",
       "      <td>4.75</td>\n",
       "      <td>-3.525</td>\n",
       "      <td>55.0</td>\n",
       "      <td>1.549227e+09</td>\n",
       "      <td>0.25</td>\n",
       "      <td>0.95</td>\n",
       "      <td>1777.1</td>\n",
       "    </tr>\n",
       "  </tbody>\n",
       "</table>\n",
       "</div>"
      ],
      "text/plain": [
       "                        imagename     x  whirrFreq  TOPside2p5Quad  \\\n",
       "0  2019-02-03_20-57-32_SensicamQE  50.0       4.75          -3.525   \n",
       "1  2019-02-03_20-55-48_SensicamQE  50.0       4.75          -3.525   \n",
       "2  2019-02-03_20-54-50_SensicamQE  50.0       4.75          -3.525   \n",
       "3  2019-02-03_20-50-53_SensicamQE  60.0       4.75          -3.525   \n",
       "4  2019-02-03_20-50-20_SensicamQE  55.0       4.75          -3.525   \n",
       "\n",
       "   numberOfSpins      unixtime  totalRampTime  rampFraction  evapEndTOPMHz  \n",
       "0           50.0  1.549227e+09           0.25          0.95         1777.1  \n",
       "1           50.0  1.549227e+09           0.25          0.95         1777.1  \n",
       "2           50.0  1.549227e+09           0.25          0.95         1777.1  \n",
       "3           60.0  1.549227e+09           0.25          0.95         1777.1  \n",
       "4           55.0  1.549227e+09           0.25          0.95         1777.1  "
      ]
     },
     "execution_count": 8,
     "metadata": {},
     "output_type": "execute_result"
    }
   ],
   "source": [
    "df.head()"
   ]
  },
  {
   "cell_type": "code",
   "execution_count": 15,
   "metadata": {
    "scrolled": false
   },
   "outputs": [
    {
     "data": {
      "text/html": [
       "<div>\n",
       "<style scoped>\n",
       "    .dataframe tbody tr th:only-of-type {\n",
       "        vertical-align: middle;\n",
       "    }\n",
       "\n",
       "    .dataframe tbody tr th {\n",
       "        vertical-align: top;\n",
       "    }\n",
       "\n",
       "    .dataframe thead th {\n",
       "        text-align: right;\n",
       "    }\n",
       "</style>\n",
       "<table border=\"1\" class=\"dataframe\">\n",
       "  <thead>\n",
       "    <tr style=\"text-align: right;\">\n",
       "      <th></th>\n",
       "      <th>imagename</th>\n",
       "      <th>x</th>\n",
       "      <th>unixtime</th>\n",
       "      <th>numberOfSpins</th>\n",
       "      <th>totalRampTime</th>\n",
       "      <th>whirrFreq</th>\n",
       "      <th>rampFraction</th>\n",
       "      <th>evapEndTOPMHz</th>\n",
       "      <th>TOPside2p5Quad</th>\n",
       "    </tr>\n",
       "  </thead>\n",
       "  <tbody>\n",
       "    <tr>\n",
       "      <th>0</th>\n",
       "      <td>2019-02-04_03-07-18_SensicamQE</td>\n",
       "      <td>12.0</td>\n",
       "      <td>1.549250e+09</td>\n",
       "      <td>12.0</td>\n",
       "      <td>0.25</td>\n",
       "      <td>4.75</td>\n",
       "      <td>0.7</td>\n",
       "      <td>1777.0</td>\n",
       "      <td>-3.525</td>\n",
       "    </tr>\n",
       "    <tr>\n",
       "      <th>1</th>\n",
       "      <td>2019-02-04_03-06-46_SensicamQE</td>\n",
       "      <td>2.0</td>\n",
       "      <td>1.549250e+09</td>\n",
       "      <td>2.0</td>\n",
       "      <td>0.25</td>\n",
       "      <td>4.75</td>\n",
       "      <td>0.7</td>\n",
       "      <td>1777.0</td>\n",
       "      <td>-3.525</td>\n",
       "    </tr>\n",
       "    <tr>\n",
       "      <th>2</th>\n",
       "      <td>2019-02-04_03-06-14_SensicamQE</td>\n",
       "      <td>15.0</td>\n",
       "      <td>1.549250e+09</td>\n",
       "      <td>15.0</td>\n",
       "      <td>0.25</td>\n",
       "      <td>4.75</td>\n",
       "      <td>0.7</td>\n",
       "      <td>1777.0</td>\n",
       "      <td>-3.525</td>\n",
       "    </tr>\n",
       "    <tr>\n",
       "      <th>3</th>\n",
       "      <td>2019-02-04_03-05-42_SensicamQE</td>\n",
       "      <td>26.0</td>\n",
       "      <td>1.549250e+09</td>\n",
       "      <td>26.0</td>\n",
       "      <td>0.25</td>\n",
       "      <td>4.75</td>\n",
       "      <td>0.7</td>\n",
       "      <td>1777.0</td>\n",
       "      <td>-3.525</td>\n",
       "    </tr>\n",
       "    <tr>\n",
       "      <th>4</th>\n",
       "      <td>2019-02-04_03-05-10_SensicamQE</td>\n",
       "      <td>7.0</td>\n",
       "      <td>1.549250e+09</td>\n",
       "      <td>7.0</td>\n",
       "      <td>0.25</td>\n",
       "      <td>4.75</td>\n",
       "      <td>0.7</td>\n",
       "      <td>1777.0</td>\n",
       "      <td>-3.525</td>\n",
       "    </tr>\n",
       "    <tr>\n",
       "      <th>5</th>\n",
       "      <td>2019-02-04_03-04-37_SensicamQE</td>\n",
       "      <td>47.0</td>\n",
       "      <td>1.549249e+09</td>\n",
       "      <td>47.0</td>\n",
       "      <td>0.25</td>\n",
       "      <td>4.75</td>\n",
       "      <td>0.7</td>\n",
       "      <td>1777.0</td>\n",
       "      <td>-3.525</td>\n",
       "    </tr>\n",
       "    <tr>\n",
       "      <th>6</th>\n",
       "      <td>2019-02-04_03-04-05_SensicamQE</td>\n",
       "      <td>20.0</td>\n",
       "      <td>1.549249e+09</td>\n",
       "      <td>20.0</td>\n",
       "      <td>0.25</td>\n",
       "      <td>4.75</td>\n",
       "      <td>0.7</td>\n",
       "      <td>1777.0</td>\n",
       "      <td>-3.525</td>\n",
       "    </tr>\n",
       "    <tr>\n",
       "      <th>7</th>\n",
       "      <td>2019-02-04_03-03-33_SensicamQE</td>\n",
       "      <td>3.0</td>\n",
       "      <td>1.549249e+09</td>\n",
       "      <td>3.0</td>\n",
       "      <td>0.25</td>\n",
       "      <td>4.75</td>\n",
       "      <td>0.7</td>\n",
       "      <td>1777.0</td>\n",
       "      <td>-3.525</td>\n",
       "    </tr>\n",
       "    <tr>\n",
       "      <th>8</th>\n",
       "      <td>2019-02-04_03-03-01_SensicamQE</td>\n",
       "      <td>20.0</td>\n",
       "      <td>1.549249e+09</td>\n",
       "      <td>20.0</td>\n",
       "      <td>0.25</td>\n",
       "      <td>4.75</td>\n",
       "      <td>0.7</td>\n",
       "      <td>1777.0</td>\n",
       "      <td>-3.525</td>\n",
       "    </tr>\n",
       "    <tr>\n",
       "      <th>9</th>\n",
       "      <td>2019-02-04_03-02-28_SensicamQE</td>\n",
       "      <td>10.0</td>\n",
       "      <td>1.549249e+09</td>\n",
       "      <td>10.0</td>\n",
       "      <td>0.25</td>\n",
       "      <td>4.75</td>\n",
       "      <td>0.7</td>\n",
       "      <td>1777.0</td>\n",
       "      <td>-3.525</td>\n",
       "    </tr>\n",
       "    <tr>\n",
       "      <th>10</th>\n",
       "      <td>2019-02-04_03-01-57_SensicamQE</td>\n",
       "      <td>14.0</td>\n",
       "      <td>1.549249e+09</td>\n",
       "      <td>14.0</td>\n",
       "      <td>0.25</td>\n",
       "      <td>4.75</td>\n",
       "      <td>0.7</td>\n",
       "      <td>1777.0</td>\n",
       "      <td>-3.525</td>\n",
       "    </tr>\n",
       "    <tr>\n",
       "      <th>11</th>\n",
       "      <td>2019-02-04_03-01-25_SensicamQE</td>\n",
       "      <td>53.0</td>\n",
       "      <td>1.549249e+09</td>\n",
       "      <td>53.0</td>\n",
       "      <td>0.25</td>\n",
       "      <td>4.75</td>\n",
       "      <td>0.7</td>\n",
       "      <td>1777.0</td>\n",
       "      <td>-3.525</td>\n",
       "    </tr>\n",
       "    <tr>\n",
       "      <th>12</th>\n",
       "      <td>2019-02-04_03-00-52_SensicamQE</td>\n",
       "      <td>13.0</td>\n",
       "      <td>1.549249e+09</td>\n",
       "      <td>13.0</td>\n",
       "      <td>0.25</td>\n",
       "      <td>4.75</td>\n",
       "      <td>0.7</td>\n",
       "      <td>1777.0</td>\n",
       "      <td>-3.525</td>\n",
       "    </tr>\n",
       "    <tr>\n",
       "      <th>13</th>\n",
       "      <td>2019-02-04_03-00-20_SensicamQE</td>\n",
       "      <td>32.0</td>\n",
       "      <td>1.549249e+09</td>\n",
       "      <td>32.0</td>\n",
       "      <td>0.25</td>\n",
       "      <td>4.75</td>\n",
       "      <td>0.7</td>\n",
       "      <td>1777.0</td>\n",
       "      <td>-3.525</td>\n",
       "    </tr>\n",
       "    <tr>\n",
       "      <th>14</th>\n",
       "      <td>2019-02-04_02-59-48_SensicamQE</td>\n",
       "      <td>18.0</td>\n",
       "      <td>1.549249e+09</td>\n",
       "      <td>18.0</td>\n",
       "      <td>0.25</td>\n",
       "      <td>4.75</td>\n",
       "      <td>0.7</td>\n",
       "      <td>1777.0</td>\n",
       "      <td>-3.525</td>\n",
       "    </tr>\n",
       "    <tr>\n",
       "      <th>15</th>\n",
       "      <td>2019-02-04_02-59-16_SensicamQE</td>\n",
       "      <td>50.0</td>\n",
       "      <td>1.549249e+09</td>\n",
       "      <td>50.0</td>\n",
       "      <td>0.25</td>\n",
       "      <td>4.75</td>\n",
       "      <td>0.7</td>\n",
       "      <td>1777.0</td>\n",
       "      <td>-3.525</td>\n",
       "    </tr>\n",
       "    <tr>\n",
       "      <th>16</th>\n",
       "      <td>2019-02-04_02-58-43_SensicamQE</td>\n",
       "      <td>35.0</td>\n",
       "      <td>1.549249e+09</td>\n",
       "      <td>35.0</td>\n",
       "      <td>0.25</td>\n",
       "      <td>4.75</td>\n",
       "      <td>0.7</td>\n",
       "      <td>1777.0</td>\n",
       "      <td>-3.525</td>\n",
       "    </tr>\n",
       "    <tr>\n",
       "      <th>17</th>\n",
       "      <td>2019-02-04_02-58-12_SensicamQE</td>\n",
       "      <td>56.0</td>\n",
       "      <td>1.549249e+09</td>\n",
       "      <td>56.0</td>\n",
       "      <td>0.25</td>\n",
       "      <td>4.75</td>\n",
       "      <td>0.7</td>\n",
       "      <td>1777.0</td>\n",
       "      <td>-3.525</td>\n",
       "    </tr>\n",
       "    <tr>\n",
       "      <th>18</th>\n",
       "      <td>2019-02-04_02-57-39_SensicamQE</td>\n",
       "      <td>23.0</td>\n",
       "      <td>1.549249e+09</td>\n",
       "      <td>23.0</td>\n",
       "      <td>0.25</td>\n",
       "      <td>4.75</td>\n",
       "      <td>0.7</td>\n",
       "      <td>1777.0</td>\n",
       "      <td>-3.525</td>\n",
       "    </tr>\n",
       "    <tr>\n",
       "      <th>19</th>\n",
       "      <td>2019-02-04_02-57-06_SensicamQE</td>\n",
       "      <td>44.0</td>\n",
       "      <td>1.549249e+09</td>\n",
       "      <td>44.0</td>\n",
       "      <td>0.25</td>\n",
       "      <td>4.75</td>\n",
       "      <td>0.7</td>\n",
       "      <td>1777.0</td>\n",
       "      <td>-3.525</td>\n",
       "    </tr>\n",
       "    <tr>\n",
       "      <th>20</th>\n",
       "      <td>2019-02-04_02-56-34_SensicamQE</td>\n",
       "      <td>19.0</td>\n",
       "      <td>1.549249e+09</td>\n",
       "      <td>19.0</td>\n",
       "      <td>0.25</td>\n",
       "      <td>4.75</td>\n",
       "      <td>0.7</td>\n",
       "      <td>1777.0</td>\n",
       "      <td>-3.525</td>\n",
       "    </tr>\n",
       "    <tr>\n",
       "      <th>21</th>\n",
       "      <td>2019-02-04_02-56-02_SensicamQE</td>\n",
       "      <td>11.0</td>\n",
       "      <td>1.549249e+09</td>\n",
       "      <td>11.0</td>\n",
       "      <td>0.25</td>\n",
       "      <td>4.75</td>\n",
       "      <td>0.7</td>\n",
       "      <td>1777.0</td>\n",
       "      <td>-3.525</td>\n",
       "    </tr>\n",
       "    <tr>\n",
       "      <th>22</th>\n",
       "      <td>2019-02-04_02-55-29_SensicamQE</td>\n",
       "      <td>5.0</td>\n",
       "      <td>1.549249e+09</td>\n",
       "      <td>5.0</td>\n",
       "      <td>0.25</td>\n",
       "      <td>4.75</td>\n",
       "      <td>0.7</td>\n",
       "      <td>1777.0</td>\n",
       "      <td>-3.525</td>\n",
       "    </tr>\n",
       "    <tr>\n",
       "      <th>23</th>\n",
       "      <td>2019-02-04_02-54-57_SensicamQE</td>\n",
       "      <td>9.0</td>\n",
       "      <td>1.549249e+09</td>\n",
       "      <td>9.0</td>\n",
       "      <td>0.25</td>\n",
       "      <td>4.75</td>\n",
       "      <td>0.7</td>\n",
       "      <td>1777.0</td>\n",
       "      <td>-3.525</td>\n",
       "    </tr>\n",
       "    <tr>\n",
       "      <th>24</th>\n",
       "      <td>2019-02-04_02-54-25_SensicamQE</td>\n",
       "      <td>16.0</td>\n",
       "      <td>1.549249e+09</td>\n",
       "      <td>16.0</td>\n",
       "      <td>0.25</td>\n",
       "      <td>4.75</td>\n",
       "      <td>0.7</td>\n",
       "      <td>1777.0</td>\n",
       "      <td>-3.525</td>\n",
       "    </tr>\n",
       "    <tr>\n",
       "      <th>25</th>\n",
       "      <td>2019-02-04_02-53-53_SensicamQE</td>\n",
       "      <td>17.0</td>\n",
       "      <td>1.549249e+09</td>\n",
       "      <td>17.0</td>\n",
       "      <td>0.25</td>\n",
       "      <td>4.75</td>\n",
       "      <td>0.7</td>\n",
       "      <td>1777.0</td>\n",
       "      <td>-3.525</td>\n",
       "    </tr>\n",
       "    <tr>\n",
       "      <th>26</th>\n",
       "      <td>2019-02-04_02-53-21_SensicamQE</td>\n",
       "      <td>0.0</td>\n",
       "      <td>1.549249e+09</td>\n",
       "      <td>0.0</td>\n",
       "      <td>0.25</td>\n",
       "      <td>4.75</td>\n",
       "      <td>0.7</td>\n",
       "      <td>1777.0</td>\n",
       "      <td>-3.525</td>\n",
       "    </tr>\n",
       "    <tr>\n",
       "      <th>27</th>\n",
       "      <td>2019-02-04_02-52-50_SensicamQE</td>\n",
       "      <td>38.0</td>\n",
       "      <td>1.549249e+09</td>\n",
       "      <td>38.0</td>\n",
       "      <td>0.25</td>\n",
       "      <td>4.75</td>\n",
       "      <td>0.7</td>\n",
       "      <td>1777.0</td>\n",
       "      <td>-3.525</td>\n",
       "    </tr>\n",
       "    <tr>\n",
       "      <th>28</th>\n",
       "      <td>2019-02-04_02-52-18_SensicamQE</td>\n",
       "      <td>6.0</td>\n",
       "      <td>1.549249e+09</td>\n",
       "      <td>6.0</td>\n",
       "      <td>0.25</td>\n",
       "      <td>4.75</td>\n",
       "      <td>0.7</td>\n",
       "      <td>1777.0</td>\n",
       "      <td>-3.525</td>\n",
       "    </tr>\n",
       "    <tr>\n",
       "      <th>29</th>\n",
       "      <td>2019-02-04_02-51-45_SensicamQE</td>\n",
       "      <td>41.0</td>\n",
       "      <td>1.549249e+09</td>\n",
       "      <td>41.0</td>\n",
       "      <td>0.25</td>\n",
       "      <td>4.75</td>\n",
       "      <td>0.7</td>\n",
       "      <td>1777.0</td>\n",
       "      <td>-3.525</td>\n",
       "    </tr>\n",
       "    <tr>\n",
       "      <th>30</th>\n",
       "      <td>2019-02-04_02-51-13_SensicamQE</td>\n",
       "      <td>29.0</td>\n",
       "      <td>1.549249e+09</td>\n",
       "      <td>29.0</td>\n",
       "      <td>0.25</td>\n",
       "      <td>4.75</td>\n",
       "      <td>0.7</td>\n",
       "      <td>1777.0</td>\n",
       "      <td>-3.525</td>\n",
       "    </tr>\n",
       "    <tr>\n",
       "      <th>31</th>\n",
       "      <td>2019-02-04_02-50-40_SensicamQE</td>\n",
       "      <td>4.0</td>\n",
       "      <td>1.549249e+09</td>\n",
       "      <td>4.0</td>\n",
       "      <td>0.25</td>\n",
       "      <td>4.75</td>\n",
       "      <td>0.7</td>\n",
       "      <td>1777.0</td>\n",
       "      <td>-3.525</td>\n",
       "    </tr>\n",
       "    <tr>\n",
       "      <th>32</th>\n",
       "      <td>2019-02-04_02-50-08_SensicamQE</td>\n",
       "      <td>1.0</td>\n",
       "      <td>1.549249e+09</td>\n",
       "      <td>1.0</td>\n",
       "      <td>0.25</td>\n",
       "      <td>4.75</td>\n",
       "      <td>0.7</td>\n",
       "      <td>1777.0</td>\n",
       "      <td>-3.525</td>\n",
       "    </tr>\n",
       "    <tr>\n",
       "      <th>33</th>\n",
       "      <td>2019-02-04_02-49-36_SensicamQE</td>\n",
       "      <td>59.0</td>\n",
       "      <td>1.549249e+09</td>\n",
       "      <td>59.0</td>\n",
       "      <td>0.25</td>\n",
       "      <td>4.75</td>\n",
       "      <td>0.7</td>\n",
       "      <td>1777.0</td>\n",
       "      <td>-3.525</td>\n",
       "    </tr>\n",
       "    <tr>\n",
       "      <th>34</th>\n",
       "      <td>2019-02-04_02-49-03_SensicamQE</td>\n",
       "      <td>8.0</td>\n",
       "      <td>1.549249e+09</td>\n",
       "      <td>8.0</td>\n",
       "      <td>0.25</td>\n",
       "      <td>4.75</td>\n",
       "      <td>0.7</td>\n",
       "      <td>1777.0</td>\n",
       "      <td>-3.525</td>\n",
       "    </tr>\n",
       "  </tbody>\n",
       "</table>\n",
       "</div>"
      ],
      "text/plain": [
       "                         imagename     x      unixtime  numberOfSpins  \\\n",
       "0   2019-02-04_03-07-18_SensicamQE  12.0  1.549250e+09           12.0   \n",
       "1   2019-02-04_03-06-46_SensicamQE   2.0  1.549250e+09            2.0   \n",
       "2   2019-02-04_03-06-14_SensicamQE  15.0  1.549250e+09           15.0   \n",
       "3   2019-02-04_03-05-42_SensicamQE  26.0  1.549250e+09           26.0   \n",
       "4   2019-02-04_03-05-10_SensicamQE   7.0  1.549250e+09            7.0   \n",
       "5   2019-02-04_03-04-37_SensicamQE  47.0  1.549249e+09           47.0   \n",
       "6   2019-02-04_03-04-05_SensicamQE  20.0  1.549249e+09           20.0   \n",
       "7   2019-02-04_03-03-33_SensicamQE   3.0  1.549249e+09            3.0   \n",
       "8   2019-02-04_03-03-01_SensicamQE  20.0  1.549249e+09           20.0   \n",
       "9   2019-02-04_03-02-28_SensicamQE  10.0  1.549249e+09           10.0   \n",
       "10  2019-02-04_03-01-57_SensicamQE  14.0  1.549249e+09           14.0   \n",
       "11  2019-02-04_03-01-25_SensicamQE  53.0  1.549249e+09           53.0   \n",
       "12  2019-02-04_03-00-52_SensicamQE  13.0  1.549249e+09           13.0   \n",
       "13  2019-02-04_03-00-20_SensicamQE  32.0  1.549249e+09           32.0   \n",
       "14  2019-02-04_02-59-48_SensicamQE  18.0  1.549249e+09           18.0   \n",
       "15  2019-02-04_02-59-16_SensicamQE  50.0  1.549249e+09           50.0   \n",
       "16  2019-02-04_02-58-43_SensicamQE  35.0  1.549249e+09           35.0   \n",
       "17  2019-02-04_02-58-12_SensicamQE  56.0  1.549249e+09           56.0   \n",
       "18  2019-02-04_02-57-39_SensicamQE  23.0  1.549249e+09           23.0   \n",
       "19  2019-02-04_02-57-06_SensicamQE  44.0  1.549249e+09           44.0   \n",
       "20  2019-02-04_02-56-34_SensicamQE  19.0  1.549249e+09           19.0   \n",
       "21  2019-02-04_02-56-02_SensicamQE  11.0  1.549249e+09           11.0   \n",
       "22  2019-02-04_02-55-29_SensicamQE   5.0  1.549249e+09            5.0   \n",
       "23  2019-02-04_02-54-57_SensicamQE   9.0  1.549249e+09            9.0   \n",
       "24  2019-02-04_02-54-25_SensicamQE  16.0  1.549249e+09           16.0   \n",
       "25  2019-02-04_02-53-53_SensicamQE  17.0  1.549249e+09           17.0   \n",
       "26  2019-02-04_02-53-21_SensicamQE   0.0  1.549249e+09            0.0   \n",
       "27  2019-02-04_02-52-50_SensicamQE  38.0  1.549249e+09           38.0   \n",
       "28  2019-02-04_02-52-18_SensicamQE   6.0  1.549249e+09            6.0   \n",
       "29  2019-02-04_02-51-45_SensicamQE  41.0  1.549249e+09           41.0   \n",
       "30  2019-02-04_02-51-13_SensicamQE  29.0  1.549249e+09           29.0   \n",
       "31  2019-02-04_02-50-40_SensicamQE   4.0  1.549249e+09            4.0   \n",
       "32  2019-02-04_02-50-08_SensicamQE   1.0  1.549249e+09            1.0   \n",
       "33  2019-02-04_02-49-36_SensicamQE  59.0  1.549249e+09           59.0   \n",
       "34  2019-02-04_02-49-03_SensicamQE   8.0  1.549249e+09            8.0   \n",
       "\n",
       "    totalRampTime  whirrFreq  rampFraction  evapEndTOPMHz  TOPside2p5Quad  \n",
       "0            0.25       4.75           0.7         1777.0          -3.525  \n",
       "1            0.25       4.75           0.7         1777.0          -3.525  \n",
       "2            0.25       4.75           0.7         1777.0          -3.525  \n",
       "3            0.25       4.75           0.7         1777.0          -3.525  \n",
       "4            0.25       4.75           0.7         1777.0          -3.525  \n",
       "5            0.25       4.75           0.7         1777.0          -3.525  \n",
       "6            0.25       4.75           0.7         1777.0          -3.525  \n",
       "7            0.25       4.75           0.7         1777.0          -3.525  \n",
       "8            0.25       4.75           0.7         1777.0          -3.525  \n",
       "9            0.25       4.75           0.7         1777.0          -3.525  \n",
       "10           0.25       4.75           0.7         1777.0          -3.525  \n",
       "11           0.25       4.75           0.7         1777.0          -3.525  \n",
       "12           0.25       4.75           0.7         1777.0          -3.525  \n",
       "13           0.25       4.75           0.7         1777.0          -3.525  \n",
       "14           0.25       4.75           0.7         1777.0          -3.525  \n",
       "15           0.25       4.75           0.7         1777.0          -3.525  \n",
       "16           0.25       4.75           0.7         1777.0          -3.525  \n",
       "17           0.25       4.75           0.7         1777.0          -3.525  \n",
       "18           0.25       4.75           0.7         1777.0          -3.525  \n",
       "19           0.25       4.75           0.7         1777.0          -3.525  \n",
       "20           0.25       4.75           0.7         1777.0          -3.525  \n",
       "21           0.25       4.75           0.7         1777.0          -3.525  \n",
       "22           0.25       4.75           0.7         1777.0          -3.525  \n",
       "23           0.25       4.75           0.7         1777.0          -3.525  \n",
       "24           0.25       4.75           0.7         1777.0          -3.525  \n",
       "25           0.25       4.75           0.7         1777.0          -3.525  \n",
       "26           0.25       4.75           0.7         1777.0          -3.525  \n",
       "27           0.25       4.75           0.7         1777.0          -3.525  \n",
       "28           0.25       4.75           0.7         1777.0          -3.525  \n",
       "29           0.25       4.75           0.7         1777.0          -3.525  \n",
       "30           0.25       4.75           0.7         1777.0          -3.525  \n",
       "31           0.25       4.75           0.7         1777.0          -3.525  \n",
       "32           0.25       4.75           0.7         1777.0          -3.525  \n",
       "33           0.25       4.75           0.7         1777.0          -3.525  \n",
       "34           0.25       4.75           0.7         1777.0          -3.525  "
      ]
     },
     "execution_count": 15,
     "metadata": {},
     "output_type": "execute_result"
    }
   ],
   "source": [
    "df"
   ]
  },
  {
   "cell_type": "code",
   "execution_count": null,
   "metadata": {},
   "outputs": [],
   "source": []
  },
  {
   "cell_type": "code",
   "execution_count": null,
   "metadata": {},
   "outputs": [],
   "source": []
  },
  {
   "cell_type": "code",
   "execution_count": null,
   "metadata": {},
   "outputs": [],
   "source": []
  },
  {
   "cell_type": "code",
   "execution_count": 10,
   "metadata": {},
   "outputs": [],
   "source": [
    "import datetime\n",
    "import re\n",
    "\n",
    "def timestr_to_datetime(time_string):\n",
    "    time_string = re.sub(' ','0',time_string[0:19])\n",
    "    return datetime.datetime.strptime(time_string,'%m-%d-%Y_%H_%M_%S')\n",
    "\n",
    "def isoformat_datetime(dt_object):\n",
    "    return dt_object.isoformat()+'Z'"
   ]
  },
  {
   "cell_type": "code",
   "execution_count": 11,
   "metadata": {},
   "outputs": [],
   "source": [
    "timestr = '10-09-2018_00_21_57_TopA'\n",
    "dt_object = timestr_to_datetime(timestr)"
   ]
  },
  {
   "cell_type": "code",
   "execution_count": 12,
   "metadata": {},
   "outputs": [
    {
     "data": {
      "text/plain": [
       "True"
      ]
     },
     "execution_count": 12,
     "metadata": {},
     "output_type": "execute_result"
    }
   ],
   "source": [
    "'2018-10-09T00:21:57Z' == isoformat_datetime(dt_object)"
   ]
  },
  {
   "cell_type": "code",
   "execution_count": 13,
   "metadata": {},
   "outputs": [
    {
     "data": {
      "text/plain": [
       "True"
      ]
     },
     "execution_count": 13,
     "metadata": {},
     "output_type": "execute_result"
    }
   ],
   "source": [
    "type(dt_object)==datetime.datetime"
   ]
  },
  {
   "cell_type": "code",
   "execution_count": 14,
   "metadata": {},
   "outputs": [
    {
     "data": {
      "text/plain": [
       "True"
      ]
     },
     "execution_count": 14,
     "metadata": {},
     "output_type": "execute_result"
    }
   ],
   "source": [
    "type('44')==str"
   ]
  },
  {
   "cell_type": "code",
   "execution_count": 15,
   "metadata": {},
   "outputs": [],
   "source": [
    "TIMEFORMATS = {\n",
    "    'BEC1': 'blah',\n",
    "    'FERMI3':'poo'\n",
    "}"
   ]
  },
  {
   "cell_type": "code",
   "execution_count": 16,
   "metadata": {},
   "outputs": [
    {
     "data": {
      "text/plain": [
       "'blah'"
      ]
     },
     "execution_count": 16,
     "metadata": {},
     "output_type": "execute_result"
    }
   ],
   "source": [
    "TIMEFORMATS['BEC1']"
   ]
  },
  {
   "cell_type": "code",
   "execution_count": 7,
   "metadata": {},
   "outputs": [],
   "source": [
    "from dateutil import parser"
   ]
  },
  {
   "cell_type": "code",
   "execution_count": 8,
   "metadata": {},
   "outputs": [
    {
     "ename": "ValueError",
     "evalue": "('Unknown string format:', '2019-02-27_20-39-28')",
     "output_type": "error",
     "traceback": [
      "\u001b[0;31m---------------------------------------------------------------------------\u001b[0m",
      "\u001b[0;31mValueError\u001b[0m                                Traceback (most recent call last)",
      "\u001b[0;32m<ipython-input-8-28d99baabefc>\u001b[0m in \u001b[0;36m<module>\u001b[0;34m()\u001b[0m\n\u001b[0;32m----> 1\u001b[0;31m \u001b[0mparser\u001b[0m\u001b[0;34m.\u001b[0m\u001b[0mparse\u001b[0m\u001b[0;34m(\u001b[0m\u001b[0;34m'2019-02-27_20-39-28'\u001b[0m\u001b[0;34m)\u001b[0m\u001b[0;34m\u001b[0m\u001b[0m\n\u001b[0m",
      "\u001b[0;32m~/miniconda3/lib/python3.5/site-packages/dateutil/parser/_parser.py\u001b[0m in \u001b[0;36mparse\u001b[0;34m(timestr, parserinfo, **kwargs)\u001b[0m\n\u001b[1;32m   1299\u001b[0m         \u001b[0;32mreturn\u001b[0m \u001b[0mparser\u001b[0m\u001b[0;34m(\u001b[0m\u001b[0mparserinfo\u001b[0m\u001b[0;34m)\u001b[0m\u001b[0;34m.\u001b[0m\u001b[0mparse\u001b[0m\u001b[0;34m(\u001b[0m\u001b[0mtimestr\u001b[0m\u001b[0;34m,\u001b[0m \u001b[0;34m**\u001b[0m\u001b[0mkwargs\u001b[0m\u001b[0;34m)\u001b[0m\u001b[0;34m\u001b[0m\u001b[0m\n\u001b[1;32m   1300\u001b[0m     \u001b[0;32melse\u001b[0m\u001b[0;34m:\u001b[0m\u001b[0;34m\u001b[0m\u001b[0m\n\u001b[0;32m-> 1301\u001b[0;31m         \u001b[0;32mreturn\u001b[0m \u001b[0mDEFAULTPARSER\u001b[0m\u001b[0;34m.\u001b[0m\u001b[0mparse\u001b[0m\u001b[0;34m(\u001b[0m\u001b[0mtimestr\u001b[0m\u001b[0;34m,\u001b[0m \u001b[0;34m**\u001b[0m\u001b[0mkwargs\u001b[0m\u001b[0;34m)\u001b[0m\u001b[0;34m\u001b[0m\u001b[0m\n\u001b[0m\u001b[1;32m   1302\u001b[0m \u001b[0;34m\u001b[0m\u001b[0m\n\u001b[1;32m   1303\u001b[0m \u001b[0;34m\u001b[0m\u001b[0m\n",
      "\u001b[0;32m~/miniconda3/lib/python3.5/site-packages/dateutil/parser/_parser.py\u001b[0m in \u001b[0;36mparse\u001b[0;34m(self, timestr, default, ignoretz, tzinfos, **kwargs)\u001b[0m\n\u001b[1;32m    605\u001b[0m \u001b[0;34m\u001b[0m\u001b[0m\n\u001b[1;32m    606\u001b[0m         \u001b[0;32mif\u001b[0m \u001b[0mres\u001b[0m \u001b[0;32mis\u001b[0m \u001b[0;32mNone\u001b[0m\u001b[0;34m:\u001b[0m\u001b[0;34m\u001b[0m\u001b[0m\n\u001b[0;32m--> 607\u001b[0;31m             \u001b[0;32mraise\u001b[0m \u001b[0mValueError\u001b[0m\u001b[0;34m(\u001b[0m\u001b[0;34m\"Unknown string format:\"\u001b[0m\u001b[0;34m,\u001b[0m \u001b[0mtimestr\u001b[0m\u001b[0;34m)\u001b[0m\u001b[0;34m\u001b[0m\u001b[0m\n\u001b[0m\u001b[1;32m    608\u001b[0m \u001b[0;34m\u001b[0m\u001b[0m\n\u001b[1;32m    609\u001b[0m         \u001b[0;32mif\u001b[0m \u001b[0mlen\u001b[0m\u001b[0;34m(\u001b[0m\u001b[0mres\u001b[0m\u001b[0;34m)\u001b[0m \u001b[0;34m==\u001b[0m \u001b[0;36m0\u001b[0m\u001b[0;34m:\u001b[0m\u001b[0;34m\u001b[0m\u001b[0m\n",
      "\u001b[0;31mValueError\u001b[0m: ('Unknown string format:', '2019-02-27_20-39-28')"
     ]
    }
   ],
   "source": [
    "parser.parse('2019-02-27_20-39-28')"
   ]
  },
  {
   "cell_type": "code",
   "execution_count": 13,
   "metadata": {},
   "outputs": [],
   "source": [
    "resp = client.get_images_json(imagenames)"
   ]
  },
  {
   "cell_type": "code",
   "execution_count": 16,
   "metadata": {
    "scrolled": false
   },
   "outputs": [],
   "source": [
    "jsonresp = resp.json()"
   ]
  },
  {
   "cell_type": "code",
   "execution_count": 24,
   "metadata": {},
   "outputs": [
    {
     "data": {
      "text/plain": [
       "'2018-10-09T00:22:00Z'"
      ]
     },
     "execution_count": 24,
     "metadata": {},
     "output_type": "execute_result"
    }
   ],
   "source": [
    "jsonresp[0]['run']['runtime']"
   ]
  },
  {
   "cell_type": "code",
   "execution_count": 27,
   "metadata": {},
   "outputs": [],
   "source": [
    "import dateutil"
   ]
  },
  {
   "cell_type": "code",
   "execution_count": 35,
   "metadata": {},
   "outputs": [
    {
     "data": {
      "text/plain": [
       "1539044520"
      ]
     },
     "execution_count": 35,
     "metadata": {},
     "output_type": "execute_result"
    }
   ],
   "source": [
    "int(dateutil.parser.parse('2018-10-09T00:22:00Z').timestamp())"
   ]
  },
  {
   "cell_type": "code",
   "execution_count": 39,
   "metadata": {
    "scrolled": false
   },
   "outputs": [
    {
     "data": {
      "text/plain": [
       "'0.22.0'"
      ]
     },
     "execution_count": 39,
     "metadata": {},
     "output_type": "execute_result"
    }
   ],
   "source": [
    "pd.__version__"
   ]
  },
  {
   "cell_type": "code",
   "execution_count": 38,
   "metadata": {},
   "outputs": [],
   "source": [
    "import pandas as pd"
   ]
  },
  {
   "cell_type": "code",
   "execution_count": null,
   "metadata": {},
   "outputs": [],
   "source": []
  }
 ],
 "metadata": {
  "kernelspec": {
   "display_name": "Python 3",
   "language": "python",
   "name": "python3"
  },
  "language_info": {
   "codemirror_mode": {
    "name": "ipython",
    "version": 3
   },
   "file_extension": ".py",
   "mimetype": "text/x-python",
   "name": "python",
   "nbconvert_exporter": "python",
   "pygments_lexer": "ipython3",
   "version": "3.5.4"
  },
  "toc": {
   "colors": {
    "hover_highlight": "#DAA520",
    "running_highlight": "#FF0000",
    "selected_highlight": "#FFD700"
   },
   "moveMenuLeft": true,
   "nav_menu": {
    "height": "12px",
    "width": "252px"
   },
   "navigate_menu": true,
   "number_sections": true,
   "sideBar": true,
   "threshold": 4,
   "toc_cell": false,
   "toc_section_display": "block",
   "toc_window_display": false
  }
 },
 "nbformat": 4,
 "nbformat_minor": 2
}
