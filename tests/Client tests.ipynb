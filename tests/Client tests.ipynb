{
 "cells": [
  {
   "cell_type": "markdown",
   "metadata": {},
   "source": [
    "## Import "
   ]
  },
  {
   "cell_type": "code",
   "execution_count": 1,
   "metadata": {},
   "outputs": [],
   "source": [
    "# Include main project path in the system path for python\n",
    "import sys\n",
    "import os\n",
    "import re\n",
    "import pandas as pd\n",
    "import urllib\n",
    "from tabulate import tabulate\n",
    "import timeit\n",
    "from tqdm import tqdm_notebook as tqdm\n",
    "import re\n",
    "import datetime\n",
    "import numpy as np\n",
    "sys.path.insert( 0,os.path.abspath(os.path.join(os.getcwd(), '..')))\n",
    "\n",
    "# Import the breadboard module\n",
    "from breadboard import BreadboardClient"
   ]
  },
  {
   "cell_type": "markdown",
   "metadata": {},
   "source": [
    "## Get parameters for images"
   ]
  },
  {
   "cell_type": "code",
   "execution_count": 2,
   "metadata": {},
   "outputs": [],
   "source": [
    "# initialize the client\n",
    "bc = BreadboardClient(config_path='API_CONFIG.json', lab_name='bec1')"
   ]
  },
  {
   "cell_type": "code",
   "execution_count": 5,
   "metadata": {},
   "outputs": [
    {
     "data": {
      "application/vnd.jupyter.widget-view+json": {
       "model_id": "e9727ef2a6f748f1b0a5f00deb67e7d2",
       "version_major": 2,
       "version_minor": 0
      },
      "text/plain": [
       "HBox(children=(IntProgress(value=0, max=2), HTML(value='')))"
      ]
     },
     "metadata": {},
     "output_type": "display_data"
    }
   ],
   "source": [
    "imagenames = ['10-09-2018_00_27_44_TopA','10-09-2018_00_27_44_TopB']\n",
    "params = ['FB_field_13_V','ImagFreq0']\n",
    "# params = \"list_bound_only\"\n",
    "\n",
    "# df = bc.get_images_df(imagenames)\n",
    "df = bc.get_images_df(imagenames, params)\n",
    "# df = bc.get_images_df(imagenames, 'FB_field_13_V')"
   ]
  },
  {
   "cell_type": "code",
   "execution_count": 6,
   "metadata": {},
   "outputs": [
    {
     "data": {
      "text/html": [
       "<div>\n",
       "<style scoped>\n",
       "    .dataframe tbody tr th:only-of-type {\n",
       "        vertical-align: middle;\n",
       "    }\n",
       "\n",
       "    .dataframe tbody tr th {\n",
       "        vertical-align: top;\n",
       "    }\n",
       "\n",
       "    .dataframe thead th {\n",
       "        text-align: right;\n",
       "    }\n",
       "</style>\n",
       "<table border=\"1\" class=\"dataframe\">\n",
       "  <thead>\n",
       "    <tr style=\"text-align: right;\">\n",
       "      <th></th>\n",
       "      <th>imagename</th>\n",
       "      <th>x</th>\n",
       "      <th>FB_field_13_V</th>\n",
       "      <th>unixtime</th>\n",
       "      <th>ImagFreq0</th>\n",
       "    </tr>\n",
       "  </thead>\n",
       "  <tbody>\n",
       "    <tr>\n",
       "      <th>0</th>\n",
       "      <td>10-09-2018_00_27_44_TopA</td>\n",
       "      <td>1.539045e+09</td>\n",
       "      <td>3.774</td>\n",
       "      <td>1.539045e+09</td>\n",
       "      <td>193.95</td>\n",
       "    </tr>\n",
       "    <tr>\n",
       "      <th>1</th>\n",
       "      <td>10-09-2018_00_27_44_TopB</td>\n",
       "      <td>1.539045e+09</td>\n",
       "      <td>3.774</td>\n",
       "      <td>1.539045e+09</td>\n",
       "      <td>193.95</td>\n",
       "    </tr>\n",
       "  </tbody>\n",
       "</table>\n",
       "</div>"
      ],
      "text/plain": [
       "                  imagename             x  FB_field_13_V      unixtime  \\\n",
       "0  10-09-2018_00_27_44_TopA  1.539045e+09          3.774  1.539045e+09   \n",
       "1  10-09-2018_00_27_44_TopB  1.539045e+09          3.774  1.539045e+09   \n",
       "\n",
       "   ImagFreq0  \n",
       "0     193.95  \n",
       "1     193.95  "
      ]
     },
     "execution_count": 6,
     "metadata": {},
     "output_type": "execute_result"
    }
   ],
   "source": [
    "df.head()"
   ]
  },
  {
   "cell_type": "code",
   "execution_count": 7,
   "metadata": {},
   "outputs": [
    {
     "data": {
      "text/plain": [
       "'|    | imagename                |           x |   FB_field_13_V |    unixtime |   ImagFreq0 |\\n|---:|:-------------------------|------------:|----------------:|------------:|------------:|\\n|  0 | 10-09-2018_00_27_44_TopA | 1.53904e+09 |           3.774 | 1.53904e+09 |      193.95 |\\n|  1 | 10-09-2018_00_27_44_TopB | 1.53904e+09 |           3.774 | 1.53904e+09 |      193.95 |'"
      ]
     },
     "execution_count": 7,
     "metadata": {},
     "output_type": "execute_result"
    }
   ],
   "source": [
    "tabulate(df, tablefmt=\"pipe\", headers=\"keys\")"
   ]
  },
  {
   "cell_type": "markdown",
   "metadata": {
    "code_folding": []
   },
   "source": [
    "note: the API does some caching so the data might be a little outdated"
   ]
  },
  {
   "cell_type": "markdown",
   "metadata": {},
   "source": [
    "## Update notes for a single image"
   ]
  },
  {
   "cell_type": "code",
   "execution_count": 6,
   "metadata": {},
   "outputs": [],
   "source": [
    "params_update  = {\n",
    "            'notes': \"test\",\n",
    "            'pixel_size': 2\n",
    "        }"
   ]
  },
  {
   "cell_type": "code",
   "execution_count": 7,
   "metadata": {},
   "outputs": [],
   "source": [
    "resp = bc.update_image( df.at[0,'id'],df.at[0,'imagename'], params_update)"
   ]
  },
  {
   "cell_type": "code",
   "execution_count": 8,
   "metadata": {},
   "outputs": [
    {
     "data": {
      "text/plain": [
       "200"
      ]
     },
     "execution_count": 8,
     "metadata": {},
     "output_type": "execute_result"
    }
   ],
   "source": [
    "resp.status_code"
   ]
  },
  {
   "cell_type": "markdown",
   "metadata": {},
   "source": [
    "## Fermi 3 tests"
   ]
  },
  {
   "cell_type": "code",
   "execution_count": 12,
   "metadata": {},
   "outputs": [],
   "source": [
    "# initialize the client\n",
    "bc = BreadboardClient(config_path='API_CONFIG.json', debug=False)"
   ]
  },
  {
   "cell_type": "code",
   "execution_count": 13,
   "metadata": {
    "scrolled": false
   },
   "outputs": [
    {
     "data": {
      "application/vnd.jupyter.widget-view+json": {
       "model_id": "fbe899b0050b466c987c19c062a4891f",
       "version_major": 2,
       "version_minor": 0
      },
      "text/plain": [
       "HBox(children=(IntProgress(value=0, max=2), HTML(value='')))"
      ]
     },
     "metadata": {},
     "output_type": "display_data"
    },
    {
     "data": {
      "text/html": [
       "<div>\n",
       "<style scoped>\n",
       "    .dataframe tbody tr th:only-of-type {\n",
       "        vertical-align: middle;\n",
       "    }\n",
       "\n",
       "    .dataframe tbody tr th {\n",
       "        vertical-align: top;\n",
       "    }\n",
       "\n",
       "    .dataframe thead th {\n",
       "        text-align: right;\n",
       "    }\n",
       "</style>\n",
       "<table border=\"1\" class=\"dataframe\">\n",
       "  <thead>\n",
       "    <tr style=\"text-align: right;\">\n",
       "      <th></th>\n",
       "      <th>imagename</th>\n",
       "      <th>x</th>\n",
       "      <th>TOF</th>\n",
       "      <th>accordionHoldSpacing</th>\n",
       "      <th>unixtime</th>\n",
       "      <th>reWhirrFreq</th>\n",
       "      <th>evapEndTOPMHz</th>\n",
       "      <th>holdTime</th>\n",
       "    </tr>\n",
       "  </thead>\n",
       "  <tbody>\n",
       "    <tr>\n",
       "      <th>0</th>\n",
       "      <td>2019-02-27_20-28-25_SensicamQE</td>\n",
       "      <td>4.675</td>\n",
       "      <td>0.0</td>\n",
       "      <td>4.4</td>\n",
       "      <td>1.551299e+09</td>\n",
       "      <td>4.675</td>\n",
       "      <td>1777.0</td>\n",
       "      <td>10.0</td>\n",
       "    </tr>\n",
       "    <tr>\n",
       "      <th>1</th>\n",
       "      <td>2019-02-27_20-32-42_SensicamQE</td>\n",
       "      <td>4.725</td>\n",
       "      <td>0.0</td>\n",
       "      <td>4.4</td>\n",
       "      <td>1.551300e+09</td>\n",
       "      <td>4.725</td>\n",
       "      <td>1777.0</td>\n",
       "      <td>10.0</td>\n",
       "    </tr>\n",
       "  </tbody>\n",
       "</table>\n",
       "</div>"
      ],
      "text/plain": [
       "                        imagename      x  TOF  accordionHoldSpacing  \\\n",
       "0  2019-02-27_20-28-25_SensicamQE  4.675  0.0                   4.4   \n",
       "1  2019-02-27_20-32-42_SensicamQE  4.725  0.0                   4.4   \n",
       "\n",
       "       unixtime  reWhirrFreq  evapEndTOPMHz  holdTime  \n",
       "0  1.551299e+09        4.675         1777.0      10.0  \n",
       "1  1.551300e+09        4.725         1777.0      10.0  "
      ]
     },
     "execution_count": 13,
     "metadata": {},
     "output_type": "execute_result"
    }
   ],
   "source": [
    "df = bc.get_images_df(['2019-02-27_20-28-25_SensicamQE','2019-02-27_20-32-42_SensicamQE'], paramsin = \"list_bound_only\", xvar='reWhirrFreq')\n",
    "df.head()"
   ]
  },
  {
   "cell_type": "code",
   "execution_count": 14,
   "metadata": {},
   "outputs": [
    {
     "data": {
      "text/plain": [
       "'|    | imagename                      |     x |   TOF |   accordionHoldSpacing |   unixtime |   reWhirrFreq |   evapEndTOPMHz |   holdTime |\\n|---:|:-------------------------------|------:|------:|-----------------------:|-----------:|--------------:|----------------:|-----------:|\\n|  0 | 2019-02-27_20-28-25_SensicamQE | 4.675 |     0 |                    4.4 | 1.5513e+09 |         4.675 |            1777 |         10 |\\n|  1 | 2019-02-27_20-32-42_SensicamQE | 4.725 |     0 |                    4.4 | 1.5513e+09 |         4.725 |            1777 |         10 |'"
      ]
     },
     "execution_count": 14,
     "metadata": {},
     "output_type": "execute_result"
    }
   ],
   "source": [
    "tabulate(df, tablefmt=\"pipe\", headers=\"keys\")"
   ]
  },
  {
   "cell_type": "code",
   "execution_count": 18,
   "metadata": {},
   "outputs": [
    {
     "data": {
      "application/vnd.jupyter.widget-view+json": {
       "model_id": "481505e3a0f446389868165ae5a084d4",
       "version_major": 2,
       "version_minor": 0
      },
      "text/plain": [
       "HBox(children=(IntProgress(value=0, max=963), HTML(value='')))"
      ]
     },
     "metadata": {},
     "output_type": "display_data"
    }
   ],
   "source": [
    "df = pd.read_csv('images_rotini_ls.txt')\n",
    "dfout = bc.get_images_df(df.images.tolist(), paramsin=['id', 'runtime','created', 'holdTime'], force_match=False)"
   ]
  },
  {
   "cell_type": "code",
   "execution_count": 19,
   "metadata": {},
   "outputs": [
    {
     "data": {
      "text/html": [
       "<div>\n",
       "<style scoped>\n",
       "    .dataframe tbody tr th:only-of-type {\n",
       "        vertical-align: middle;\n",
       "    }\n",
       "\n",
       "    .dataframe tbody tr th {\n",
       "        vertical-align: top;\n",
       "    }\n",
       "\n",
       "    .dataframe thead th {\n",
       "        text-align: right;\n",
       "    }\n",
       "</style>\n",
       "<table border=\"1\" class=\"dataframe\">\n",
       "  <thead>\n",
       "    <tr style=\"text-align: right;\">\n",
       "      <th></th>\n",
       "      <th>imagename</th>\n",
       "      <th>x</th>\n",
       "      <th>Omega</th>\n",
       "      <th>F=2 iAmp SCell</th>\n",
       "      <th>saddleSqueezeTime</th>\n",
       "      <th>freeSpinTime</th>\n",
       "      <th>unixtime</th>\n",
       "      <th>evap3EndMHz</th>\n",
       "      <th>holdTime</th>\n",
       "    </tr>\n",
       "  </thead>\n",
       "  <tbody>\n",
       "    <tr>\n",
       "      <th>0</th>\n",
       "      <td>2019-06-19_19-30-46_SensicamQE.fits</td>\n",
       "      <td>1.560973e+09</td>\n",
       "      <td>1.0</td>\n",
       "      <td>0.25</td>\n",
       "      <td>50.0</td>\n",
       "      <td>40.0</td>\n",
       "      <td>1.560973e+09</td>\n",
       "      <td>1773.82</td>\n",
       "      <td>50.0</td>\n",
       "    </tr>\n",
       "    <tr>\n",
       "      <th>1</th>\n",
       "      <td>2019-06-19_19-32-26_SensicamQE.fits</td>\n",
       "      <td>1.560973e+09</td>\n",
       "      <td>1.0</td>\n",
       "      <td>0.25</td>\n",
       "      <td>50.0</td>\n",
       "      <td>40.0</td>\n",
       "      <td>1.560973e+09</td>\n",
       "      <td>1773.82</td>\n",
       "      <td>50.0</td>\n",
       "    </tr>\n",
       "    <tr>\n",
       "      <th>2</th>\n",
       "      <td>2019-06-19_19-33-01_SensicamQE.fits</td>\n",
       "      <td>1.560973e+09</td>\n",
       "      <td>1.0</td>\n",
       "      <td>0.25</td>\n",
       "      <td>50.0</td>\n",
       "      <td>40.0</td>\n",
       "      <td>1.560973e+09</td>\n",
       "      <td>1773.82</td>\n",
       "      <td>50.0</td>\n",
       "    </tr>\n",
       "    <tr>\n",
       "      <th>3</th>\n",
       "      <td>2019-06-19_19-35-36_SensicamQE.fits</td>\n",
       "      <td>1.560973e+09</td>\n",
       "      <td>1.0</td>\n",
       "      <td>0.25</td>\n",
       "      <td>50.0</td>\n",
       "      <td>40.0</td>\n",
       "      <td>1.560973e+09</td>\n",
       "      <td>1773.82</td>\n",
       "      <td>50.0</td>\n",
       "    </tr>\n",
       "    <tr>\n",
       "      <th>4</th>\n",
       "      <td>2019-06-19_19-36-11_SensicamQE.fits</td>\n",
       "      <td>1.560973e+09</td>\n",
       "      <td>1.0</td>\n",
       "      <td>0.25</td>\n",
       "      <td>50.0</td>\n",
       "      <td>40.0</td>\n",
       "      <td>1.560973e+09</td>\n",
       "      <td>1773.82</td>\n",
       "      <td>50.0</td>\n",
       "    </tr>\n",
       "  </tbody>\n",
       "</table>\n",
       "</div>"
      ],
      "text/plain": [
       "                             imagename             x  Omega  F=2 iAmp SCell  \\\n",
       "0  2019-06-19_19-30-46_SensicamQE.fits  1.560973e+09    1.0            0.25   \n",
       "1  2019-06-19_19-32-26_SensicamQE.fits  1.560973e+09    1.0            0.25   \n",
       "2  2019-06-19_19-33-01_SensicamQE.fits  1.560973e+09    1.0            0.25   \n",
       "3  2019-06-19_19-35-36_SensicamQE.fits  1.560973e+09    1.0            0.25   \n",
       "4  2019-06-19_19-36-11_SensicamQE.fits  1.560973e+09    1.0            0.25   \n",
       "\n",
       "   saddleSqueezeTime  freeSpinTime      unixtime  evap3EndMHz  holdTime  \n",
       "0               50.0          40.0  1.560973e+09      1773.82      50.0  \n",
       "1               50.0          40.0  1.560973e+09      1773.82      50.0  \n",
       "2               50.0          40.0  1.560973e+09      1773.82      50.0  \n",
       "3               50.0          40.0  1.560973e+09      1773.82      50.0  \n",
       "4               50.0          40.0  1.560973e+09      1773.82      50.0  "
      ]
     },
     "execution_count": 19,
     "metadata": {},
     "output_type": "execute_result"
    }
   ],
   "source": [
    "dfout.head()"
   ]
  },
  {
   "cell_type": "code",
   "execution_count": 4,
   "metadata": {},
   "outputs": [
    {
     "data": {
      "text/plain": [
       "'|    | imagename                      |           x |   cropi |   atom |    unixtime |   total_atoms |   tags |   pixel_size |   id | notes   |   holdTime |   TOF |   reWhirrFreq |   filepath |   evapEndTOPMHz | created              |   accordionHoldSpacing | url                                              |   reWhirrTime |\\n|---:|:-------------------------------|------------:|--------:|-------:|------------:|--------------:|-------:|-------------:|-----:|:--------|-----------:|------:|--------------:|-----------:|----------------:|:---------------------|-----------------------:|:-------------------------------------------------|--------------:|\\n|  0 | 2019-03-04_15-36-22_SensicamQE | 1.55171e+09 |     nan |    nan | 1.55171e+09 |           nan |    nan |            3 |  635 | test    |        300 |     0 |          4.75 |        nan |            1777 | 2019-03-04T15:36:22Z |                    4.4 | http://breadboard-215702.appspot.com/images/635/ |             7 |\\n|  1 | 2019-03-04_15-35-52_SensicamQE | 1.55171e+09 |     nan |    nan | 1.55171e+09 |           nan |    nan |            3 |  636 | test    |        275 |     0 |          4.75 |        nan |            1777 | 2019-03-04T15:35:52Z |                    4.4 | http://breadboard-215702.appspot.com/images/636/ |             7 |'"
      ]
     },
     "execution_count": 4,
     "metadata": {},
     "output_type": "execute_result"
    }
   ],
   "source": [
    "tabulate(df, tablefmt=\"pipe\", headers=\"keys\")"
   ]
  },
  {
   "cell_type": "markdown",
   "metadata": {},
   "source": [
    "## tests on the raw json request"
   ]
  },
  {
   "cell_type": "code",
   "execution_count": 3,
   "metadata": {},
   "outputs": [],
   "source": [
    "resp = bc.post_images(pd.read_clipboard(header=None)[0].tolist(), force_match=False)"
   ]
  },
  {
   "cell_type": "code",
   "execution_count": 4,
   "metadata": {},
   "outputs": [
    {
     "data": {
      "text/plain": [
       "'{\"count\":1,\"next\":null,\"previous\":null,\"results\":[{\"url\":\"http://breadboard-215702.appspot.com/images/52659/\",\"id\":52659,\"name\":\"2019-06-19_18-18-45_SensicamQE\",\"created\":\"2019-06-19T18:18:45Z\",\"notes\":null,\"filepath\":\"\\\\\\\\\\\\\\\\18.62.1.253\\\\\\\\Raw Data\\\\\\\\Fermi3\\\\\\\\Images\\\\\\\\2019\\\\\\\\2019-06\\\\\\\\2019-06-19\\\\\\\\2019-06-19_18-18-45_SensicamQE.fits\",\"tags\":null,\"cropi\":null,\"atom\":null,\"odpath\":\"odimages/Fermi3/2019/2019-06/2019-06-19/2019-06-19_18-18-45_SensicamQE.jpg\",\"total_atoms\":null,\"settings\":null,\"atomsperpixel\":null,\"thumbnail\":null,\"run\":null,\"pixel_size\":2.58e-07,\"bad_shot\":null}]}'"
      ]
     },
     "execution_count": 4,
     "metadata": {},
     "output_type": "execute_result"
    }
   ],
   "source": [
    "resp.text"
   ]
  },
  {
   "cell_type": "markdown",
   "metadata": {},
   "source": [
    "## Test pagination "
   ]
  },
  {
   "cell_type": "code",
   "execution_count": 2,
   "metadata": {},
   "outputs": [],
   "source": [
    "# initialize the client\n",
    "bc = BreadboardClient(config_path='API_CONFIG.json', lab_name='fermi3')"
   ]
  },
  {
   "cell_type": "code",
   "execution_count": 3,
   "metadata": {},
   "outputs": [],
   "source": [
    "with open('test_pagination_imagepost.txt', 'r') as f:\n",
    "    out = f.readlines()\n",
    "    \n",
    "imagenames = [img[:-1] for img in out]\n",
    "\n",
    "# imagenames = imagenames[0]  # test a single image\n",
    "imagenames = imagenames[0:120]  # test a single page"
   ]
  },
  {
   "cell_type": "code",
   "execution_count": 4,
   "metadata": {},
   "outputs": [
    {
     "name": "stdout",
     "output_type": "stream",
     "text": [
      "status_code = 200\n",
      "number of objects returned = 120\n"
     ]
    }
   ],
   "source": [
    "# Test a direct single post query using imagenames\n",
    "resp = bc.post_images(imagenames, force_match=False)\n",
    "print('status_code = {}'.format(resp.status_code))\n",
    "print('number of objects returned = {}'.format(len(resp.json().get('results'))))"
   ]
  },
  {
   "cell_type": "code",
   "execution_count": 6,
   "metadata": {},
   "outputs": [
    {
     "name": "stdout",
     "output_type": "stream",
     "text": [
      "Re-matching runs to images. Note: this takes some time, so run force_match=False to speed up.\n"
     ]
    },
    {
     "data": {
      "application/vnd.jupyter.widget-view+json": {
       "model_id": "",
       "version_major": 2,
       "version_minor": 0
      },
      "text/plain": [
       "HBox(children=(IntProgress(value=0, description='Matching...', max=7), HTML(value='')))"
      ]
     },
     "metadata": {},
     "output_type": "display_data"
    },
    {
     "name": "stdout",
     "output_type": "stream",
     "text": []
    },
    {
     "data": {
      "application/vnd.jupyter.widget-view+json": {
       "model_id": "e941f09567e24d2d93dec878c9ad9e22",
       "version_major": 2,
       "version_minor": 0
      },
      "text/plain": [
       "HBox(children=(IntProgress(value=0, max=120), HTML(value='')))"
      ]
     },
     "metadata": {},
     "output_type": "display_data"
    },
    {
     "name": "stdout",
     "output_type": "stream",
     "text": [
      "\n",
      "number of objects returned = 120\n"
     ]
    }
   ],
   "source": [
    "# Test the df method with force_match\n",
    "df = bc.get_images_df(imagenames, force_match=True)\n",
    "print('number of objects returned = {}'.format(len(df)))"
   ]
  },
  {
   "cell_type": "code",
   "execution_count": 6,
   "metadata": {},
   "outputs": [
    {
     "data": {
      "application/vnd.jupyter.widget-view+json": {
       "model_id": "f950cdc66cee4526a84523ac95395948",
       "version_major": 2,
       "version_minor": 0
      },
      "text/plain": [
       "HBox(children=(IntProgress(value=0, max=120), HTML(value='')))"
      ]
     },
     "metadata": {},
     "output_type": "display_data"
    },
    {
     "name": "stdout",
     "output_type": "stream",
     "text": [
      "number of objects returned = 120\n"
     ]
    }
   ],
   "source": [
    "# Test the df method without force_match\n",
    "df = bc.get_images_df(imagenames, force_match=False)\n",
    "print('number of objects returned = {}'.format(len(df)))"
   ]
  },
  {
   "cell_type": "markdown",
   "metadata": {},
   "source": [
    "## Feature: Get images from datetime range"
   ]
  },
  {
   "cell_type": "code",
   "execution_count": 2,
   "metadata": {},
   "outputs": [],
   "source": [
    "# initialize the client\n",
    "bc = BreadboardClient(config_path='API_CONFIG.json', lab_name='fermi3')"
   ]
  },
  {
   "cell_type": "code",
   "execution_count": 3,
   "metadata": {},
   "outputs": [
    {
     "data": {
      "text/plain": [
       "'2019-03-14T00:20:55Z'"
      ]
     },
     "execution_count": 3,
     "metadata": {},
     "output_type": "execute_result"
    }
   ],
   "source": [
    "'2019-03-14T00:20:55Z'"
   ]
  },
  {
   "cell_type": "code",
   "execution_count": 4,
   "metadata": {},
   "outputs": [],
   "source": [
    "start_datetime = datetime.datetime(2019,7,1,0,0,55)\n",
    "end_datetime = datetime.datetime(2019,7,2,0,20,55)"
   ]
  },
  {
   "cell_type": "code",
   "execution_count": 5,
   "metadata": {},
   "outputs": [
    {
     "data": {
      "application/vnd.jupyter.widget-view+json": {
       "model_id": "3b6d97ec02a24214b7e9282df44bfaca",
       "version_major": 2,
       "version_minor": 0
      },
      "text/plain": [
       "HBox(children=(IntProgress(value=0, max=570), HTML(value='')))"
      ]
     },
     "metadata": {},
     "output_type": "display_data"
    },
    {
     "name": "stdout",
     "output_type": "stream",
     "text": [
      "\n"
     ]
    }
   ],
   "source": [
    "out = bc.get_images_df(datetime_range=[start_datetime, end_datetime])"
   ]
  },
  {
   "cell_type": "code",
   "execution_count": 6,
   "metadata": {},
   "outputs": [
    {
     "data": {
      "text/plain": [
       "570"
      ]
     },
     "execution_count": 6,
     "metadata": {},
     "output_type": "execute_result"
    }
   ],
   "source": [
    "len(out)"
   ]
  },
  {
   "cell_type": "code",
   "execution_count": 59,
   "metadata": {},
   "outputs": [
    {
     "data": {
      "text/html": [
       "<div>\n",
       "<style scoped>\n",
       "    .dataframe tbody tr th:only-of-type {\n",
       "        vertical-align: middle;\n",
       "    }\n",
       "\n",
       "    .dataframe tbody tr th {\n",
       "        vertical-align: top;\n",
       "    }\n",
       "\n",
       "    .dataframe thead th {\n",
       "        text-align: right;\n",
       "    }\n",
       "</style>\n",
       "<table border=\"1\" class=\"dataframe\">\n",
       "  <thead>\n",
       "    <tr style=\"text-align: right;\">\n",
       "      <th></th>\n",
       "      <th>imagename</th>\n",
       "      <th>x</th>\n",
       "      <th>cleanUpLevel</th>\n",
       "      <th>unixtime</th>\n",
       "      <th>Li F=3/2 pAmp</th>\n",
       "      <th>Li F=3/2 pFreq</th>\n",
       "    </tr>\n",
       "  </thead>\n",
       "  <tbody>\n",
       "    <tr>\n",
       "      <th>0</th>\n",
       "      <td>2019-07-01_14-09-16</td>\n",
       "      <td>1.561990e+09</td>\n",
       "      <td>0.00</td>\n",
       "      <td>1.561990e+09</td>\n",
       "      <td>0.15</td>\n",
       "      <td>6.5</td>\n",
       "    </tr>\n",
       "    <tr>\n",
       "      <th>1</th>\n",
       "      <td>2019-07-01_14-09-27</td>\n",
       "      <td>1.561990e+09</td>\n",
       "      <td>0.10</td>\n",
       "      <td>1.561990e+09</td>\n",
       "      <td>0.15</td>\n",
       "      <td>6.5</td>\n",
       "    </tr>\n",
       "    <tr>\n",
       "      <th>2</th>\n",
       "      <td>2019-07-01_14-09-38</td>\n",
       "      <td>1.561990e+09</td>\n",
       "      <td>0.06</td>\n",
       "      <td>1.561990e+09</td>\n",
       "      <td>0.15</td>\n",
       "      <td>6.5</td>\n",
       "    </tr>\n",
       "    <tr>\n",
       "      <th>3</th>\n",
       "      <td>2019-07-01_14-09-48</td>\n",
       "      <td>1.561990e+09</td>\n",
       "      <td>0.08</td>\n",
       "      <td>1.561990e+09</td>\n",
       "      <td>0.15</td>\n",
       "      <td>6.5</td>\n",
       "    </tr>\n",
       "    <tr>\n",
       "      <th>4</th>\n",
       "      <td>2019-07-01_14-09-59</td>\n",
       "      <td>1.561990e+09</td>\n",
       "      <td>0.11</td>\n",
       "      <td>1.561990e+09</td>\n",
       "      <td>0.15</td>\n",
       "      <td>6.5</td>\n",
       "    </tr>\n",
       "  </tbody>\n",
       "</table>\n",
       "</div>"
      ],
      "text/plain": [
       "             imagename             x  cleanUpLevel      unixtime  \\\n",
       "0  2019-07-01_14-09-16  1.561990e+09          0.00  1.561990e+09   \n",
       "1  2019-07-01_14-09-27  1.561990e+09          0.10  1.561990e+09   \n",
       "2  2019-07-01_14-09-38  1.561990e+09          0.06  1.561990e+09   \n",
       "3  2019-07-01_14-09-48  1.561990e+09          0.08  1.561990e+09   \n",
       "4  2019-07-01_14-09-59  1.561990e+09          0.11  1.561990e+09   \n",
       "\n",
       "   Li F=3/2 pAmp  Li F=3/2 pFreq  \n",
       "0           0.15             6.5  \n",
       "1           0.15             6.5  \n",
       "2           0.15             6.5  \n",
       "3           0.15             6.5  \n",
       "4           0.15             6.5  "
      ]
     },
     "execution_count": 59,
     "metadata": {},
     "output_type": "execute_result"
    }
   ],
   "source": [
    "out.head()"
   ]
  },
  {
   "cell_type": "code",
   "execution_count": 57,
   "metadata": {},
   "outputs": [
    {
     "data": {
      "text/html": [
       "<div>\n",
       "<style scoped>\n",
       "    .dataframe tbody tr th:only-of-type {\n",
       "        vertical-align: middle;\n",
       "    }\n",
       "\n",
       "    .dataframe tbody tr th {\n",
       "        vertical-align: top;\n",
       "    }\n",
       "\n",
       "    .dataframe thead th {\n",
       "        text-align: right;\n",
       "    }\n",
       "</style>\n",
       "<table border=\"1\" class=\"dataframe\">\n",
       "  <thead>\n",
       "    <tr style=\"text-align: right;\">\n",
       "      <th></th>\n",
       "      <th>imagename</th>\n",
       "      <th>x</th>\n",
       "      <th>cleanUpLevel</th>\n",
       "      <th>unixtime</th>\n",
       "      <th>Li F=3/2 pAmp</th>\n",
       "      <th>Li F=3/2 pFreq</th>\n",
       "    </tr>\n",
       "  </thead>\n",
       "  <tbody>\n",
       "  </tbody>\n",
       "</table>\n",
       "</div>"
      ],
      "text/plain": [
       "Empty DataFrame\n",
       "Columns: [imagename, x, cleanUpLevel, unixtime, Li F=3/2 pAmp, Li F=3/2 pFreq]\n",
       "Index: []"
      ]
     },
     "execution_count": 57,
     "metadata": {},
     "output_type": "execute_result"
    }
   ],
   "source": [
    "out[out.x<1e8]"
   ]
  },
  {
   "cell_type": "markdown",
   "metadata": {},
   "source": [
    "## Feature : lab query"
   ]
  },
  {
   "cell_type": "code",
   "execution_count": 4,
   "metadata": {},
   "outputs": [],
   "source": [
    "resp = bc._send_message('get', '/labs/')"
   ]
  },
  {
   "cell_type": "code",
   "execution_count": 9,
   "metadata": {},
   "outputs": [],
   "source": [
    "res= resp.json()['results']"
   ]
  },
  {
   "cell_type": "code",
   "execution_count": 11,
   "metadata": {},
   "outputs": [],
   "source": [
    "lab = [lab for lab in res if lab['name']=='fermi3'][0]"
   ]
  },
  {
   "cell_type": "code",
   "execution_count": 13,
   "metadata": {},
   "outputs": [
    {
     "data": {
      "text/plain": [
       "'http://breadboard-215702.appspot.com/labs/4/'"
      ]
     },
     "execution_count": 13,
     "metadata": {},
     "output_type": "execute_result"
    }
   ],
   "source": [
    "lab['url']"
   ]
  },
  {
   "cell_type": "code",
   "execution_count": 10,
   "metadata": {},
   "outputs": [],
   "source": [
    "def blah(**kwargs):\n",
    "    x = {'x': 'default',\n",
    "        **kwargs}\n",
    "    print(x)"
   ]
  },
  {
   "cell_type": "code",
   "execution_count": 12,
   "metadata": {},
   "outputs": [
    {
     "name": "stdout",
     "output_type": "stream",
     "text": [
      "{'x': 'default'}\n"
     ]
    }
   ],
   "source": [
    "blah()"
   ]
  },
  {
   "cell_type": "code",
   "execution_count": null,
   "metadata": {},
   "outputs": [],
   "source": []
  },
  {
   "cell_type": "markdown",
   "metadata": {},
   "source": [
    "## Feature : datasets"
   ]
  },
  {
   "cell_type": "code",
   "execution_count": 15,
   "metadata": {},
   "outputs": [],
   "source": [
    "resp = bc._send_message('get', '/datasets/')"
   ]
  },
  {
   "cell_type": "code",
   "execution_count": 16,
   "metadata": {},
   "outputs": [
    {
     "data": {
      "text/plain": [
       "{'count': 3,\n",
       " 'next': None,\n",
       " 'previous': None,\n",
       " 'results': [{'created': '2018-09-07T15:12:43.789917Z',\n",
       "   'flag': '',\n",
       "   'id': 1,\n",
       "   'lab': None,\n",
       "   'name': '',\n",
       "   'notes': '',\n",
       "   'project': None,\n",
       "   'runs': [],\n",
       "   'tags': None,\n",
       "   'url': 'http://breadboard-215702.appspot.com/datasets/1/'},\n",
       "  {'created': '2018-09-07T15:14:31.868199Z',\n",
       "   'flag': '',\n",
       "   'id': 2,\n",
       "   'lab': None,\n",
       "   'name': 'DS1',\n",
       "   'notes': '',\n",
       "   'project': 2,\n",
       "   'runs': [],\n",
       "   'tags': None,\n",
       "   'url': 'http://breadboard-215702.appspot.com/datasets/2/'},\n",
       "  {'created': '2018-09-12T01:46:32.135184Z',\n",
       "   'flag': '',\n",
       "   'id': 3,\n",
       "   'lab': None,\n",
       "   'name': 'test DS 1',\n",
       "   'notes': '',\n",
       "   'project': None,\n",
       "   'runs': [],\n",
       "   'tags': {},\n",
       "   'url': 'http://breadboard-215702.appspot.com/datasets/3/'}]}"
      ]
     },
     "execution_count": 16,
     "metadata": {},
     "output_type": "execute_result"
    }
   ],
   "source": [
    "resp.json()"
   ]
  },
  {
   "cell_type": "code",
   "execution_count": null,
   "metadata": {},
   "outputs": [],
   "source": [
    "# What I want to run:\n",
    "\n",
    "bc.create_dataset(imagenames, dsname='today/ds1')\n",
    "df = bc.load_dataset(dsname='june 15/DS1')\n",
    "\n",
    "\"\"\"dsname date options:\n",
    "- today = today's date\n",
    "- yesterday = yesterday's date\n",
    "- MM DD = this year, month, date\n",
    "- MM DD YY or YYYY \n",
    "\"\"\" \n",
    "\n",
    "# Design choices:\n",
    "\n",
    "df = bc.load_dataset(dsname='june 15/DS1')\n",
    "\n",
    "ds = bc.load_dataset(dsname='june 15/DS1')\n",
    "\n",
    "ds.df = pd.Dataframe...\n",
    "ds.name = blah\n",
    "ds.date\n",
    "\n",
    "\n"
   ]
  },
  {
   "cell_type": "code",
   "execution_count": null,
   "metadata": {},
   "outputs": [],
   "source": []
  },
  {
   "cell_type": "code",
   "execution_count": null,
   "metadata": {},
   "outputs": [],
   "source": []
  },
  {
   "cell_type": "code",
   "execution_count": null,
   "metadata": {},
   "outputs": [],
   "source": []
  },
  {
   "cell_type": "code",
   "execution_count": null,
   "metadata": {},
   "outputs": [],
   "source": []
  },
  {
   "cell_type": "code",
   "execution_count": null,
   "metadata": {},
   "outputs": [],
   "source": []
  },
  {
   "cell_type": "code",
   "execution_count": 10,
   "metadata": {},
   "outputs": [],
   "source": [
    "import datetime\n",
    "import re\n",
    "\n",
    "def timestr_to_datetime(time_string):\n",
    "    time_string = re.sub(' ','0',time_string[0:19])\n",
    "    return datetime.datetime.strptime(time_string,'%m-%d-%Y_%H_%M_%S')\n",
    "\n",
    "def isoformat_datetime(dt_object):\n",
    "    return dt_object.isoformat()+'Z'"
   ]
  },
  {
   "cell_type": "code",
   "execution_count": 11,
   "metadata": {},
   "outputs": [],
   "source": [
    "timestr = '10-09-2018_00_21_57_TopA'\n",
    "dt_object = timestr_to_datetime(timestr)"
   ]
  },
  {
   "cell_type": "code",
   "execution_count": 12,
   "metadata": {},
   "outputs": [
    {
     "data": {
      "text/plain": [
       "True"
      ]
     },
     "execution_count": 12,
     "metadata": {},
     "output_type": "execute_result"
    }
   ],
   "source": [
    "'2018-10-09T00:21:57Z' == isoformat_datetime(dt_object)"
   ]
  },
  {
   "cell_type": "code",
   "execution_count": 13,
   "metadata": {},
   "outputs": [
    {
     "data": {
      "text/plain": [
       "True"
      ]
     },
     "execution_count": 13,
     "metadata": {},
     "output_type": "execute_result"
    }
   ],
   "source": [
    "type(dt_object)==datetime.datetime"
   ]
  },
  {
   "cell_type": "code",
   "execution_count": 14,
   "metadata": {},
   "outputs": [
    {
     "data": {
      "text/plain": [
       "True"
      ]
     },
     "execution_count": 14,
     "metadata": {},
     "output_type": "execute_result"
    }
   ],
   "source": [
    "type('44')==str"
   ]
  },
  {
   "cell_type": "code",
   "execution_count": 15,
   "metadata": {},
   "outputs": [],
   "source": [
    "TIMEFORMATS = {\n",
    "    'BEC1': 'blah',\n",
    "    'FERMI3':'poo'\n",
    "}"
   ]
  },
  {
   "cell_type": "code",
   "execution_count": 16,
   "metadata": {},
   "outputs": [
    {
     "data": {
      "text/plain": [
       "'blah'"
      ]
     },
     "execution_count": 16,
     "metadata": {},
     "output_type": "execute_result"
    }
   ],
   "source": [
    "TIMEFORMATS['BEC1']"
   ]
  },
  {
   "cell_type": "code",
   "execution_count": 7,
   "metadata": {},
   "outputs": [],
   "source": [
    "from dateutil import parser"
   ]
  },
  {
   "cell_type": "code",
   "execution_count": 8,
   "metadata": {},
   "outputs": [
    {
     "ename": "ValueError",
     "evalue": "('Unknown string format:', '2019-02-27_20-39-28')",
     "output_type": "error",
     "traceback": [
      "\u001b[0;31m---------------------------------------------------------------------------\u001b[0m",
      "\u001b[0;31mValueError\u001b[0m                                Traceback (most recent call last)",
      "\u001b[0;32m<ipython-input-8-28d99baabefc>\u001b[0m in \u001b[0;36m<module>\u001b[0;34m()\u001b[0m\n\u001b[0;32m----> 1\u001b[0;31m \u001b[0mparser\u001b[0m\u001b[0;34m.\u001b[0m\u001b[0mparse\u001b[0m\u001b[0;34m(\u001b[0m\u001b[0;34m'2019-02-27_20-39-28'\u001b[0m\u001b[0;34m)\u001b[0m\u001b[0;34m\u001b[0m\u001b[0m\n\u001b[0m",
      "\u001b[0;32m~/miniconda3/lib/python3.5/site-packages/dateutil/parser/_parser.py\u001b[0m in \u001b[0;36mparse\u001b[0;34m(timestr, parserinfo, **kwargs)\u001b[0m\n\u001b[1;32m   1299\u001b[0m         \u001b[0;32mreturn\u001b[0m \u001b[0mparser\u001b[0m\u001b[0;34m(\u001b[0m\u001b[0mparserinfo\u001b[0m\u001b[0;34m)\u001b[0m\u001b[0;34m.\u001b[0m\u001b[0mparse\u001b[0m\u001b[0;34m(\u001b[0m\u001b[0mtimestr\u001b[0m\u001b[0;34m,\u001b[0m \u001b[0;34m**\u001b[0m\u001b[0mkwargs\u001b[0m\u001b[0;34m)\u001b[0m\u001b[0;34m\u001b[0m\u001b[0m\n\u001b[1;32m   1300\u001b[0m     \u001b[0;32melse\u001b[0m\u001b[0;34m:\u001b[0m\u001b[0;34m\u001b[0m\u001b[0m\n\u001b[0;32m-> 1301\u001b[0;31m         \u001b[0;32mreturn\u001b[0m \u001b[0mDEFAULTPARSER\u001b[0m\u001b[0;34m.\u001b[0m\u001b[0mparse\u001b[0m\u001b[0;34m(\u001b[0m\u001b[0mtimestr\u001b[0m\u001b[0;34m,\u001b[0m \u001b[0;34m**\u001b[0m\u001b[0mkwargs\u001b[0m\u001b[0;34m)\u001b[0m\u001b[0;34m\u001b[0m\u001b[0m\n\u001b[0m\u001b[1;32m   1302\u001b[0m \u001b[0;34m\u001b[0m\u001b[0m\n\u001b[1;32m   1303\u001b[0m \u001b[0;34m\u001b[0m\u001b[0m\n",
      "\u001b[0;32m~/miniconda3/lib/python3.5/site-packages/dateutil/parser/_parser.py\u001b[0m in \u001b[0;36mparse\u001b[0;34m(self, timestr, default, ignoretz, tzinfos, **kwargs)\u001b[0m\n\u001b[1;32m    605\u001b[0m \u001b[0;34m\u001b[0m\u001b[0m\n\u001b[1;32m    606\u001b[0m         \u001b[0;32mif\u001b[0m \u001b[0mres\u001b[0m \u001b[0;32mis\u001b[0m \u001b[0;32mNone\u001b[0m\u001b[0;34m:\u001b[0m\u001b[0;34m\u001b[0m\u001b[0m\n\u001b[0;32m--> 607\u001b[0;31m             \u001b[0;32mraise\u001b[0m \u001b[0mValueError\u001b[0m\u001b[0;34m(\u001b[0m\u001b[0;34m\"Unknown string format:\"\u001b[0m\u001b[0;34m,\u001b[0m \u001b[0mtimestr\u001b[0m\u001b[0;34m)\u001b[0m\u001b[0;34m\u001b[0m\u001b[0m\n\u001b[0m\u001b[1;32m    608\u001b[0m \u001b[0;34m\u001b[0m\u001b[0m\n\u001b[1;32m    609\u001b[0m         \u001b[0;32mif\u001b[0m \u001b[0mlen\u001b[0m\u001b[0;34m(\u001b[0m\u001b[0mres\u001b[0m\u001b[0;34m)\u001b[0m \u001b[0;34m==\u001b[0m \u001b[0;36m0\u001b[0m\u001b[0;34m:\u001b[0m\u001b[0;34m\u001b[0m\u001b[0m\n",
      "\u001b[0;31mValueError\u001b[0m: ('Unknown string format:', '2019-02-27_20-39-28')"
     ]
    }
   ],
   "source": [
    "parser.parse('2019-02-27_20-39-28')"
   ]
  },
  {
   "cell_type": "code",
   "execution_count": 13,
   "metadata": {},
   "outputs": [],
   "source": [
    "resp = client.get_images_json(imagenames)"
   ]
  },
  {
   "cell_type": "code",
   "execution_count": 16,
   "metadata": {
    "scrolled": false
   },
   "outputs": [],
   "source": [
    "jsonresp = resp.json()"
   ]
  },
  {
   "cell_type": "code",
   "execution_count": 24,
   "metadata": {},
   "outputs": [
    {
     "data": {
      "text/plain": [
       "'2018-10-09T00:22:00Z'"
      ]
     },
     "execution_count": 24,
     "metadata": {},
     "output_type": "execute_result"
    }
   ],
   "source": [
    "jsonresp[0]['run']['runtime']"
   ]
  },
  {
   "cell_type": "code",
   "execution_count": 27,
   "metadata": {},
   "outputs": [],
   "source": [
    "import dateutil"
   ]
  },
  {
   "cell_type": "code",
   "execution_count": 35,
   "metadata": {},
   "outputs": [
    {
     "data": {
      "text/plain": [
       "1539044520"
      ]
     },
     "execution_count": 35,
     "metadata": {},
     "output_type": "execute_result"
    }
   ],
   "source": [
    "int(dateutil.parser.parse('2018-10-09T00:22:00Z').timestamp())"
   ]
  },
  {
   "cell_type": "code",
   "execution_count": 39,
   "metadata": {
    "scrolled": false
   },
   "outputs": [
    {
     "data": {
      "text/plain": [
       "'0.22.0'"
      ]
     },
     "execution_count": 39,
     "metadata": {},
     "output_type": "execute_result"
    }
   ],
   "source": [
    "pd.__version__"
   ]
  },
  {
   "cell_type": "code",
   "execution_count": 25,
   "metadata": {},
   "outputs": [],
   "source": []
  },
  {
   "cell_type": "code",
   "execution_count": 28,
   "metadata": {},
   "outputs": [
    {
     "data": {
      "application/vnd.jupyter.widget-view+json": {
       "model_id": "fe29c33802764e21ba2faecf852bfb29",
       "version_major": 2,
       "version_minor": 0
      },
      "text/plain": [
       "HBox(children=(IntProgress(value=0, max=10), HTML(value='')))"
      ]
     },
     "metadata": {},
     "output_type": "display_data"
    },
    {
     "name": "stdout",
     "output_type": "stream",
     "text": [
      "0\n",
      "1\n",
      "2\n",
      "3\n",
      "4\n",
      "5\n",
      "6\n",
      "7\n",
      "8\n",
      "9\n",
      "\n"
     ]
    }
   ],
   "source": [
    "for x in tqdm(range(10)):\n",
    "    print(x)"
   ]
  },
  {
   "cell_type": "code",
   "execution_count": null,
   "metadata": {},
   "outputs": [],
   "source": []
  }
 ],
 "metadata": {
  "kernelspec": {
   "display_name": "Python 3",
   "language": "python",
   "name": "python3"
  },
  "language_info": {
   "codemirror_mode": {
    "name": "ipython",
    "version": 3
   },
   "file_extension": ".py",
   "mimetype": "text/x-python",
   "name": "python",
   "nbconvert_exporter": "python",
   "pygments_lexer": "ipython3",
   "version": "3.5.4"
  },
  "toc": {
   "colors": {
    "hover_highlight": "#DAA520",
    "running_highlight": "#FF0000",
    "selected_highlight": "#FFD700"
   },
   "moveMenuLeft": true,
   "nav_menu": {
    "height": "12px",
    "width": "252px"
   },
   "navigate_menu": true,
   "number_sections": true,
   "sideBar": true,
   "threshold": 4,
   "toc_cell": false,
   "toc_section_display": "block",
   "toc_window_display": true
  }
 },
 "nbformat": 4,
 "nbformat_minor": 2
}
