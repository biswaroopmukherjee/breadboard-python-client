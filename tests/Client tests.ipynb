{
 "cells": [
  {
   "cell_type": "code",
   "execution_count": 1,
   "metadata": {},
   "outputs": [],
   "source": [
    "# Include main project path in the system path for python\n",
    "import sys\n",
    "import os\n",
    "import re\n",
    "sys.path.insert( 0,os.path.abspath(os.path.join(os.getcwd(), '..')))\n",
    "\n",
    "# Import the breadboard module\n",
    "from breadboard import BreadboardClient"
   ]
  },
  {
   "cell_type": "markdown",
   "metadata": {},
   "source": [
    "## Get parameters for images"
   ]
  },
  {
   "cell_type": "code",
   "execution_count": 2,
   "metadata": {},
   "outputs": [],
   "source": [
    "# initialize the client\n",
    "client = BreadboardClient(config_path='API_CONFIG.json')"
   ]
  },
  {
   "cell_type": "code",
   "execution_count": 5,
   "metadata": {},
   "outputs": [],
   "source": [
    "imagenames = ['10-09-2018_00_21_57_TopA','10-09-2018_00_21_57_TopB']\n",
    "params = ['FB_field_13_V','ImagFreq0', 'cylinder hold time', 'unixtime']\n",
    "df = client.get_images_df(imagenames, params)"
   ]
  },
  {
   "cell_type": "code",
   "execution_count": 6,
   "metadata": {},
   "outputs": [
    {
     "data": {
      "text/html": [
       "<div>\n",
       "<style scoped>\n",
       "    .dataframe tbody tr th:only-of-type {\n",
       "        vertical-align: middle;\n",
       "    }\n",
       "\n",
       "    .dataframe tbody tr th {\n",
       "        vertical-align: top;\n",
       "    }\n",
       "\n",
       "    .dataframe thead th {\n",
       "        text-align: right;\n",
       "    }\n",
       "</style>\n",
       "<table border=\"1\" class=\"dataframe\">\n",
       "  <thead>\n",
       "    <tr style=\"text-align: right;\">\n",
       "      <th></th>\n",
       "      <th>imagename</th>\n",
       "      <th>filepath</th>\n",
       "      <th>FB_field_13_V</th>\n",
       "      <th>url</th>\n",
       "      <th>total_atoms</th>\n",
       "      <th>unixtime</th>\n",
       "      <th>id</th>\n",
       "      <th>ImagFreq0</th>\n",
       "      <th>tags</th>\n",
       "      <th>cropi</th>\n",
       "      <th>notes</th>\n",
       "      <th>atom</th>\n",
       "      <th>cylinder hold time</th>\n",
       "      <th>created</th>\n",
       "    </tr>\n",
       "  </thead>\n",
       "  <tbody>\n",
       "    <tr>\n",
       "      <th>0</th>\n",
       "      <td>10-09-2018_00_21_57_TopA</td>\n",
       "      <td>NaN</td>\n",
       "      <td>3.774</td>\n",
       "      <td>http://breadboard-215702.appspot.com/images/10/</td>\n",
       "      <td>NaN</td>\n",
       "      <td>1.539045e+09</td>\n",
       "      <td>10.0</td>\n",
       "      <td>193.95</td>\n",
       "      <td>NaN</td>\n",
       "      <td>NaN</td>\n",
       "      <td>test</td>\n",
       "      <td>Li</td>\n",
       "      <td>0.2</td>\n",
       "      <td>2018-10-09T00:21:57Z</td>\n",
       "    </tr>\n",
       "    <tr>\n",
       "      <th>1</th>\n",
       "      <td>10-09-2018_00_21_57_TopB</td>\n",
       "      <td>NaN</td>\n",
       "      <td>3.774</td>\n",
       "      <td>http://breadboard-215702.appspot.com/images/11/</td>\n",
       "      <td>NaN</td>\n",
       "      <td>1.539045e+09</td>\n",
       "      <td>11.0</td>\n",
       "      <td>193.95</td>\n",
       "      <td>NaN</td>\n",
       "      <td>NaN</td>\n",
       "      <td>None</td>\n",
       "      <td>Li</td>\n",
       "      <td>0.2</td>\n",
       "      <td>2018-10-09T00:21:57Z</td>\n",
       "    </tr>\n",
       "  </tbody>\n",
       "</table>\n",
       "</div>"
      ],
      "text/plain": [
       "                  imagename  filepath  FB_field_13_V  \\\n",
       "0  10-09-2018_00_21_57_TopA       NaN          3.774   \n",
       "1  10-09-2018_00_21_57_TopB       NaN          3.774   \n",
       "\n",
       "                                               url  total_atoms      unixtime  \\\n",
       "0  http://breadboard-215702.appspot.com/images/10/          NaN  1.539045e+09   \n",
       "1  http://breadboard-215702.appspot.com/images/11/          NaN  1.539045e+09   \n",
       "\n",
       "     id  ImagFreq0  tags  cropi notes atom  cylinder hold time  \\\n",
       "0  10.0     193.95   NaN    NaN  test   Li                 0.2   \n",
       "1  11.0     193.95   NaN    NaN  None   Li                 0.2   \n",
       "\n",
       "                created  \n",
       "0  2018-10-09T00:21:57Z  \n",
       "1  2018-10-09T00:21:57Z  "
      ]
     },
     "execution_count": 6,
     "metadata": {},
     "output_type": "execute_result"
    }
   ],
   "source": [
    "df.head()"
   ]
  },
  {
   "cell_type": "code",
   "execution_count": 5,
   "metadata": {},
   "outputs": [],
   "source": [
    "# note the API does a lot of caching so the data might be a little outdated"
   ]
  },
  {
   "cell_type": "markdown",
   "metadata": {},
   "source": [
    "## Update notes for a single image"
   ]
  },
  {
   "cell_type": "code",
   "execution_count": 6,
   "metadata": {},
   "outputs": [],
   "source": [
    "params_update  = {\n",
    "            'notes': \"test\"\n",
    "        }"
   ]
  },
  {
   "cell_type": "code",
   "execution_count": 7,
   "metadata": {},
   "outputs": [],
   "source": [
    "resp = client.update_image( df.at[0,'id'],df.at[0,'imagename'], params_update)"
   ]
  },
  {
   "cell_type": "code",
   "execution_count": 8,
   "metadata": {},
   "outputs": [
    {
     "data": {
      "text/plain": [
       "200"
      ]
     },
     "execution_count": 8,
     "metadata": {},
     "output_type": "execute_result"
    }
   ],
   "source": [
    "resp.status_code"
   ]
  },
  {
   "cell_type": "markdown",
   "metadata": {},
   "source": [
    "## Random stuff"
   ]
  },
  {
   "cell_type": "code",
   "execution_count": 9,
   "metadata": {},
   "outputs": [
    {
     "name": "stdout",
     "output_type": "stream",
     "text": [
      "poo\n"
     ]
    }
   ],
   "source": [
    "a= \"20391ej\"\n",
    "if a: print('poo')\n",
    "else: print('ho')"
   ]
  },
  {
   "cell_type": "code",
   "execution_count": 10,
   "metadata": {},
   "outputs": [],
   "source": [
    "import datetime\n",
    "import re\n",
    "\n",
    "def timestr_to_datetime(time_string):\n",
    "    time_string = re.sub(' ','0',time_string[0:19])\n",
    "    return datetime.datetime.strptime(time_string,'%m-%d-%Y_%H_%M_%S')\n",
    "\n",
    "def isoformat_datetime(dt_object):\n",
    "    return dt_object.isoformat()+'Z'"
   ]
  },
  {
   "cell_type": "code",
   "execution_count": 11,
   "metadata": {},
   "outputs": [],
   "source": [
    "timestr = '10-09-2018_00_21_57_TopA'\n",
    "dt_object = timestr_to_datetime(timestr)"
   ]
  },
  {
   "cell_type": "code",
   "execution_count": 12,
   "metadata": {},
   "outputs": [
    {
     "data": {
      "text/plain": [
       "True"
      ]
     },
     "execution_count": 12,
     "metadata": {},
     "output_type": "execute_result"
    }
   ],
   "source": [
    "'2018-10-09T00:21:57Z' == isoformat_datetime(dt_object)"
   ]
  },
  {
   "cell_type": "code",
   "execution_count": 13,
   "metadata": {},
   "outputs": [
    {
     "data": {
      "text/plain": [
       "True"
      ]
     },
     "execution_count": 13,
     "metadata": {},
     "output_type": "execute_result"
    }
   ],
   "source": [
    "type(dt_object)==datetime.datetime"
   ]
  },
  {
   "cell_type": "code",
   "execution_count": 14,
   "metadata": {},
   "outputs": [
    {
     "data": {
      "text/plain": [
       "True"
      ]
     },
     "execution_count": 14,
     "metadata": {},
     "output_type": "execute_result"
    }
   ],
   "source": [
    "type('44')==str"
   ]
  },
  {
   "cell_type": "code",
   "execution_count": 15,
   "metadata": {},
   "outputs": [],
   "source": [
    "TIMEFORMATS = {\n",
    "    'BEC1': 'blah',\n",
    "    'FERMI3':'poo'\n",
    "}"
   ]
  },
  {
   "cell_type": "code",
   "execution_count": 16,
   "metadata": {},
   "outputs": [
    {
     "data": {
      "text/plain": [
       "'blah'"
      ]
     },
     "execution_count": 16,
     "metadata": {},
     "output_type": "execute_result"
    }
   ],
   "source": [
    "TIMEFORMATS['BEC1']"
   ]
  },
  {
   "cell_type": "code",
   "execution_count": 17,
   "metadata": {},
   "outputs": [
    {
     "ename": "ImportError",
     "evalue": "No module named 'dateutils'",
     "output_type": "error",
     "traceback": [
      "\u001b[0;31m---------------------------------------------------------------------------\u001b[0m",
      "\u001b[0;31mImportError\u001b[0m                               Traceback (most recent call last)",
      "\u001b[0;32m<ipython-input-17-27c31c8eb0d3>\u001b[0m in \u001b[0;36m<module>\u001b[0;34m()\u001b[0m\n\u001b[0;32m----> 1\u001b[0;31m \u001b[0;32mfrom\u001b[0m \u001b[0mdateutils\u001b[0m \u001b[0;32mimport\u001b[0m \u001b[0mparser\u001b[0m\u001b[0;34m\u001b[0m\u001b[0m\n\u001b[0m",
      "\u001b[0;31mImportError\u001b[0m: No module named 'dateutils'"
     ]
    }
   ],
   "source": [
    "from dateutils import parser"
   ]
  },
  {
   "cell_type": "code",
   "execution_count": 13,
   "metadata": {},
   "outputs": [],
   "source": [
    "resp = client.get_images_json(imagenames)"
   ]
  },
  {
   "cell_type": "code",
   "execution_count": 16,
   "metadata": {
    "scrolled": false
   },
   "outputs": [],
   "source": [
    "jsonresp = resp.json()"
   ]
  },
  {
   "cell_type": "code",
   "execution_count": 24,
   "metadata": {},
   "outputs": [
    {
     "data": {
      "text/plain": [
       "'2018-10-09T00:22:00Z'"
      ]
     },
     "execution_count": 24,
     "metadata": {},
     "output_type": "execute_result"
    }
   ],
   "source": [
    "jsonresp[0]['run']['runtime']"
   ]
  },
  {
   "cell_type": "code",
   "execution_count": 27,
   "metadata": {},
   "outputs": [],
   "source": [
    "import dateutil"
   ]
  },
  {
   "cell_type": "code",
   "execution_count": 35,
   "metadata": {},
   "outputs": [
    {
     "data": {
      "text/plain": [
       "1539044520"
      ]
     },
     "execution_count": 35,
     "metadata": {},
     "output_type": "execute_result"
    }
   ],
   "source": [
    "int(dateutil.parser.parse('2018-10-09T00:22:00Z').timestamp())"
   ]
  },
  {
   "cell_type": "code",
   "execution_count": 39,
   "metadata": {
    "scrolled": false
   },
   "outputs": [
    {
     "data": {
      "text/plain": [
       "'0.22.0'"
      ]
     },
     "execution_count": 39,
     "metadata": {},
     "output_type": "execute_result"
    }
   ],
   "source": [
    "pd.__version__"
   ]
  },
  {
   "cell_type": "code",
   "execution_count": 38,
   "metadata": {},
   "outputs": [],
   "source": [
    "import pandas as pd"
   ]
  },
  {
   "cell_type": "code",
   "execution_count": null,
   "metadata": {},
   "outputs": [],
   "source": []
  }
 ],
 "metadata": {
  "kernelspec": {
   "display_name": "Python 3",
   "language": "python",
   "name": "python3"
  },
  "language_info": {
   "codemirror_mode": {
    "name": "ipython",
    "version": 3
   },
   "file_extension": ".py",
   "mimetype": "text/x-python",
   "name": "python",
   "nbconvert_exporter": "python",
   "pygments_lexer": "ipython3",
   "version": "3.5.4"
  },
  "toc": {
   "colors": {
    "hover_highlight": "#DAA520",
    "running_highlight": "#FF0000",
    "selected_highlight": "#FFD700"
   },
   "moveMenuLeft": true,
   "nav_menu": {
    "height": "12px",
    "width": "252px"
   },
   "navigate_menu": true,
   "number_sections": true,
   "sideBar": true,
   "threshold": 4,
   "toc_cell": false,
   "toc_section_display": "block",
   "toc_window_display": false
  }
 },
 "nbformat": 4,
 "nbformat_minor": 2
}
