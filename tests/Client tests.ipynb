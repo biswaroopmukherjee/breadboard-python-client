{
 "cells": [
  {
   "cell_type": "code",
   "execution_count": 1,
   "metadata": {},
   "outputs": [],
   "source": [
    "# Include main project path in the system path for python\n",
    "import sys\n",
    "import os\n",
    "sys.path.insert( 0,os.path.abspath(os.path.join(os.getcwd(), '..')))\n",
    "\n",
    "# Import the breadboard module\n",
    "from breadboard import BreadboardClient"
   ]
  },
  {
   "cell_type": "markdown",
   "metadata": {},
   "source": [
    "## Get parameters for images"
   ]
  },
  {
   "cell_type": "code",
   "execution_count": 6,
   "metadata": {},
   "outputs": [],
   "source": [
    "# initialize the client\n",
    "client = BreadboardClient(config_path='API_CONFIG.json')"
   ]
  },
  {
   "cell_type": "code",
   "execution_count": 7,
   "metadata": {},
   "outputs": [],
   "source": [
    "imagenames = ['10-09-2018_00_21_57_TopA','10-09-2018_00_21_57_TopB']\n",
    "params = ['FB_field_13_V','ImagFreq0', 'cylinder hold time']\n",
    "df = client.get_images_df(imagenames, params)"
   ]
  },
  {
   "cell_type": "code",
   "execution_count": 12,
   "metadata": {},
   "outputs": [
    {
     "data": {
      "text/html": [
       "<div>\n",
       "<style scoped>\n",
       "    .dataframe tbody tr th:only-of-type {\n",
       "        vertical-align: middle;\n",
       "    }\n",
       "\n",
       "    .dataframe tbody tr th {\n",
       "        vertical-align: top;\n",
       "    }\n",
       "\n",
       "    .dataframe thead th {\n",
       "        text-align: right;\n",
       "    }\n",
       "</style>\n",
       "<table border=\"1\" class=\"dataframe\">\n",
       "  <thead>\n",
       "    <tr style=\"text-align: right;\">\n",
       "      <th></th>\n",
       "      <th>imagename</th>\n",
       "      <th>ImagFreq0</th>\n",
       "      <th>cylinder hold time</th>\n",
       "      <th>url</th>\n",
       "      <th>tags</th>\n",
       "      <th>notes</th>\n",
       "      <th>filepath</th>\n",
       "      <th>id</th>\n",
       "      <th>created</th>\n",
       "      <th>total_atoms</th>\n",
       "      <th>FB_field_13_V</th>\n",
       "      <th>atom</th>\n",
       "      <th>cropi</th>\n",
       "    </tr>\n",
       "  </thead>\n",
       "  <tbody>\n",
       "    <tr>\n",
       "      <th>0</th>\n",
       "      <td>10-09-2018_00_21_57_TopA</td>\n",
       "      <td>193.95</td>\n",
       "      <td>0.2</td>\n",
       "      <td>http://breadboard-215702.appspot.com/images/10/</td>\n",
       "      <td>NaN</td>\n",
       "      <td>tes232t</td>\n",
       "      <td>NaN</td>\n",
       "      <td>10.0</td>\n",
       "      <td>2018-10-09T00:21:57Z</td>\n",
       "      <td>NaN</td>\n",
       "      <td>3.774</td>\n",
       "      <td>Li</td>\n",
       "      <td>NaN</td>\n",
       "    </tr>\n",
       "    <tr>\n",
       "      <th>1</th>\n",
       "      <td>10-09-2018_00_21_57_TopB</td>\n",
       "      <td>193.95</td>\n",
       "      <td>0.2</td>\n",
       "      <td>http://breadboard-215702.appspot.com/images/11/</td>\n",
       "      <td>NaN</td>\n",
       "      <td>None</td>\n",
       "      <td>NaN</td>\n",
       "      <td>11.0</td>\n",
       "      <td>2018-10-09T00:21:57Z</td>\n",
       "      <td>NaN</td>\n",
       "      <td>3.774</td>\n",
       "      <td>Li</td>\n",
       "      <td>NaN</td>\n",
       "    </tr>\n",
       "  </tbody>\n",
       "</table>\n",
       "</div>"
      ],
      "text/plain": [
       "                  imagename  ImagFreq0  cylinder hold time  \\\n",
       "0  10-09-2018_00_21_57_TopA     193.95                 0.2   \n",
       "1  10-09-2018_00_21_57_TopB     193.95                 0.2   \n",
       "\n",
       "                                               url  tags    notes  filepath  \\\n",
       "0  http://breadboard-215702.appspot.com/images/10/   NaN  tes232t       NaN   \n",
       "1  http://breadboard-215702.appspot.com/images/11/   NaN     None       NaN   \n",
       "\n",
       "     id               created  total_atoms  FB_field_13_V atom  cropi  \n",
       "0  10.0  2018-10-09T00:21:57Z          NaN          3.774   Li    NaN  \n",
       "1  11.0  2018-10-09T00:21:57Z          NaN          3.774   Li    NaN  "
      ]
     },
     "execution_count": 12,
     "metadata": {},
     "output_type": "execute_result"
    }
   ],
   "source": [
    "df.head()"
   ]
  },
  {
   "cell_type": "code",
   "execution_count": null,
   "metadata": {},
   "outputs": [],
   "source": [
    "# note the API does a lot of caching so the data might be a little outdated"
   ]
  },
  {
   "cell_type": "markdown",
   "metadata": {},
   "source": [
    "## Update notes for a single image"
   ]
  },
  {
   "cell_type": "code",
   "execution_count": 9,
   "metadata": {},
   "outputs": [],
   "source": [
    "params_update  = {\n",
    "            'notes': \"test\"\n",
    "        }"
   ]
  },
  {
   "cell_type": "code",
   "execution_count": 10,
   "metadata": {},
   "outputs": [],
   "source": [
    "resp = client.update_image( df.at[0,'id'],df.at[0,'imagename'], params_update)"
   ]
  },
  {
   "cell_type": "code",
   "execution_count": 11,
   "metadata": {},
   "outputs": [
    {
     "data": {
      "text/plain": [
       "200"
      ]
     },
     "execution_count": 11,
     "metadata": {},
     "output_type": "execute_result"
    }
   ],
   "source": [
    "resp.status_code"
   ]
  },
  {
   "cell_type": "code",
   "execution_count": null,
   "metadata": {},
   "outputs": [],
   "source": []
  }
 ],
 "metadata": {
  "kernelspec": {
   "display_name": "Python 3",
   "language": "python",
   "name": "python3"
  },
  "language_info": {
   "codemirror_mode": {
    "name": "ipython",
    "version": 3
   },
   "file_extension": ".py",
   "mimetype": "text/x-python",
   "name": "python",
   "nbconvert_exporter": "python",
   "pygments_lexer": "ipython3",
   "version": "3.5.4"
  },
  "toc": {
   "colors": {
    "hover_highlight": "#DAA520",
    "running_highlight": "#FF0000",
    "selected_highlight": "#FFD700"
   },
   "moveMenuLeft": true,
   "nav_menu": {
    "height": "12px",
    "width": "252px"
   },
   "navigate_menu": true,
   "number_sections": true,
   "sideBar": true,
   "threshold": 4,
   "toc_cell": false,
   "toc_section_display": "block",
   "toc_window_display": false
  }
 },
 "nbformat": 4,
 "nbformat_minor": 2
}
