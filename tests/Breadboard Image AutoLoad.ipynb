{
 "cells": [
  {
   "cell_type": "code",
   "execution_count": 22,
   "metadata": {
    "code_folding": [],
    "collapsed": true
   },
   "outputs": [],
   "source": [
    "# Imports \n",
    "import os\n",
    "import pyfits\n",
    "import time\n",
    "import datetime\n",
    "import scipy.misc\n",
    "import shutil\n",
    "import numpy as np\n",
    "import posixpath\n",
    "import matplotlib.pyplot as plt\n",
    "import imageio\n",
    "from PIL import Image\n",
    "from astropy.io import fits\n",
    "%matplotlib inline\n",
    "\n",
    "from breadboard import BreadboardClient\n",
    "bc = BreadboardClient(config_path='D:\\\\User\\Documents\\\\My Programs\\\\API_CONFIG_fermi3.json')\n",
    "\n",
    "\n",
    "import warnings\n",
    "warnings.filterwarnings(\"ignore\", \"Your application has authenticated using end user credentials\")\n",
    "warnings.filterwarnings(\"ignore\", \"Could not find appropriate MS Visual C Runtime\")\n"
   ]
  },
  {
   "cell_type": "markdown",
   "metadata": {},
   "source": [
    "# Helper Functions"
   ]
  },
  {
   "cell_type": "code",
   "execution_count": 23,
   "metadata": {
    "code_folding": [],
    "collapsed": true
   },
   "outputs": [],
   "source": [
    "def select_today(main_folder=\"\\\\\\\\bec1server\\\\Raw Data\\\\Fermi3\\\\Images\"):\n",
    "    '''\n",
    "    Get today's folder\n",
    "    ===============================\n",
    "    '''\n",
    "    start_time = datetime.datetime.now() \n",
    "    start_year = start_time.strftime('%Y')\n",
    "    start_month = start_time.strftime('%Y-%m')\n",
    "    start_date = start_time.strftime('%Y-%m-%d')\n",
    "    output_folder = os.path.join(main_folder, start_year, start_month, start_date)\n",
    "    if not (os.path.exists(output_folder)): os.makedirs(output_folder)\n",
    "    return output_folder\n",
    "\n",
    "\n",
    "def plot_image(imgs, clim=[0, 1.5]):\n",
    "    '''\n",
    "    Plot an image\n",
    "    =============================\n",
    "    ''' \n",
    "    If = imgs[0] - imgs[2]\n",
    "    Ii = imgs[1] - imgs[2] \n",
    "    od = - np.log(If / Ii) \n",
    "    plt.figure(figsize=[10, 10])\n",
    "    plt.imshow(od, origin=0, clim=clim)\n",
    "    plt.title(\"{}\".format(output_filename))\n",
    "    plt.tight_layout()\n",
    "    plt.show()\n",
    "    return Null\n",
    "\n",
    "def write_jpeg(imgs, clim=[0, 2]):\n",
    "    '''\n",
    "    Write a jpeg of the OD\n",
    "    =============================\n",
    "    ''' \n",
    "    od_folder = select_today(main_folder=\"\\\\\\\\bec1server\\\\web\\\\odimages\\\\Fermi3\")\n",
    "    od_filepath = os.path.join(od_folder, os.path.splitext(output_filename)[0]+'.jpg')\n",
    "    If = imgs[0] - imgs[2]\n",
    "    Ii = imgs[1] - imgs[2] \n",
    "    with np.errstate(divide='ignore', invalid='ignore'): od = - np.log(If / Ii) \n",
    "    newim = Image.fromarray(od*255/2)\n",
    "    newim = newim.convert(\"L\")\n",
    "    newim.save(od_filepath)\n",
    "    return od_filepath\n",
    "\n",
    "\n",
    "def upload_odimage(source_file_name):\n",
    "    \"\"\"\"\"\"\n",
    "    '''\n",
    "    Uploads a file to the google cloud odimages bucket. This is for a future website\n",
    "    =============================\n",
    "    ''' \n",
    "\n",
    "    start_time = datetime.datetime.now() \n",
    "    start_year = start_time.strftime('%Y')\n",
    "    start_month = start_time.strftime('%Y-%m')\n",
    "    destination_blob_name = \"Fermi3/\" + start_year + \"/\" + start_month + \"/\" + os.path.splitext(output_filename)[0] + '.jpg'\n",
    "    \n",
    "    blob = bucket.blob(destination_blob_name)\n",
    "    blob.upload_from_filename(source_file_name)\n",
    "    blob.make_public()\n",
    "\n",
    "    return blob.public_url\n",
    "\n",
    "\n",
    "def getFileList(folder = 'Not Provided'):\n",
    "    '''\n",
    "    Get a list of files in a folder\n",
    "    ===============================\n",
    "    '''\n",
    "    # Confirm that given folder path is correct\n",
    "    if not os.path.exists(folder): raise ValueError(\"Folder '{}' doesn't exist\".format(folder))\n",
    "    # Folder contents\n",
    "    filenames = [filename for filename in os.listdir(folder)]\n",
    "    # Output\n",
    "    paths = [os.path.join(folder,f) for f in filenames]\n",
    "    return (filenames, paths)"
   ]
  },
  {
   "cell_type": "markdown",
   "metadata": {},
   "source": [
    "# Main Code"
   ]
  },
  {
   "cell_type": "code",
   "execution_count": 24,
   "metadata": {},
   "outputs": [],
   "source": [
    "# Global settings \n",
    "refresh_time = 0.3 # seconds\n",
    "main_folder = \"\\\\\\\\bec1server\\\\Raw Data\\\\Fermi3\\\\Images\"\n",
    "input_format = '%Y-%m-%d_%H-%M-%S'\n",
    "start_time = datetime.datetime.now()\n",
    "today_folder = select_today()\n",
    "timecounter = 8 * refresh_time\n",
    "storage_client = storage.Client() # for uploading odimages to google cloud (Future website)\n",
    "bucket = storage_client.bucket(\"odimages\") # for uploading odimages to google cloud (Future website)\n",
    "names_old, paths_old = getFileList(today_folder)"
   ]
  },
  {
   "cell_type": "code",
   "execution_count": null,
   "metadata": {
    "code_folding": [],
    "scrolled": false
   },
   "outputs": [
    {
     "name": "stdout",
     "output_type": "stream",
     "text": [
      "2020-02-21_13-14-17.fits\n",
      "2020-02-21_13-14-56.fits\n",
      "2020-02-21_13-15-36.fits\n"
     ]
    }
   ],
   "source": [
    "\n",
    "# Main Loop \n",
    "while True: \n",
    "    today_folder = select_today()\n",
    "    # Get a list of all the images in the folder \n",
    "    names, paths = getFileList(today_folder)\n",
    "    names = sorted(names)\n",
    "    paths = sorted(paths)\n",
    "    \n",
    "    # check if a new image has come in\n",
    "    if len(names)>len(names_old):\n",
    "        timecounter = 0\n",
    "        output_filename = names[-1]\n",
    "        output_filepath = paths[-1]\n",
    "        print(output_filename)\n",
    "        # Write a JPEG of the OD\n",
    "        try:\n",
    "            with fits.open(output_filepath) as hdul:\n",
    "                local_od_filepath = write_jpeg(hdul[0].data)\n",
    "                cloud_od_filepath = upload_odimage(local_od_filepath)\n",
    "        except: pass\n",
    "        # Write to Breadboard\n",
    "        try:\n",
    "            resp = bc.post_images(\n",
    "                        image_names = os.path.splitext(output_filename)[0],\n",
    "                        filepath = output_filepath,\n",
    "                        odpath = cloud_od_filepath,\n",
    "                        )\n",
    "        except: pass\n",
    "        names_old = names\n",
    "        \n",
    "    # Ensure runs are matched with a second post request:\n",
    "    if timecounter == 7 * refresh_time:\n",
    "        try:\n",
    "            resp = bc.post_images(image_names = os.path.splitext(output_filename)[0],\n",
    "                            filepath = output_filepath,\n",
    "                            odpath = cloud_od_filepath,\n",
    "                            force_match=True) \n",
    "            if resp.status_code!=200:\n",
    "                print(resp.text)\n",
    "        except: pass\n",
    "        \n",
    "    # Wait before checking again \n",
    "    time.sleep(refresh_time)\n",
    "    timecounter += refresh_time"
   ]
  },
  {
   "cell_type": "markdown",
   "metadata": {},
   "source": [
    "# Tests"
   ]
  },
  {
   "cell_type": "code",
   "execution_count": null,
   "metadata": {
    "collapsed": true
   },
   "outputs": [],
   "source": []
  }
 ],
 "metadata": {
  "anaconda-cloud": {},
  "kernelspec": {
   "display_name": "Python 3",
   "language": "python",
   "name": "python3"
  },
  "language_info": {
   "codemirror_mode": {
    "name": "ipython",
    "version": 3
   },
   "file_extension": ".py",
   "mimetype": "text/x-python",
   "name": "python",
   "nbconvert_exporter": "python",
   "pygments_lexer": "ipython3",
   "version": "3.7.6"
  },
  "toc": {
   "base_numbering": 1,
   "colors": {
    "hover_highlight": "#DAA520",
    "running_highlight": "#FF0000",
    "selected_highlight": "#FFD700"
   },
   "moveMenuLeft": true,
   "nav_menu": {
    "height": "12px",
    "width": "252px"
   },
   "navigate_menu": true,
   "number_sections": true,
   "sideBar": true,
   "skip_h1_title": false,
   "threshold": 4,
   "title_cell": "Table of Contents",
   "title_sidebar": "Contents",
   "toc_cell": false,
   "toc_position": {},
   "toc_section_display": "block",
   "toc_window_display": false
  }
 },
 "nbformat": 4,
 "nbformat_minor": 2
}
