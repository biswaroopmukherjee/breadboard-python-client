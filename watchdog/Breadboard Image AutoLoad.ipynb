{
 "cells": [
  {
   "cell_type": "code",
   "execution_count": 1,
   "metadata": {
    "code_folding": []
   },
   "outputs": [],
   "source": [
    "# Imports \n",
    "import os\n",
    "import time\n",
    "import datetime\n",
    "import scipy.misc\n",
    "import shutil\n",
    "import numpy as np\n",
    "import posixpath\n",
    "import sys\n",
    "sys.path.insert( 0,os.path.abspath(os.path.join(os.getcwd(), '..')))\n",
    "\n",
    "from breadboard import BreadboardClient\n",
    "bc = BreadboardClient(config_path='API_CONFIG.json', lab_name='fermi1')\n",
    "\n",
    "\n",
    "import warnings\n",
    "warnings.filterwarnings(\"ignore\", \"Your application has authenticated using end user credentials\")\n",
    "warnings.filterwarnings(\"ignore\", \"Could not find appropriate MS Visual C Runtime\")\n"
   ]
  },
  {
   "cell_type": "markdown",
   "metadata": {},
   "source": [
    "# Helper Functions"
   ]
  },
  {
   "cell_type": "code",
   "execution_count": 2,
   "metadata": {
    "code_folding": []
   },
   "outputs": [],
   "source": [
    "def select_today(main_folder=\"\\\\\\\\bec1server\\\\Raw Data\\\\Fermi3\\\\Images\"):\n",
    "    '''\n",
    "    Get today's folder\n",
    "    ===============================\n",
    "    '''\n",
    "    start_time = datetime.datetime.now() \n",
    "    start_year = start_time.strftime('%Y')\n",
    "    start_month = start_time.strftime('%Y-%m')\n",
    "    start_date = start_time.strftime('%Y-%m-%d')\n",
    "    output_folder = os.path.join(main_folder, start_year, start_month, start_date)\n",
    "    if not (os.path.exists(output_folder)): os.makedirs(output_folder)\n",
    "    return output_folder\n",
    "\n",
    "\n",
    "def getFileList(folder = 'Not Provided'):\n",
    "    '''\n",
    "    Get a list of files in a folder\n",
    "    ===============================\n",
    "    '''\n",
    "    # Confirm that given folder path is correct\n",
    "    if not os.path.exists(folder): raise ValueError(\"Folder '{}' doesn't exist\".format(folder))\n",
    "    # Folder contents\n",
    "    filenames = [filename for filename in os.listdir(folder)]\n",
    "    # Output\n",
    "    paths = [os.path.join(folder,f) for f in filenames]\n",
    "    return (filenames, paths)"
   ]
  },
  {
   "cell_type": "markdown",
   "metadata": {},
   "source": [
    "# Main Code"
   ]
  },
  {
   "cell_type": "code",
   "execution_count": 3,
   "metadata": {},
   "outputs": [],
   "source": [
    "# Global settings \n",
    "refresh_time = 0.5 # seconds\n",
    "main_folder = \"/Users/biswaroopmukherjee/Documents/Physics/Research/Zwierlein/testfolder\"\n"
   ]
  },
  {
   "cell_type": "code",
   "execution_count": 29,
   "metadata": {
    "code_folding": [],
    "scrolled": false
   },
   "outputs": [
    {
     "name": "stdout",
     "output_type": "stream",
     "text": [
      "02-10-2020_13_26_07.fits\n",
      "2020-02-21 14:37:50.934848\n"
     ]
    },
    {
     "ename": "KeyboardInterrupt",
     "evalue": "",
     "output_type": "error",
     "traceback": [
      "\u001b[0;31m---------------------------------------------------------------------------\u001b[0m",
      "\u001b[0;31mKeyboardInterrupt\u001b[0m                         Traceback (most recent call last)",
      "\u001b[0;32m<ipython-input-29-0e6647532f7d>\u001b[0m in \u001b[0;36m<module>\u001b[0;34m\u001b[0m\n\u001b[1;32m     29\u001b[0m \u001b[0;34m\u001b[0m\u001b[0m\n\u001b[1;32m     30\u001b[0m     \u001b[0;31m# Wait before checking again\u001b[0m\u001b[0;34m\u001b[0m\u001b[0;34m\u001b[0m\u001b[0;34m\u001b[0m\u001b[0m\n\u001b[0;32m---> 31\u001b[0;31m     \u001b[0mtime\u001b[0m\u001b[0;34m.\u001b[0m\u001b[0msleep\u001b[0m\u001b[0;34m(\u001b[0m\u001b[0mrefresh_time\u001b[0m\u001b[0;34m)\u001b[0m\u001b[0;34m\u001b[0m\u001b[0;34m\u001b[0m\u001b[0m\n\u001b[0m",
      "\u001b[0;31mKeyboardInterrupt\u001b[0m: "
     ]
    }
   ],
   "source": [
    "watchfolder  = select_today(main_folder)\n",
    "names_old, paths_old = getFileList(watchfolder)\n",
    "\n",
    "# Main Loop \n",
    "while True: \n",
    "    # set watchfolder: in this case, it's for example \"main_folder/2020/2020-02/2020-02-21\" if today was 2020-02-21\n",
    "    watchfolder = select_today(main_folder)\n",
    "    # Get a list of all the images in the folder \n",
    "    names, paths = getFileList(today_folder)\n",
    "    names = sorted(names)\n",
    "    paths = sorted(paths)\n",
    "    \n",
    "    # check if a new image has come in\n",
    "    if len(names)>len(names_old):\n",
    "        output_filename = names[-1]\n",
    "        output_filepath = paths[-1]\n",
    "        dt = datetime.datetime.fromtimestamp(os.path.getctime(output_filepath))\n",
    "        \n",
    "        # Write to Breadboard\n",
    "        try:\n",
    "            resp = bc.post_images(\n",
    "                        image_names = os.path.splitext(output_filename)[0],\n",
    "                        filepath = output_filepath,\n",
    "                        image_times = [dt], \n",
    "                        auto_time = False\n",
    "                        )\n",
    "            if resp.status_code!=200:\n",
    "                print(resp.text)\n",
    "        except: pass\n",
    "        names_old = names\n",
    "\n",
    "    # Wait before checking again \n",
    "    time.sleep(refresh_time)"
   ]
  },
  {
   "cell_type": "markdown",
   "metadata": {},
   "source": [
    "# Tests"
   ]
  },
  {
   "cell_type": "code",
   "execution_count": null,
   "metadata": {
    "collapsed": true
   },
   "outputs": [],
   "source": []
  }
 ],
 "metadata": {
  "anaconda-cloud": {},
  "kernelspec": {
   "display_name": "Python 3",
   "language": "python",
   "name": "python3"
  },
  "language_info": {
   "codemirror_mode": {
    "name": "ipython",
    "version": 3
   },
   "file_extension": ".py",
   "mimetype": "text/x-python",
   "name": "python",
   "nbconvert_exporter": "python",
   "pygments_lexer": "ipython3",
   "version": "3.7.6"
  },
  "toc": {
   "base_numbering": 1,
   "colors": {
    "hover_highlight": "#DAA520",
    "running_highlight": "#FF0000",
    "selected_highlight": "#FFD700"
   },
   "moveMenuLeft": true,
   "nav_menu": {
    "height": "12px",
    "width": "252px"
   },
   "navigate_menu": true,
   "number_sections": true,
   "sideBar": true,
   "skip_h1_title": false,
   "threshold": 4,
   "title_cell": "Table of Contents",
   "title_sidebar": "Contents",
   "toc_cell": false,
   "toc_position": {},
   "toc_section_display": "block",
   "toc_window_display": false
  }
 },
 "nbformat": 4,
 "nbformat_minor": 2
}
